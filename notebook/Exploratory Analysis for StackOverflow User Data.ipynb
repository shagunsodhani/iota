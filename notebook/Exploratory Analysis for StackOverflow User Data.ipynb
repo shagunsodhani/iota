{
 "cells": [
  {
   "cell_type": "code",
   "execution_count": 1,
   "metadata": {
    "collapsed": false
   },
   "outputs": [
    {
     "name": "stdout",
     "output_type": "stream",
     "text": [
      "Sample Notebook using StackOverflow User Data.\n"
     ]
    }
   ],
   "source": [
    "print \"Sample Notebook using StackOverflow User Data.\""
   ]
  },
  {
   "cell_type": "code",
   "execution_count": 2,
   "metadata": {
    "collapsed": false
   },
   "outputs": [
    {
     "name": "stdout",
     "output_type": "stream",
     "text": [
      "All imports go in this cell.\n"
     ]
    }
   ],
   "source": [
    "print \"All imports go in this cell.\"\n",
    "\n",
    "import pyspark.sql.functions as func\n",
    "import matplotlib.pyplot as plt\n",
    "import seaborn as sns\n",
    "from pyspark.mllib.stat import Statistics\n",
    "from pyspark.mllib.linalg import Vectors\n",
    "%matplotlib inline"
   ]
  },
  {
   "cell_type": "code",
   "execution_count": 3,
   "metadata": {
    "collapsed": false
   },
   "outputs": [
    {
     "name": "stdout",
     "output_type": "stream",
     "text": [
      "Check if SparkContext and SQLContext has been created.\n",
      "<pyspark.context.SparkContext object at 0x7f9f84104190>\n",
      "<pyspark.sql.context.SQLContext object at 0x7f9f561dc950>\n"
     ]
    }
   ],
   "source": [
    "print \"Check if SparkContext and SQLContext has been created.\"\n",
    "print sc\n",
    "sqlContext = SQLContext(sc)\n",
    "print sqlContext"
   ]
  },
  {
   "cell_type": "code",
   "execution_count": 4,
   "metadata": {
    "collapsed": false
   },
   "outputs": [
    {
     "name": "stdout",
     "output_type": "stream",
     "text": [
      "Load StackOverflow Data and cache it.\n"
     ]
    }
   ],
   "source": [
    "print \"Load StackOverflow Data and cache it.\"\n",
    "dataPath = \"../data/SO/user\"\n",
    "soDF = sqlContext.read.load(dataPath).cache()"
   ]
  },
  {
   "cell_type": "code",
   "execution_count": 5,
   "metadata": {
    "collapsed": false
   },
   "outputs": [
    {
     "name": "stdout",
     "output_type": "stream",
     "text": [
      "Total number of rows in the data = 5277831\n",
      "Schema for user data:\n",
      "root\n",
      " |-- Id: long (nullable = true)\n",
      " |-- Reputation: long (nullable = true)\n",
      " |-- CreationDate: string (nullable = true)\n",
      " |-- DisplayName: string (nullable = true)\n",
      " |-- EmailHash: string (nullable = true)\n",
      " |-- lastAccessDate: string (nullable = true)\n",
      " |-- WebsiteUrl: string (nullable = true)\n",
      " |-- Location: string (nullable = true)\n",
      " |-- Age: long (nullable = true)\n",
      " |-- AboutMe: string (nullable = true)\n",
      " |-- Views: long (nullable = true)\n",
      " |-- UpVotes: long (nullable = true)\n",
      " |-- DownVotes: long (nullable = true)\n",
      " |-- AccountId: long (nullable = true)\n",
      "\n"
     ]
    }
   ],
   "source": [
    "print \"Total number of rows in the data = \" + str(soDF.count())\n",
    "print \"Schema for user data:\"\n",
    "soDF.printSchema()"
   ]
  },
  {
   "cell_type": "code",
   "execution_count": 6,
   "metadata": {
    "collapsed": false
   },
   "outputs": [
    {
     "name": "stdout",
     "output_type": "stream",
     "text": [
      "Before using any algorithm from mllib, we transform this data to a collection of vectors.\n",
      "We filter for certain values that we used as default values (in place of missing values) while parsing the xml file.\n",
      "This vectorData consists of rows, where each row is a vector of data we selected above.\n"
     ]
    },
    {
     "data": {
      "text/plain": [
       "[DenseVector([34.0, 1.0, 0.0, 0.0]),\n",
       " DenseVector([36.0, 44.0, 7.0, 0.0]),\n",
       " DenseVector([50.0, 1.0, 0.0, 0.0]),\n",
       " DenseVector([25.0, 28.0, 27.0, 0.0]),\n",
       " DenseVector([23.0, 28.0, 5.0, 0.0])]"
      ]
     },
     "execution_count": 6,
     "metadata": {},
     "output_type": "execute_result"
    }
   ],
   "source": [
    "print \"Before using any algorithm from mllib, we transform this data to a collection of vectors.\"\n",
    "print \"We filter for certain values that we used as default values (in place of missing values) while parsing \\\n",
    "the xml file.\"\n",
    "vectorData = soDF.filter(\"AccountId > -1 and DownVotes > -1 and UpVotes > -1 and Age > -1 \\\n",
    "and Reputation > -9223372036854775808\").select(\"Age\", \"Reputation\", \"UpVotes\", \"DownVotes\")\\\n",
    ".map(lambda data: Vectors.dense([c for c in data]))\n",
    "print \"This vectorData consists of rows, where each row is a vector of data we selected above.\"\n",
    "vectorData.take(5)"
   ]
  },
  {
   "cell_type": "code",
   "execution_count": 7,
   "metadata": {
    "collapsed": false
   },
   "outputs": [
    {
     "name": "stdout",
     "output_type": "stream",
     "text": [
      "Now we can calculate correlation between each pair of columns and see if we find some thing interesting.\n",
      "[[ 1.          0.06026154  0.06151788  0.02154659]\n",
      " [ 0.06026154  1.          0.5731066   0.34318133]\n",
      " [ 0.06151788  0.5731066   1.          0.33615494]\n",
      " [ 0.02154659  0.34318133  0.33615494  1.        ]]\n"
     ]
    }
   ],
   "source": [
    "print \"Now we can calculate correlation between each pair of columns and see if we find some thing interesting.\"\n",
    "print(Statistics.corr(vectorData, method=\"pearson\"))"
   ]
  },
  {
   "cell_type": "code",
   "execution_count": 8,
   "metadata": {
    "collapsed": false
   },
   "outputs": [
    {
     "name": "stdout",
     "output_type": "stream",
     "text": [
      "Notice the high positive correlation between Reputation and Upvotes. We saw such high correlation between Reputation and Upvotes for AskUbuntu data as well (http://bit.ly/PySparkAU)\n"
     ]
    }
   ],
   "source": [
    "print \"Notice the high positive correlation between Reputation and Upvotes. \\\n",
    "We saw such high correlation between Reputation and Upvotes for AskUbuntu data as well (http://bit.ly/PySparkAU)\""
   ]
  },
  {
   "cell_type": "code",
   "execution_count": 9,
   "metadata": {
    "collapsed": false
   },
   "outputs": [
    {
     "name": "stdout",
     "output_type": "stream",
     "text": [
      "We filter the data to contain only Reputation and UpVotes and filter for rows with defualt values\n",
      "+-------+------------------+------------------+\n",
      "|summary|        Reputation|           UpVotes|\n",
      "+-------+------------------+------------------+\n",
      "|  count|           5277774|           5277774|\n",
      "|   mean| 123.7193824517685|13.152681225077087|\n",
      "| stddev|2162.8354386743945|142.85202062057837|\n",
      "|    min|                 1|                 0|\n",
      "|    max|            849122|             52877|\n",
      "+-------+------------------+------------------+\n",
      "\n"
     ]
    }
   ],
   "source": [
    "print \"We filter the data to contain only Reputation and UpVotes and filter for rows with defualt values\"\n",
    "data = soDF.filter(\"AccountId > -1 and UpVotes > -1 and Reputation > -9223372036854775808\")\\\n",
    "    .select(\"Reputation\", \"UpVotes\").cache()\n",
    "data.describe().show()"
   ]
  },
  {
   "cell_type": "code",
   "execution_count": 10,
   "metadata": {
    "collapsed": false
   },
   "outputs": [
    {
     "name": "stdout",
     "output_type": "stream",
     "text": [
      "Notice that this is the second dataframe that we have cached so far. We can check the memory profile for the app at http://localhost:4040/storage.\n",
      "We no longer need the soDF so we will unpersist it and recover some memory.\n",
      "Check that now only one dataframe is cached for the application. http://localhost:4040/storage.\n"
     ]
    }
   ],
   "source": [
    "print \"Notice that this is the second dataframe that we have cached so far. \\\n",
    "We can check the memory profile for the app at http://localhost:4040/storage.\"\n",
    "print \"We no longer need the soDF so we will unpersist it and recover some memory.\"\n",
    "soDF.unpersist()\n",
    "print \"Check that now only one dataframe is cached for the application. http://localhost:4040/storage.\""
   ]
  },
  {
   "cell_type": "code",
   "execution_count": 11,
   "metadata": {
    "collapsed": false
   },
   "outputs": [
    {
     "name": "stdout",
     "output_type": "stream",
     "text": [
      "Spark is good when it comes to computation but not so good at visualisations.Pandas is good at handling in-memory computations and Pandas dataframes can be visualised easily. So we will load a sample of the dataset into Pandas dataframe using the toPandas method.\n"
     ]
    },
    {
     "data": {
      "text/plain": [
       "<seaborn.axisgrid.JointGrid at 0x7f9f561eb450>"
      ]
     },
     "execution_count": 11,
     "metadata": {},
     "output_type": "execute_result"
    },
    {
     "data": {
      "image/png": "[encoded data removed]",
      "text/plain": [
       "<matplotlib.figure.Figure at 0x7f9f561eb1d0>"
      ]
     },
     "metadata": {},
     "output_type": "display_data"
    }
   ],
   "source": [
    "print \"Spark is good when it comes to computation but not so good at visualisations.\\\n",
    "Pandas is good at handling in-memory computations and Pandas dataframes can be visualised easily. \\\n",
    "So we will load a sample of the dataset into Pandas dataframe using the toPandas method.\"\n",
    "pandasDF = data.sample(False, .1).toPandas()\n",
    "sns.jointplot('Reputation', 'UpVotes', data=pandasDF)"
   ]
  },
  {
   "cell_type": "code",
   "execution_count": 12,
   "metadata": {
    "collapsed": false
   },
   "outputs": [
    {
     "name": "stdout",
     "output_type": "stream",
     "text": [
      "This visualistion is unintutive as most of the data is distributed in a narrow zone and the scale is skewed due to outliers. We will plot the values on the log scale.\n",
      "Now the plot looks much better.\n"
     ]
    },
    {
     "data": {
      "image/png": "[encoded data removed]",
      "text/plain": [
       "<matplotlib.figure.Figure at 0x7f9f56115750>"
      ]
     },
     "metadata": {},
     "output_type": "display_data"
    }
   ],
   "source": [
    "print \"This visualistion is unintutive as most of the data is distributed in a narrow zone and the \\\n",
    "scale is skewed due to outliers. We will plot the values on the log scale.\"\n",
    "logPandasDF = data.select(func.log10(data[\"Reputation\"]), func.log10(data[\"UpVotes\"])).sample(False, .1).toPandas()\n",
    "sns.jointplot('LOG10(Reputation)', 'LOG10(UpVotes)', data=logPandasDF)\n",
    "print \"Now the plot looks much better.\""
   ]
  },
  {
   "cell_type": "code",
   "execution_count": 13,
   "metadata": {
    "collapsed": false
   },
   "outputs": [
    {
     "name": "stdout",
     "output_type": "stream",
     "text": [
      "We will now play with the CreationDate column now.\n",
      "root\n",
      " |-- CreationDate: string (nullable = true)\n",
      "\n",
      "+--------------------+\n",
      "|        CreationDate|\n",
      "+--------------------+\n",
      "|2014-10-20T17:06:...|\n",
      "|2014-10-20T17:06:...|\n",
      "|2014-10-20T17:07:...|\n",
      "|2014-10-20T17:07:...|\n",
      "|2014-10-20T17:07:...|\n",
      "|2014-10-20T17:07:...|\n",
      "|2014-10-20T17:08:...|\n",
      "|2014-10-20T17:08:...|\n",
      "|2014-10-20T17:08:...|\n",
      "|2014-10-20T17:09:...|\n",
      "|2014-10-20T17:09:...|\n",
      "|2014-10-20T17:09:...|\n",
      "|2014-10-20T17:09:...|\n",
      "|2014-10-20T17:10:...|\n",
      "|2014-10-20T17:10:...|\n",
      "|2014-10-20T17:11:...|\n",
      "|2014-10-20T17:11:...|\n",
      "|2014-10-20T17:11:...|\n",
      "|2014-10-20T17:11:...|\n",
      "|2014-10-20T17:11:...|\n",
      "+--------------------+\n",
      "only showing top 20 rows\n",
      "\n"
     ]
    }
   ],
   "source": [
    "print \"We will now play with the CreationDate column now.\"\n",
    "creationDateDF = sqlContext.read.load(dataPath).select(\"CreationDate\").cache()\n",
    "creationDateDF.printSchema()\n",
    "creationDateDF.show()"
   ]
  },
  {
   "cell_type": "code",
   "execution_count": 14,
   "metadata": {
    "collapsed": false
   },
   "outputs": [
    {
     "name": "stdout",
     "output_type": "stream",
     "text": [
      "Note that date was parsed as string. Let us transform it to dateType. For that, we select CreationDate as *date* value.\n",
      "+------------+\n",
      "|CreationDate|\n",
      "+------------+\n",
      "|  2014-10-20|\n",
      "|  2014-10-20|\n",
      "|  2014-10-20|\n",
      "|  2014-10-20|\n",
      "|  2014-10-20|\n",
      "|  2014-10-20|\n",
      "|  2014-10-20|\n",
      "|  2014-10-20|\n",
      "|  2014-10-20|\n",
      "|  2014-10-20|\n",
      "|  2014-10-20|\n",
      "|  2014-10-20|\n",
      "|  2014-10-20|\n",
      "|  2014-10-20|\n",
      "|  2014-10-20|\n",
      "|  2014-10-20|\n",
      "|  2014-10-20|\n",
      "|  2014-10-20|\n",
      "|  2014-10-20|\n",
      "|  2014-10-20|\n",
      "+------------+\n",
      "only showing top 20 rows\n",
      "\n",
      "root\n",
      " |-- CreationDate: date (nullable = true)\n",
      "\n"
     ]
    }
   ],
   "source": [
    "print \"Note that date was parsed as string. Let us transform it to dateType. \\\n",
    "For that, we select CreationDate as *date* value.\"\n",
    "dateDF = creationDateDF.select(func.to_date(creationDateDF[\"CreationDate\"]).alias(\"CreationDate\"))\n",
    "dateDF.show()\n",
    "dateDF.printSchema()"
   ]
  },
  {
   "cell_type": "code",
   "execution_count": 15,
   "metadata": {
    "collapsed": false
   },
   "outputs": [
    {
     "name": "stdout",
     "output_type": "stream",
     "text": [
      "Now we want to count the number of new accounts each day.\n",
      "tempDF maps each date to number of accounts that were created.\n",
      "root\n",
      " |-- _1: struct (nullable = true)\n",
      " |    |-- CreationDate: date (nullable = true)\n",
      " |-- _2: long (nullable = true)\n",
      "\n",
      "Notice that we have lost the column names and that our date column is converted into a struct column. Let us fix these things and sample some data into Pandas dataframe.\n"
     ]
    }
   ],
   "source": [
    "print \"Now we want to count the number of new accounts each day.\"\n",
    "tempDF = dateDF.map(lambda a: (a, 1)).reduceByKey(lambda a, b: a+b).toDF()\n",
    "print \"tempDF maps each date to number of accounts that were created.\"\n",
    "tempDF.printSchema()\n",
    "print \"Notice that we have lost the column names and that our date column is converted into a struct column. \\\n",
    "Let us fix these things and sample some data into Pandas dataframe.\""
   ]
  },
  {
   "cell_type": "code",
   "execution_count": 16,
   "metadata": {
    "collapsed": false
   },
   "outputs": [
    {
     "data": {
      "text/html": [
       "<div>\n",
       "<table border=\"1\" class=\"dataframe\">\n",
       "  <thead>\n",
       "    <tr style=\"text-align: right;\">\n",
       "      <th></th>\n",
       "      <th>CreationDate</th>\n",
       "      <th>NewAccounts</th>\n",
       "    </tr>\n",
       "  </thead>\n",
       "  <tbody>\n",
       "    <tr>\n",
       "      <th>0</th>\n",
       "      <td>2008-07-31</td>\n",
       "      <td>9</td>\n",
       "    </tr>\n",
       "    <tr>\n",
       "      <th>1</th>\n",
       "      <td>2008-08-01</td>\n",
       "      <td>80</td>\n",
       "    </tr>\n",
       "    <tr>\n",
       "      <th>2</th>\n",
       "      <td>2008-08-02</td>\n",
       "      <td>54</td>\n",
       "    </tr>\n",
       "    <tr>\n",
       "      <th>3</th>\n",
       "      <td>2008-08-03</td>\n",
       "      <td>54</td>\n",
       "    </tr>\n",
       "    <tr>\n",
       "      <th>4</th>\n",
       "      <td>2008-08-04</td>\n",
       "      <td>83</td>\n",
       "    </tr>\n",
       "    <tr>\n",
       "      <th>5</th>\n",
       "      <td>2008-08-05</td>\n",
       "      <td>86</td>\n",
       "    </tr>\n",
       "    <tr>\n",
       "      <th>6</th>\n",
       "      <td>2008-08-06</td>\n",
       "      <td>89</td>\n",
       "    </tr>\n",
       "    <tr>\n",
       "      <th>7</th>\n",
       "      <td>2008-08-07</td>\n",
       "      <td>81</td>\n",
       "    </tr>\n",
       "    <tr>\n",
       "      <th>8</th>\n",
       "      <td>2008-08-08</td>\n",
       "      <td>66</td>\n",
       "    </tr>\n",
       "    <tr>\n",
       "      <th>9</th>\n",
       "      <td>2008-08-09</td>\n",
       "      <td>64</td>\n",
       "    </tr>\n",
       "    <tr>\n",
       "      <th>10</th>\n",
       "      <td>2008-08-10</td>\n",
       "      <td>67</td>\n",
       "    </tr>\n",
       "    <tr>\n",
       "      <th>11</th>\n",
       "      <td>2008-08-11</td>\n",
       "      <td>85</td>\n",
       "    </tr>\n",
       "    <tr>\n",
       "      <th>12</th>\n",
       "      <td>2008-08-12</td>\n",
       "      <td>70</td>\n",
       "    </tr>\n",
       "    <tr>\n",
       "      <th>13</th>\n",
       "      <td>2008-08-13</td>\n",
       "      <td>74</td>\n",
       "    </tr>\n",
       "    <tr>\n",
       "      <th>14</th>\n",
       "      <td>2008-08-14</td>\n",
       "      <td>92</td>\n",
       "    </tr>\n",
       "    <tr>\n",
       "      <th>15</th>\n",
       "      <td>2008-08-15</td>\n",
       "      <td>88</td>\n",
       "    </tr>\n",
       "    <tr>\n",
       "      <th>16</th>\n",
       "      <td>2008-08-16</td>\n",
       "      <td>62</td>\n",
       "    </tr>\n",
       "    <tr>\n",
       "      <th>17</th>\n",
       "      <td>2008-08-17</td>\n",
       "      <td>72</td>\n",
       "    </tr>\n",
       "    <tr>\n",
       "      <th>18</th>\n",
       "      <td>2008-08-18</td>\n",
       "      <td>134</td>\n",
       "    </tr>\n",
       "    <tr>\n",
       "      <th>19</th>\n",
       "      <td>2008-08-19</td>\n",
       "      <td>139</td>\n",
       "    </tr>\n",
       "    <tr>\n",
       "      <th>20</th>\n",
       "      <td>2008-08-20</td>\n",
       "      <td>118</td>\n",
       "    </tr>\n",
       "    <tr>\n",
       "      <th>21</th>\n",
       "      <td>2008-08-21</td>\n",
       "      <td>107</td>\n",
       "    </tr>\n",
       "    <tr>\n",
       "      <th>22</th>\n",
       "      <td>2008-08-22</td>\n",
       "      <td>112</td>\n",
       "    </tr>\n",
       "    <tr>\n",
       "      <th>23</th>\n",
       "      <td>2008-08-23</td>\n",
       "      <td>63</td>\n",
       "    </tr>\n",
       "    <tr>\n",
       "      <th>24</th>\n",
       "      <td>2008-08-24</td>\n",
       "      <td>93</td>\n",
       "    </tr>\n",
       "    <tr>\n",
       "      <th>25</th>\n",
       "      <td>2008-08-25</td>\n",
       "      <td>100</td>\n",
       "    </tr>\n",
       "    <tr>\n",
       "      <th>26</th>\n",
       "      <td>2008-08-26</td>\n",
       "      <td>158</td>\n",
       "    </tr>\n",
       "    <tr>\n",
       "      <th>27</th>\n",
       "      <td>2008-08-27</td>\n",
       "      <td>124</td>\n",
       "    </tr>\n",
       "    <tr>\n",
       "      <th>28</th>\n",
       "      <td>2008-08-28</td>\n",
       "      <td>141</td>\n",
       "    </tr>\n",
       "    <tr>\n",
       "      <th>29</th>\n",
       "      <td>2008-08-29</td>\n",
       "      <td>106</td>\n",
       "    </tr>\n",
       "    <tr>\n",
       "      <th>...</th>\n",
       "      <td>...</td>\n",
       "      <td>...</td>\n",
       "    </tr>\n",
       "    <tr>\n",
       "      <th>2746</th>\n",
       "      <td>2016-02-06</td>\n",
       "      <td>3008</td>\n",
       "    </tr>\n",
       "    <tr>\n",
       "      <th>2747</th>\n",
       "      <td>2016-02-07</td>\n",
       "      <td>2819</td>\n",
       "    </tr>\n",
       "    <tr>\n",
       "      <th>2748</th>\n",
       "      <td>2016-02-08</td>\n",
       "      <td>4324</td>\n",
       "    </tr>\n",
       "    <tr>\n",
       "      <th>2749</th>\n",
       "      <td>2016-02-09</td>\n",
       "      <td>4841</td>\n",
       "    </tr>\n",
       "    <tr>\n",
       "      <th>2750</th>\n",
       "      <td>2016-02-10</td>\n",
       "      <td>5241</td>\n",
       "    </tr>\n",
       "    <tr>\n",
       "      <th>2751</th>\n",
       "      <td>2016-02-11</td>\n",
       "      <td>4958</td>\n",
       "    </tr>\n",
       "    <tr>\n",
       "      <th>2752</th>\n",
       "      <td>2016-02-12</td>\n",
       "      <td>4581</td>\n",
       "    </tr>\n",
       "    <tr>\n",
       "      <th>2753</th>\n",
       "      <td>2016-02-13</td>\n",
       "      <td>2858</td>\n",
       "    </tr>\n",
       "    <tr>\n",
       "      <th>2754</th>\n",
       "      <td>2016-02-14</td>\n",
       "      <td>2731</td>\n",
       "    </tr>\n",
       "    <tr>\n",
       "      <th>2755</th>\n",
       "      <td>2016-02-15</td>\n",
       "      <td>4750</td>\n",
       "    </tr>\n",
       "    <tr>\n",
       "      <th>2756</th>\n",
       "      <td>2016-02-16</td>\n",
       "      <td>5173</td>\n",
       "    </tr>\n",
       "    <tr>\n",
       "      <th>2757</th>\n",
       "      <td>2016-02-17</td>\n",
       "      <td>5330</td>\n",
       "    </tr>\n",
       "    <tr>\n",
       "      <th>2758</th>\n",
       "      <td>2016-02-18</td>\n",
       "      <td>5330</td>\n",
       "    </tr>\n",
       "    <tr>\n",
       "      <th>2759</th>\n",
       "      <td>2016-02-19</td>\n",
       "      <td>5136</td>\n",
       "    </tr>\n",
       "    <tr>\n",
       "      <th>2760</th>\n",
       "      <td>2016-02-20</td>\n",
       "      <td>3353</td>\n",
       "    </tr>\n",
       "    <tr>\n",
       "      <th>2761</th>\n",
       "      <td>2016-02-21</td>\n",
       "      <td>3196</td>\n",
       "    </tr>\n",
       "    <tr>\n",
       "      <th>2762</th>\n",
       "      <td>2016-02-22</td>\n",
       "      <td>5289</td>\n",
       "    </tr>\n",
       "    <tr>\n",
       "      <th>2763</th>\n",
       "      <td>2016-02-23</td>\n",
       "      <td>5625</td>\n",
       "    </tr>\n",
       "    <tr>\n",
       "      <th>2764</th>\n",
       "      <td>2016-02-24</td>\n",
       "      <td>5812</td>\n",
       "    </tr>\n",
       "    <tr>\n",
       "      <th>2765</th>\n",
       "      <td>2016-02-25</td>\n",
       "      <td>5850</td>\n",
       "    </tr>\n",
       "    <tr>\n",
       "      <th>2766</th>\n",
       "      <td>2016-02-26</td>\n",
       "      <td>5167</td>\n",
       "    </tr>\n",
       "    <tr>\n",
       "      <th>2767</th>\n",
       "      <td>2016-02-27</td>\n",
       "      <td>3188</td>\n",
       "    </tr>\n",
       "    <tr>\n",
       "      <th>2768</th>\n",
       "      <td>2016-02-28</td>\n",
       "      <td>3138</td>\n",
       "    </tr>\n",
       "    <tr>\n",
       "      <th>2769</th>\n",
       "      <td>2016-02-29</td>\n",
       "      <td>4936</td>\n",
       "    </tr>\n",
       "    <tr>\n",
       "      <th>2770</th>\n",
       "      <td>2016-03-01</td>\n",
       "      <td>5029</td>\n",
       "    </tr>\n",
       "    <tr>\n",
       "      <th>2771</th>\n",
       "      <td>2016-03-02</td>\n",
       "      <td>5313</td>\n",
       "    </tr>\n",
       "    <tr>\n",
       "      <th>2772</th>\n",
       "      <td>2016-03-03</td>\n",
       "      <td>5253</td>\n",
       "    </tr>\n",
       "    <tr>\n",
       "      <th>2773</th>\n",
       "      <td>2016-03-04</td>\n",
       "      <td>4760</td>\n",
       "    </tr>\n",
       "    <tr>\n",
       "      <th>2774</th>\n",
       "      <td>2016-03-05</td>\n",
       "      <td>3076</td>\n",
       "    </tr>\n",
       "    <tr>\n",
       "      <th>2775</th>\n",
       "      <td>2016-03-06</td>\n",
       "      <td>425</td>\n",
       "    </tr>\n",
       "  </tbody>\n",
       "</table>\n",
       "<p>2776 rows × 2 columns</p>\n",
       "</div>"
      ],
      "text/plain": [
       "     CreationDate  NewAccounts\n",
       "0      2008-07-31            9\n",
       "1      2008-08-01           80\n",
       "2      2008-08-02           54\n",
       "3      2008-08-03           54\n",
       "4      2008-08-04           83\n",
       "5      2008-08-05           86\n",
       "6      2008-08-06           89\n",
       "7      2008-08-07           81\n",
       "8      2008-08-08           66\n",
       "9      2008-08-09           64\n",
       "10     2008-08-10           67\n",
       "11     2008-08-11           85\n",
       "12     2008-08-12           70\n",
       "13     2008-08-13           74\n",
       "14     2008-08-14           92\n",
       "15     2008-08-15           88\n",
       "16     2008-08-16           62\n",
       "17     2008-08-17           72\n",
       "18     2008-08-18          134\n",
       "19     2008-08-19          139\n",
       "20     2008-08-20          118\n",
       "21     2008-08-21          107\n",
       "22     2008-08-22          112\n",
       "23     2008-08-23           63\n",
       "24     2008-08-24           93\n",
       "25     2008-08-25          100\n",
       "26     2008-08-26          158\n",
       "27     2008-08-27          124\n",
       "28     2008-08-28          141\n",
       "29     2008-08-29          106\n",
       "...           ...          ...\n",
       "2746   2016-02-06         3008\n",
       "2747   2016-02-07         2819\n",
       "2748   2016-02-08         4324\n",
       "2749   2016-02-09         4841\n",
       "2750   2016-02-10         5241\n",
       "2751   2016-02-11         4958\n",
       "2752   2016-02-12         4581\n",
       "2753   2016-02-13         2858\n",
       "2754   2016-02-14         2731\n",
       "2755   2016-02-15         4750\n",
       "2756   2016-02-16         5173\n",
       "2757   2016-02-17         5330\n",
       "2758   2016-02-18         5330\n",
       "2759   2016-02-19         5136\n",
       "2760   2016-02-20         3353\n",
       "2761   2016-02-21         3196\n",
       "2762   2016-02-22         5289\n",
       "2763   2016-02-23         5625\n",
       "2764   2016-02-24         5812\n",
       "2765   2016-02-25         5850\n",
       "2766   2016-02-26         5167\n",
       "2767   2016-02-27         3188\n",
       "2768   2016-02-28         3138\n",
       "2769   2016-02-29         4936\n",
       "2770   2016-03-01         5029\n",
       "2771   2016-03-02         5313\n",
       "2772   2016-03-03         5253\n",
       "2773   2016-03-04         4760\n",
       "2774   2016-03-05         3076\n",
       "2775   2016-03-06          425\n",
       "\n",
       "[2776 rows x 2 columns]"
      ]
     },
     "execution_count": 16,
     "metadata": {},
     "output_type": "execute_result"
    }
   ],
   "source": [
    "pandasDF = tempDF.select(tempDF[\"_1\"].getField(\"CreationDate\").alias(\"CreationDate\"), tempDF[\"_2\"].alias(\"NewAccounts\"))\\\n",
    ".orderBy(func.asc(\"CreationDate\")).toPandas()\n",
    "pandasDF"
   ]
  },
  {
   "cell_type": "code",
   "execution_count": 17,
   "metadata": {
    "collapsed": false
   },
   "outputs": [
    {
     "name": "stdout",
     "output_type": "stream",
     "text": [
      "Let us plot this data and see if there is any interesting observation.\n"
     ]
    },
    {
     "data": {
      "text/plain": [
       "[<matplotlib.lines.Line2D at 0x7f9f529852d0>]"
      ]
     },
     "execution_count": 17,
     "metadata": {},
     "output_type": "execute_result"
    },
    {
     "data": {
      "image/png": "[encoded data removed]",
      "text/plain": [
       "<matplotlib.figure.Figure at 0x7f9f4b5affd0>"
      ]
     },
     "metadata": {},
     "output_type": "display_data"
    }
   ],
   "source": [
    "print \"Let us plot this data and see if there is any interesting observation.\"\n",
    "plt.plot(pandasDF.CreationDate, pandasDF.NewAccounts)"
   ]
  },
  {
   "cell_type": "code",
   "execution_count": 18,
   "metadata": {
    "collapsed": false
   },
   "outputs": [
    {
     "name": "stdout",
     "output_type": "stream",
     "text": [
      "The general trend is that the number of user accounts has been increasing with each year. We have a spike corresponding to 15th september, 2008. That is not surprising given that this was the date when StackOverflow was opened to public. Check out [this](http://www.joelonsoftware.com/items/2008/09/15.html) post by Joel Spolsky announcing this. Excluding this date, we see that the numbers tend to vary within a band and that the band boundary is moving upwards.\n",
      "To open the plot in interactive mode, uncomment the code below and run the cell again.\n"
     ]
    }
   ],
   "source": [
    "print \"The general trend is that the number of user accounts has been increasing with each year. \\\n",
    "We have a spike corresponding to 15th september, 2008. That is not surprising given that this was the date when \\\n",
    "StackOverflow was opened to public. Check out [this](http://www.joelonsoftware.com/items/2008/09/15.html) \\\n",
    "post by Joel Spolsky announcing this. Excluding this date, we see that the numbers tend to vary within a band \\\n",
    "and that the band boundary is moving upwards.\"\n",
    "print \"To open the plot in interactive mode, uncomment the code below and run the cell again.\"\n",
    "# %matplotlib qt\n",
    "# plt.plot(pandasDF.CreationDate, pandasDF.NewAccounts)"
   ]
  }
 ],
 "metadata": {
  "kernelspec": {
   "display_name": "Python 2",
   "language": "python",
   "name": "python2"
  },
  "language_info": {
   "codemirror_mode": {
    "name": "ipython",
    "version": 2
   },
   "file_extension": ".py",
   "mimetype": "text/x-python",
   "name": "python",
   "nbconvert_exporter": "python",
   "pygments_lexer": "ipython2",
   "version": "2.7.6"
  }
 },
 "nbformat": 4,
 "nbformat_minor": 0
}
