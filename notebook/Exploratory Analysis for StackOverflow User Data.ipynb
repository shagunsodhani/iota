{
 "cells": [
  {
   "cell_type": "code",
   "execution_count": 1,
   "metadata": {
    "collapsed": false
   },
   "outputs": [
    {
     "name": "stdout",
     "output_type": "stream",
     "text": [
      "Sample Notebook using StackOverflow User Data.\n"
     ]
    }
   ],
   "source": [
    "print \"Sample Notebook using StackOverflow User Data.\""
   ]
  },
  {
   "cell_type": "code",
   "execution_count": 2,
   "metadata": {
    "collapsed": false
   },
   "outputs": [
    {
     "name": "stdout",
     "output_type": "stream",
     "text": [
      "All imports go in this cell.\n"
     ]
    }
   ],
   "source": [
    "print \"All imports go in this cell.\"\n",
    "\n",
    "import pyspark.sql.functions as func\n",
    "import matplotlib.pyplot as plt\n",
    "import seaborn as sns\n",
    "from pyspark.mllib.stat import Statistics\n",
    "from pyspark.mllib.linalg import Vectors\n",
    "%matplotlib inline"
   ]
  },
  {
   "cell_type": "code",
   "execution_count": 3,
   "metadata": {
    "collapsed": false
   },
   "outputs": [
    {
     "name": "stdout",
     "output_type": "stream",
     "text": [
      "Check if SparkContext and SQLContext has been created.\n",
      "<pyspark.context.SparkContext object at 0x7f5db006e190>\n",
      "<pyspark.sql.context.SQLContext object at 0x7f5d8c606950>\n"
     ]
    }
   ],
   "source": [
    "print \"Check if SparkContext and SQLContext has been created.\"\n",
    "print sc\n",
    "sqlContext = SQLContext(sc)\n",
    "print sqlContext"
   ]
  },
  {
   "cell_type": "code",
   "execution_count": 4,
   "metadata": {
    "collapsed": false
   },
   "outputs": [
    {
     "name": "stdout",
     "output_type": "stream",
     "text": [
      "Load StackOverflow Data and cache it.\n"
     ]
    }
   ],
   "source": [
    "print \"Load StackOverflow Data and cache it.\"\n",
    "dataPath = \"../data/SO/user\"\n",
    "soDF = sqlContext.read.load(dataPath).cache()"
   ]
  },
  {
   "cell_type": "code",
   "execution_count": 5,
   "metadata": {
    "collapsed": false
   },
   "outputs": [
    {
     "name": "stdout",
     "output_type": "stream",
     "text": [
      "Total number of rows in the data = 5277831\n",
      "Schema for user data:\n",
      "root\n",
      " |-- Id: long (nullable = true)\n",
      " |-- Reputation: long (nullable = true)\n",
      " |-- CreationDate: string (nullable = true)\n",
      " |-- DisplayName: string (nullable = true)\n",
      " |-- EmailHash: string (nullable = true)\n",
      " |-- lastAccessDate: string (nullable = true)\n",
      " |-- WebsiteUrl: string (nullable = true)\n",
      " |-- Location: string (nullable = true)\n",
      " |-- Age: long (nullable = true)\n",
      " |-- AboutMe: string (nullable = true)\n",
      " |-- Views: long (nullable = true)\n",
      " |-- UpVotes: long (nullable = true)\n",
      " |-- DownVotes: long (nullable = true)\n",
      " |-- AccountId: long (nullable = true)\n",
      "\n"
     ]
    }
   ],
   "source": [
    "print \"Total number of rows in the data = \" + str(soDF.count())\n",
    "print \"Schema for user data:\"\n",
    "soDF.printSchema()"
   ]
  },
  {
   "cell_type": "code",
   "execution_count": 6,
   "metadata": {
    "collapsed": false
   },
   "outputs": [
    {
     "name": "stdout",
     "output_type": "stream",
     "text": [
      "Before using any algorithm from mllib, we transform this data to a collection of vectors.\n",
      "We filter for certain values that we used as default values (in place of missing values) while parsing the xml file.\n",
      "This vectorData consists of rows, where each row is a vector of data we selected above.\n"
     ]
    },
    {
     "data": {
      "text/plain": [
       "[DenseVector([34.0, 1.0, 0.0, 0.0]),\n",
       " DenseVector([36.0, 44.0, 7.0, 0.0]),\n",
       " DenseVector([50.0, 1.0, 0.0, 0.0]),\n",
       " DenseVector([25.0, 28.0, 27.0, 0.0]),\n",
       " DenseVector([23.0, 28.0, 5.0, 0.0])]"
      ]
     },
     "execution_count": 6,
     "metadata": {},
     "output_type": "execute_result"
    }
   ],
   "source": [
    "print \"Before using any algorithm from mllib, we transform this data to a collection of vectors.\"\n",
    "print \"We filter for certain values that we used as default values (in place of missing values) while parsing \\\n",
    "the xml file.\"\n",
    "vectorData = soDF.filter(\"AccountId > -1 and DownVotes > -1 and UpVotes > -1 and Age > -1 \\\n",
    "and Reputation > -9223372036854775808\").select(\"Age\", \"Reputation\", \"UpVotes\", \"DownVotes\")\\\n",
    ".map(lambda data: Vectors.dense([c for c in data]))\n",
    "print \"This vectorData consists of rows, where each row is a vector of data we selected above.\"\n",
    "vectorData.take(5)"
   ]
  },
  {
   "cell_type": "code",
   "execution_count": 7,
   "metadata": {
    "collapsed": false
   },
   "outputs": [
    {
     "name": "stdout",
     "output_type": "stream",
     "text": [
      "Now we can calculate correlation between each pair of columns and see if we find some thing interesting.\n",
      "[[ 1.          0.06026154  0.06151788  0.02154659]\n",
      " [ 0.06026154  1.          0.5731066   0.34318133]\n",
      " [ 0.06151788  0.5731066   1.          0.33615494]\n",
      " [ 0.02154659  0.34318133  0.33615494  1.        ]]\n"
     ]
    }
   ],
   "source": [
    "print \"Now we can calculate correlation between each pair of columns and see if we find some thing interesting.\"\n",
    "print(Statistics.corr(vectorData, method=\"pearson\"))"
   ]
  },
  {
   "cell_type": "code",
   "execution_count": 8,
   "metadata": {
    "collapsed": false
   },
   "outputs": [
    {
     "name": "stdout",
     "output_type": "stream",
     "text": [
      "Notice the high positive correlation between Reputation and Upvotes. We saw such high correlation between Reputation and Upvotes for AskUbuntu data as well (http://bit.ly/PySparkAU)\n"
     ]
    }
   ],
   "source": [
    "print \"Notice the high positive correlation between Reputation and Upvotes. \\\n",
    "We saw such high correlation between Reputation and Upvotes for AskUbuntu data as well (http://bit.ly/PySparkAU)\""
   ]
  },
  {
   "cell_type": "code",
   "execution_count": 9,
   "metadata": {
    "collapsed": false
   },
   "outputs": [
    {
     "name": "stdout",
     "output_type": "stream",
     "text": [
      "We filter the data to contain only Reputation and UpVotes and filter for rows with defualt values\n",
      "+-------+------------------+------------------+\n",
      "|summary|        Reputation|           UpVotes|\n",
      "+-------+------------------+------------------+\n",
      "|  count|           5277774|           5277774|\n",
      "|   mean| 123.7193824517685|13.152681225077087|\n",
      "| stddev|2162.8354386743945|142.85202062057837|\n",
      "|    min|                 1|                 0|\n",
      "|    max|            849122|             52877|\n",
      "+-------+------------------+------------------+\n",
      "\n"
     ]
    }
   ],
   "source": [
    "print \"We filter the data to contain only Reputation and UpVotes and filter for rows with defualt values\"\n",
    "data = soDF.filter(\"AccountId > -1 and UpVotes > -1 and Reputation > -9223372036854775808\")\\\n",
    "    .select(\"Reputation\", \"UpVotes\").cache()\n",
    "data.describe().show()"
   ]
  },
  {
   "cell_type": "code",
   "execution_count": 10,
   "metadata": {
    "collapsed": false
   },
   "outputs": [
    {
     "name": "stdout",
     "output_type": "stream",
     "text": [
      "Notice that this is the second dataframe that we have cached so far. We can check the memory profile for the app at http://localhost:4040/storage.\n",
      "We no longer need the soDF so we will unpersist it and recover some memory.\n",
      "Check that now only one dataframe is cached for the application. http://localhost:4040/storage.\n"
     ]
    }
   ],
   "source": [
    "print \"Notice that this is the second dataframe that we have cached so far. \\\n",
    "We can check the memory profile for the app at http://localhost:4040/storage.\"\n",
    "print \"We no longer need the soDF so we will unpersist it and recover some memory.\"\n",
    "soDF.unpersist()\n",
    "print \"Check that now only one dataframe is cached for the application. http://localhost:4040/storage.\""
   ]
  },
  {
   "cell_type": "code",
   "execution_count": 11,
   "metadata": {
    "collapsed": false
   },
   "outputs": [
    {
     "name": "stdout",
     "output_type": "stream",
     "text": [
      "Spark is good when it comes to computation but not so good at visualisations.Pandas is good at handling in-memory computations and Pandas dataframes can be visualised easily. So we will load a sample of the dataset into Pandas dataframe using the toPandas method.\n"
     ]
    },
    {
     "data": {
      "text/plain": [
       "<seaborn.axisgrid.JointGrid at 0x7f5d8c853510>"
      ]
     },
     "execution_count": 11,
     "metadata": {},
     "output_type": "execute_result"
    },
    {
     "data": {
      "image/png": "[encoded data removed]",
      "text/plain": [
       "<matplotlib.figure.Figure at 0x7f5d8c5f7f10>"
      ]
     },
     "metadata": {},
     "output_type": "display_data"
    }
   ],
   "source": [
    "print \"Spark is good when it comes to computation but not so good at visualisations.\\\n",
    "Pandas is good at handling in-memory computations and Pandas dataframes can be visualised easily. \\\n",
    "So we will load a sample of the dataset into Pandas dataframe using the toPandas method.\"\n",
    "pandasDF = data.sample(False, .1).toPandas()\n",
    "sns.jointplot('Reputation', 'UpVotes', data=pandasDF)"
   ]
  },
  {
   "cell_type": "code",
   "execution_count": 12,
   "metadata": {
    "collapsed": false
   },
   "outputs": [
    {
     "name": "stdout",
     "output_type": "stream",
     "text": [
      "This visualistion is unintutive as most of the data is distributed in a narrow zone and the scale is skewed due to outliers. We will plot the values on the log scale.\n",
      "Now the plot looks much better.\n"
     ]
    },
    {
     "data": {
      "image/png": "[encoded data removed]",
      "text/plain": [
       "<matplotlib.figure.Figure at 0x7f5d8c597490>"
      ]
     },
     "metadata": {},
     "output_type": "display_data"
    }
   ],
   "source": [
    "print \"This visualistion is unintutive as most of the data is distributed in a narrow zone and the \\\n",
    "scale is skewed due to outliers. We will plot the values on the log scale.\"\n",
    "logPandasDF = data.select(func.log10(data[\"Reputation\"]), func.log10(data[\"UpVotes\"])).sample(False, .1).toPandas()\n",
    "sns.jointplot('LOG10(Reputation)', 'LOG10(UpVotes)', data=logPandasDF)\n",
    "print \"Now the plot looks much better.\""
   ]
  },
  {
   "cell_type": "code",
   "execution_count": 13,
   "metadata": {
    "collapsed": false
   },
   "outputs": [
    {
     "name": "stdout",
     "output_type": "stream",
     "text": [
      "We will now play with the CreationDate column now.\n",
      "root\n",
      " |-- CreationDate: string (nullable = true)\n",
      "\n",
      "+--------------------+\n",
      "|        CreationDate|\n",
      "+--------------------+\n",
      "|2014-10-20T17:06:...|\n",
      "|2014-10-20T17:06:...|\n",
      "|2014-10-20T17:07:...|\n",
      "|2014-10-20T17:07:...|\n",
      "|2014-10-20T17:07:...|\n",
      "|2014-10-20T17:07:...|\n",
      "|2014-10-20T17:08:...|\n",
      "|2014-10-20T17:08:...|\n",
      "|2014-10-20T17:08:...|\n",
      "|2014-10-20T17:09:...|\n",
      "|2014-10-20T17:09:...|\n",
      "|2014-10-20T17:09:...|\n",
      "|2014-10-20T17:09:...|\n",
      "|2014-10-20T17:10:...|\n",
      "|2014-10-20T17:10:...|\n",
      "|2014-10-20T17:11:...|\n",
      "|2014-10-20T17:11:...|\n",
      "|2014-10-20T17:11:...|\n",
      "|2014-10-20T17:11:...|\n",
      "|2014-10-20T17:11:...|\n",
      "+--------------------+\n",
      "only showing top 20 rows\n",
      "\n"
     ]
    }
   ],
   "source": [
    "print \"We will now play with the CreationDate column now.\"\n",
    "creationDateDF = sqlContext.read.load(dataPath).select(\"CreationDate\").cache()\n",
    "creationDateDF.printSchema()\n",
    "creationDateDF.show()"
   ]
  },
  {
   "cell_type": "code",
   "execution_count": 14,
   "metadata": {
    "collapsed": false
   },
   "outputs": [
    {
     "name": "stdout",
     "output_type": "stream",
     "text": [
      "Note that date was parsed as string. Let us transform it to dateType. For that, we select CreationDate as *date* value.\n",
      "+------------+\n",
      "|CreationDate|\n",
      "+------------+\n",
      "|  2014-10-20|\n",
      "|  2014-10-20|\n",
      "|  2014-10-20|\n",
      "|  2014-10-20|\n",
      "|  2014-10-20|\n",
      "|  2014-10-20|\n",
      "|  2014-10-20|\n",
      "|  2014-10-20|\n",
      "|  2014-10-20|\n",
      "|  2014-10-20|\n",
      "|  2014-10-20|\n",
      "|  2014-10-20|\n",
      "|  2014-10-20|\n",
      "|  2014-10-20|\n",
      "|  2014-10-20|\n",
      "|  2014-10-20|\n",
      "|  2014-10-20|\n",
      "|  2014-10-20|\n",
      "|  2014-10-20|\n",
      "|  2014-10-20|\n",
      "+------------+\n",
      "only showing top 20 rows\n",
      "\n",
      "root\n",
      " |-- CreationDate: date (nullable = true)\n",
      "\n"
     ]
    }
   ],
   "source": [
    "print \"Note that date was parsed as string. Let us transform it to dateType. \\\n",
    "For that, we select CreationDate as *date* value.\"\n",
    "dateDF = creationDateDF.select(func.to_date(creationDateDF[\"CreationDate\"]).alias(\"CreationDate\"))\n",
    "dateDF.show()\n",
    "dateDF.printSchema()"
   ]
  },
  {
   "cell_type": "code",
   "execution_count": null,
   "metadata": {
    "collapsed": false
   },
   "outputs": [
    {
     "name": "stdout",
     "output_type": "stream",
     "text": [
      "Now we want to count the number of new accounts each day.\n",
      "tempDF maps each date to number of accounts that were created.\n",
      "root\n",
      " |-- _1: struct (nullable = true)\n",
      " |    |-- CreationDate: date (nullable = true)\n",
      " |-- _2: long (nullable = true)\n",
      "\n",
      "Notice that we have lost the column names and that our date column is converted into a struct column. Let us fix these things and sample some data into Pandas dataframe.\n"
     ]
    }
   ],
   "source": [
    "print \"Now we want to count the number of new accounts each day.\"\n",
    "tempDF = dateDF.map(lambda a: (a, 1)).reduceByKey(lambda a, b: a+b).toDF()\n",
    "print \"tempDF maps each date to number of accounts that were created.\"\n",
    "tempDF.printSchema()\n",
    "print \"Notice that we have lost the column names and that our date column is converted into a struct column. \\\n",
    "Let us fix these things and sample some data into Pandas dataframe.\""
   ]
  },
  {
   "cell_type": "code",
   "execution_count": null,
   "metadata": {
    "collapsed": false
   },
   "outputs": [],
   "source": [
    "pandasDF = tempDF.select(tempDF[\"_1\"].getField(\"CreationDate\").alias(\"CreationDate\"), tempDF[\"_2\"].alias(\"NewAccounts\"))\\\n",
    ".orderBy(func.asc(\"CreationDate\")).toPandas()\n",
    "pandasDF"
   ]
  },
  {
   "cell_type": "code",
   "execution_count": null,
   "metadata": {
    "collapsed": false
   },
   "outputs": [],
   "source": [
    "print \"Let us plot this data and see if there is any interesting observation.\"\n",
    "plt.plot(pandasDF.CreationDate, pandasDF.NewAccounts)"
   ]
  },
  {
   "cell_type": "code",
   "execution_count": null,
   "metadata": {
    "collapsed": false
   },
   "outputs": [],
   "source": [
    "print \"The general trend is that the number of user accounts has been increasing with each year. \\\n",
    "We have a spike corresponding to 15th september, 2008. That is not surprising given that this was the date when \\\n",
    "StackOverflow was opened to public. Check out [this](http://www.joelonsoftware.com/items/2008/09/15.html) \\\n",
    "post by Joel Spolsky announcing this. Excluding this date, we see that the numbers tend to vary within a band \\\n",
    "and that the band boundary is moving upwards.\"\n",
    "print \"To open the plot in interactive mode, uncomment the code below and run the cell again.\"\n",
    "# %matplotlib qt\n",
    "# plt.plot(pandasDF.CreationDate, pandasDF.NewAccounts)"
   ]
  }
 ],
 "metadata": {
  "kernelspec": {
   "display_name": "Python 2",
   "language": "python",
   "name": "python2"
  },
  "language_info": {
   "codemirror_mode": {
    "name": "ipython",
    "version": 2
   },
   "file_extension": ".py",
   "mimetype": "text/x-python",
   "name": "python",
   "nbconvert_exporter": "python",
   "pygments_lexer": "ipython2",
   "version": "2.7.6"
  }
 },
 "nbformat": 4,
 "nbformat_minor": 0
}
