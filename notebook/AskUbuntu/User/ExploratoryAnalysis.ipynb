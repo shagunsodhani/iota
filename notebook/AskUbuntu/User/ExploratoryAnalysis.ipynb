{
 "cells": [
  {
   "cell_type": "markdown",
   "metadata": {
    "collapsed": false,
    "slideshow": {
     "slide_type": "slide"
    }
   },
   "source": [
    "![Python Logo](assets/images/python-logo-master-v3-TM.png)\n",
    "\n",
    "# <center> Exploratory Data Analysis for AskUbuntu User Data </center>\n",
    "### <center> Shagun Sodhani </center>"
   ]
  },
  {
   "cell_type": "code",
   "execution_count": 1,
   "metadata": {
    "collapsed": true,
    "slideshow": {
     "slide_type": "skip"
    }
   },
   "outputs": [],
   "source": [
    "# put in the name of the Stack Exchange Site which you want to analyse.\n",
    "data_source = \"AskUbuntu\"\n",
    "data_type = \"User\"\n",
    "base_url = \"http://askubuntu.com/users/\""
   ]
  },
  {
   "cell_type": "markdown",
   "metadata": {
    "slideshow": {
     "slide_type": "slide"
    }
   },
   "source": [
    "### Before we dive into the code, lets see the script which I used to run the notebook."
   ]
  },
  {
   "cell_type": "code",
   "execution_count": 2,
   "metadata": {
    "collapsed": false,
    "slideshow": {
     "slide_type": "subslide"
    }
   },
   "outputs": [
    {
     "name": "stdout",
     "output_type": "stream",
     "text": [
      "PYSPARK_DRIVER_PYTHON=jupyter PYSPARK_DRIVER_PYTHON_OPTS=\"notebook\" $SPARK_HOME/bin/pyspark --master local[3] --driver-memory 2g --executor-memory 2g\r\n"
     ]
    }
   ],
   "source": [
    "!cat run.sh"
   ]
  },
  {
   "cell_type": "markdown",
   "metadata": {
    "collapsed": false,
    "slideshow": {
     "slide_type": "subslide"
    }
   },
   "source": [
    "**PYSPARK_DRIVER_PYTHON=jupyter**\n",
    "\n",
    "This sets the driver as this Jupyter Notebook"
   ]
  },
  {
   "cell_type": "markdown",
   "metadata": {
    "collapsed": false,
    "slideshow": {
     "slide_type": "subslide"
    }
   },
   "source": [
    "**PYSPARK_DRIVER_PYTHON_OPTS=\"notebook\"**\n",
    "\n",
    "This is used to pass options when starting the Python driver"
   ]
  },
  {
   "cell_type": "markdown",
   "metadata": {
    "collapsed": false,
    "slideshow": {
     "slide_type": "subslide"
    }
   },
   "source": [
    "**$SPARK_HOME/bin/pyspark --master local[2]**\n",
    "\n",
    "This runs a pyspark shell in local mode with 2 executors."
   ]
  },
  {
   "cell_type": "markdown",
   "metadata": {
    "slideshow": {
     "slide_type": "slide"
    }
   },
   "source": [
    "## Let us begin"
   ]
  },
  {
   "cell_type": "markdown",
   "metadata": {
    "collapsed": false,
    "slideshow": {
     "slide_type": "subslide"
    }
   },
   "source": [
    "### We will import everything in one cell for the sake for reference."
   ]
  },
  {
   "cell_type": "code",
   "execution_count": 3,
   "metadata": {
    "collapsed": true,
    "slideshow": {
     "slide_type": "fragment"
    }
   },
   "outputs": [],
   "source": [
    "import pyspark.sql.functions as func\n",
    "import matplotlib.pyplot as plt\n",
    "import seaborn as sns\n",
    "from pyspark.mllib.stat import Statistics\n",
    "from pyspark.mllib.linalg import Vectors\n",
    "import pandas as pd\n",
    "from time import time\n",
    "import operator\n",
    "%matplotlib inline\n",
    "from __future__ import print_function"
   ]
  },
  {
   "cell_type": "markdown",
   "metadata": {
    "collapsed": false,
    "slideshow": {
     "slide_type": "slide"
    }
   },
   "source": [
    "### Notice that we did not import sparkcontext or sqlContext. They are already created for us to use."
   ]
  },
  {
   "cell_type": "markdown",
   "metadata": {
    "collapsed": false,
    "slideshow": {
     "slide_type": "subslide"
    }
   },
   "source": [
    "### Check if SparkContext and SQLContext have been created."
   ]
  },
  {
   "cell_type": "code",
   "execution_count": 4,
   "metadata": {
    "collapsed": false,
    "slideshow": {
     "slide_type": "fragment"
    }
   },
   "outputs": [
    {
     "name": "stdout",
     "output_type": "stream",
     "text": [
      "SparkContext is defined.\n"
     ]
    }
   ],
   "source": [
    "if('sc' in locals() or 'sc' in globals()):\n",
    "    print(\"SparkContext is defined.\")\n",
    "else:\n",
    "    print(\"SparkContext does not exist.\")"
   ]
  },
  {
   "cell_type": "code",
   "execution_count": 5,
   "metadata": {
    "collapsed": false,
    "slideshow": {
     "slide_type": "fragment"
    }
   },
   "outputs": [
    {
     "name": "stdout",
     "output_type": "stream",
     "text": [
      "SQLContext is defined.\n"
     ]
    }
   ],
   "source": [
    "if('sqlContext' in locals() or 'sqlContext' in globals()):\n",
    "    print(\"SQLContext is defined.\")\n",
    "else:\n",
    "    print(\"SQLContext does not exist.\")"
   ]
  },
  {
   "cell_type": "markdown",
   "metadata": {
    "collapsed": false,
    "slideshow": {
     "slide_type": "slide"
    }
   },
   "source": [
    "### Now let us load the user data as a dataframe. Since we will be using this data many times, we will cache it in memory."
   ]
  },
  {
   "cell_type": "code",
   "execution_count": 6,
   "metadata": {
    "collapsed": false,
    "slideshow": {
     "slide_type": "subslide"
    }
   },
   "outputs": [
    {
     "name": "stdout",
     "output_type": "stream",
     "text": [
      "data_source = AskUbuntu\n",
      "data_type = User\n",
      "Time taken = 16.124420166 seconds.\n"
     ]
    }
   ],
   "source": [
    "start_time = time()\n",
    "print (\"data_source =\", data_source)\n",
    "print (\"data_type =\", data_type)\n",
    "user_data_path = \"../data/\"+data_source+\"/\"+data_type\n",
    "user_df = sqlContext.read.load(user_data_path).cache()\n",
    "print (\"Time taken =\", time() - start_time, \"seconds.\")"
   ]
  },
  {
   "cell_type": "markdown",
   "metadata": {
    "collapsed": false,
    "slideshow": {
     "slide_type": "fragment"
    }
   },
   "source": [
    "### *sqlContext.read.load(user_data_path)* tells the master to load the data written in *user_data_path* as a parquet file (default choice for data format)."
   ]
  },
  {
   "cell_type": "markdown",
   "metadata": {
    "collapsed": false,
    "slideshow": {
     "slide_type": "fragment"
    }
   },
   "source": [
    "### *cache()* tells the master to cache the data in the main memory for faster operations."
   ]
  },
  {
   "cell_type": "markdown",
   "metadata": {
    "collapsed": false,
    "slideshow": {
     "slide_type": "slide"
    }
   },
   "source": [
    "## <center> DataFrame </center>"
   ]
  },
  {
   "cell_type": "markdown",
   "metadata": {
    "collapsed": false,
    "slideshow": {
     "slide_type": "subslide"
    }
   },
   "source": [
    "### A DataFrame is a distributed collection of data organized into named columns. It is conceptually equivalent to a table in a relational database or a data frame in R/Python, but with richer optimizations under the hood."
   ]
  },
  {
   "cell_type": "markdown",
   "metadata": {
    "collapsed": false,
    "slideshow": {
     "slide_type": "subslide"
    }
   },
   "source": [
    "### Since DataFrame organizes the data into a relational view (rows and columns), it has a schema associated with it."
   ]
  },
  {
   "cell_type": "code",
   "execution_count": 7,
   "metadata": {
    "collapsed": false,
    "slideshow": {
     "slide_type": "fragment"
    }
   },
   "outputs": [
    {
     "name": "stdout",
     "output_type": "stream",
     "text": [
      "Schema for user dataframe\n",
      "root\n",
      " |-- Id: long (nullable = true)\n",
      " |-- Reputation: long (nullable = true)\n",
      " |-- CreationDate: string (nullable = true)\n",
      " |-- DisplayName: string (nullable = true)\n",
      " |-- EmailHash: string (nullable = true)\n",
      " |-- lastAccessDate: string (nullable = true)\n",
      " |-- WebsiteUrl: string (nullable = true)\n",
      " |-- Location: string (nullable = true)\n",
      " |-- Age: long (nullable = true)\n",
      " |-- AboutMe: string (nullable = true)\n",
      " |-- Views: long (nullable = true)\n",
      " |-- UpVotes: long (nullable = true)\n",
      " |-- DownVotes: long (nullable = true)\n",
      " |-- AccountId: long (nullable = true)\n",
      "\n"
     ]
    }
   ],
   "source": [
    "print(\"Schema for user dataframe\")\n",
    "user_df.printSchema()"
   ]
  },
  {
   "cell_type": "markdown",
   "metadata": {
    "slideshow": {
     "slide_type": "slide"
    }
   },
   "source": [
    "### Some common metrics for this data"
   ]
  },
  {
   "cell_type": "code",
   "execution_count": 8,
   "metadata": {
    "collapsed": false,
    "slideshow": {
     "slide_type": "subslide"
    }
   },
   "outputs": [
    {
     "name": "stdout",
     "output_type": "stream",
     "text": [
      "Total number of rows in the data = 309295\n"
     ]
    }
   ],
   "source": [
    "number_of_rows = user_df.count()\n",
    "print(\"Total number of rows in the data = \" + str(number_of_rows))"
   ]
  },
  {
   "cell_type": "code",
   "execution_count": 9,
   "metadata": {
    "collapsed": false,
    "slideshow": {
     "slide_type": "fragment"
    }
   },
   "outputs": [
    {
     "name": "stdout",
     "output_type": "stream",
     "text": [
      "Total number of unique Id in the data = 309295\n"
     ]
    }
   ],
   "source": [
    "number_of_unique_ids = user_df.select('Id').distinct().count()\n",
    "print(\"Total number of unique Id in the data = \" + str(number_of_unique_ids))"
   ]
  },
  {
   "cell_type": "code",
   "execution_count": 10,
   "metadata": {
    "collapsed": false,
    "slideshow": {
     "slide_type": "fragment"
    }
   },
   "outputs": [
    {
     "name": "stdout",
     "output_type": "stream",
     "text": [
      "Maximum reputation for a user = 150176\n"
     ]
    }
   ],
   "source": [
    "max_reputation = user_df.agg({\"Reputation\": \"max\"}).collect()[0][0]\n",
    "print(\"Maximum reputation for a user = \" + str(max_reputation))"
   ]
  },
  {
   "cell_type": "code",
   "execution_count": 11,
   "metadata": {
    "collapsed": false,
    "slideshow": {
     "slide_type": "fragment"
    }
   },
   "outputs": [
    {
     "name": "stdout",
     "output_type": "stream",
     "text": [
      "Maximum UpVotes for a user = 24318\n"
     ]
    }
   ],
   "source": [
    "max_upvotes = user_df.agg({\"UpVotes\": \"max\"}).collect()[0][0]\n",
    "print(\"Maximum UpVotes for a user = \" + str(max_upvotes))"
   ]
  },
  {
   "cell_type": "markdown",
   "metadata": {
    "slideshow": {
     "slide_type": "slide"
    }
   },
   "source": [
    "### Alternatively, we could use the *describe* method to get all these statistics in one go."
   ]
  },
  {
   "cell_type": "code",
   "execution_count": 12,
   "metadata": {
    "collapsed": false,
    "slideshow": {
     "slide_type": "fragment"
    }
   },
   "outputs": [
    {
     "data": {
      "text/html": [
       "<div>\n",
       "<table border=\"1\" class=\"dataframe\">\n",
       "  <thead>\n",
       "    <tr style=\"text-align: right;\">\n",
       "      <th></th>\n",
       "      <th>summary</th>\n",
       "      <th>Id</th>\n",
       "      <th>Reputation</th>\n",
       "      <th>Age</th>\n",
       "      <th>Views</th>\n",
       "      <th>UpVotes</th>\n",
       "      <th>DownVotes</th>\n",
       "      <th>AccountId</th>\n",
       "    </tr>\n",
       "  </thead>\n",
       "  <tbody>\n",
       "    <tr>\n",
       "      <th>0</th>\n",
       "      <td>count</td>\n",
       "      <td>309295</td>\n",
       "      <td>309295</td>\n",
       "      <td>309295</td>\n",
       "      <td>309295</td>\n",
       "      <td>309295</td>\n",
       "      <td>309295</td>\n",
       "      <td>309295</td>\n",
       "    </tr>\n",
       "    <tr>\n",
       "      <th>1</th>\n",
       "      <td>mean</td>\n",
       "      <td>261242.4138314554</td>\n",
       "      <td>54.91780985790265</td>\n",
       "      <td>5.996469390064502</td>\n",
       "      <td>5.570271100405762</td>\n",
       "      <td>3.9588515818231786</td>\n",
       "      <td>0.5245089639341082</td>\n",
       "      <td>3098344.3042823193</td>\n",
       "    </tr>\n",
       "    <tr>\n",
       "      <th>2</th>\n",
       "      <td>stddev</td>\n",
       "      <td>148901.9790383902</td>\n",
       "      <td>691.1246711022122</td>\n",
       "      <td>14.038717140837873</td>\n",
       "      <td>136.94944449164916</td>\n",
       "      <td>84.84173825026782</td>\n",
       "      <td>93.77794540236786</td>\n",
       "      <td>2268036.0409409236</td>\n",
       "    </tr>\n",
       "    <tr>\n",
       "      <th>3</th>\n",
       "      <td>min</td>\n",
       "      <td>-1</td>\n",
       "      <td>1</td>\n",
       "      <td>-1</td>\n",
       "      <td>0</td>\n",
       "      <td>0</td>\n",
       "      <td>0</td>\n",
       "      <td>-2</td>\n",
       "    </tr>\n",
       "    <tr>\n",
       "      <th>4</th>\n",
       "      <td>max</td>\n",
       "      <td>488599</td>\n",
       "      <td>150176</td>\n",
       "      <td>96</td>\n",
       "      <td>43364</td>\n",
       "      <td>24318</td>\n",
       "      <td>44498</td>\n",
       "      <td>7562721</td>\n",
       "    </tr>\n",
       "  </tbody>\n",
       "</table>\n",
       "</div>"
      ],
      "text/plain": [
       "  summary                 Id         Reputation                 Age  \\\n",
       "0   count             309295             309295              309295   \n",
       "1    mean  261242.4138314554  54.91780985790265   5.996469390064502   \n",
       "2  stddev  148901.9790383902  691.1246711022122  14.038717140837873   \n",
       "3     min                 -1                  1                  -1   \n",
       "4     max             488599             150176                  96   \n",
       "\n",
       "                Views             UpVotes           DownVotes  \\\n",
       "0              309295              309295              309295   \n",
       "1   5.570271100405762  3.9588515818231786  0.5245089639341082   \n",
       "2  136.94944449164916   84.84173825026782   93.77794540236786   \n",
       "3                   0                   0                   0   \n",
       "4               43364               24318               44498   \n",
       "\n",
       "            AccountId  \n",
       "0              309295  \n",
       "1  3098344.3042823193  \n",
       "2  2268036.0409409236  \n",
       "3                  -2  \n",
       "4             7562721  "
      ]
     },
     "execution_count": 12,
     "metadata": {},
     "output_type": "execute_result"
    }
   ],
   "source": [
    "user_df.describe().toPandas()"
   ]
  },
  {
   "cell_type": "markdown",
   "metadata": {
    "slideshow": {
     "slide_type": "fragment"
    }
   },
   "source": [
    "### Disclaimer - Pandas is used only for visualising the processed data in tabular form as Jupyter notebooks visualise Pandas dataframes very nicely. All the processing is being done by Spark."
   ]
  },
  {
   "cell_type": "markdown",
   "metadata": {
    "slideshow": {
     "slide_type": "slide"
    }
   },
   "source": [
    "### Let us find the user who has the highest reputation."
   ]
  },
  {
   "cell_type": "code",
   "execution_count": 13,
   "metadata": {
    "collapsed": false,
    "slideshow": {
     "slide_type": "fragment"
    }
   },
   "outputs": [
    {
     "data": {
      "text/html": [
       "<div>\n",
       "<table border=\"1\" class=\"dataframe\">\n",
       "  <thead>\n",
       "    <tr style=\"text-align: right;\">\n",
       "      <th></th>\n",
       "      <th>Id</th>\n",
       "      <th>Reputation</th>\n",
       "      <th>CreationDate</th>\n",
       "      <th>DisplayName</th>\n",
       "      <th>EmailHash</th>\n",
       "      <th>lastAccessDate</th>\n",
       "      <th>WebsiteUrl</th>\n",
       "      <th>Location</th>\n",
       "      <th>Age</th>\n",
       "      <th>AboutMe</th>\n",
       "      <th>Views</th>\n",
       "      <th>UpVotes</th>\n",
       "      <th>DownVotes</th>\n",
       "      <th>AccountId</th>\n",
       "    </tr>\n",
       "  </thead>\n",
       "  <tbody>\n",
       "    <tr>\n",
       "      <th>0</th>\n",
       "      <td>449</td>\n",
       "      <td>150176</td>\n",
       "      <td>2010-08-04T21:24:05.740</td>\n",
       "      <td>Oli</td>\n",
       "      <td></td>\n",
       "      <td>2016-01-02T09:27:51.957</td>\n",
       "      <td>https://thepcspy.com</td>\n",
       "      <td>England, United Kingdom</td>\n",
       "      <td>32</td>\n",
       "      <td>&lt;p&gt;Hi, I'm Oli and I'm a \"full-stack\" web-dev-...</td>\n",
       "      <td>13496</td>\n",
       "      <td>2817</td>\n",
       "      <td>188</td>\n",
       "      <td>7412</td>\n",
       "    </tr>\n",
       "  </tbody>\n",
       "</table>\n",
       "</div>"
      ],
      "text/plain": [
       "    Id  Reputation             CreationDate DisplayName EmailHash  \\\n",
       "0  449      150176  2010-08-04T21:24:05.740         Oli             \n",
       "\n",
       "            lastAccessDate            WebsiteUrl                 Location  \\\n",
       "0  2016-01-02T09:27:51.957  https://thepcspy.com  England, United Kingdom   \n",
       "\n",
       "   Age                                            AboutMe  Views  UpVotes  \\\n",
       "0   32  <p>Hi, I'm Oli and I'm a \"full-stack\" web-dev-...  13496     2817   \n",
       "\n",
       "   DownVotes  AccountId  \n",
       "0        188       7412  "
      ]
     },
     "execution_count": 13,
     "metadata": {},
     "output_type": "execute_result"
    }
   ],
   "source": [
    "user_max_reputation = user_df.filter(\"Reputation = \"+str(max_reputation)).select('Id').collect()[0][0]\n",
    "user_df.filter(\"Reputation = \"+str(max_reputation)).toPandas()"
   ]
  },
  {
   "cell_type": "markdown",
   "metadata": {
    "slideshow": {
     "slide_type": "slide"
    }
   },
   "source": [
    "##  <center> Lazy Evaluation </center>"
   ]
  },
  {
   "cell_type": "markdown",
   "metadata": {
    "slideshow": {
     "slide_type": "fragment"
    }
   },
   "source": [
    "Spark Dataframes and RDDs are lazy. They do nothing unless an action is called. We can keep adding as many transformations as we want but nothing actually happens till we call an action. By deferring evaluations, Spark can optimise the overall workflow as it evaluates only that which is needed."
   ]
  },
  {
   "cell_type": "code",
   "execution_count": 14,
   "metadata": {
    "collapsed": false,
    "slideshow": {
     "slide_type": "subslide"
    }
   },
   "outputs": [
    {
     "name": "stdout",
     "output_type": "stream",
     "text": [
      "DataFrame[Id: bigint, Reputation: bigint, CreationDate: string, DisplayName: string, EmailHash: string, lastAccessDate: string, WebsiteUrl: string, Location: string, Age: bigint, AboutMe: string, Views: bigint, UpVotes: bigint, DownVotes: bigint, AccountId: bigint]\n",
      "Time taken = 0.0342299938202 seconds.\n"
     ]
    }
   ],
   "source": [
    "start_time = time()\n",
    "user_max_reputation = user_df.orderBy(\"Reputation\", desc=True)\n",
    "print (user_max_reputation)\n",
    "print (\"Time taken =\", time() - start_time, \"seconds.\")"
   ]
  },
  {
   "cell_type": "code",
   "execution_count": 15,
   "metadata": {
    "collapsed": false,
    "slideshow": {
     "slide_type": "fragment"
    }
   },
   "outputs": [
    {
     "name": "stdout",
     "output_type": "stream",
     "text": [
      "Size of list = 309295\n",
      "Time taken = 14.0740931034 seconds.\n"
     ]
    }
   ],
   "source": [
    "start_time = time()\n",
    "list_user_max_reputation = user_df.orderBy(\"Reputation\", desc=True).collect()\n",
    "print (\"Size of list =\",len(list_user_max_reputation))\n",
    "print (\"Time taken =\", time() - start_time, \"seconds.\")"
   ]
  },
  {
   "cell_type": "code",
   "execution_count": 16,
   "metadata": {
    "collapsed": false,
    "slideshow": {
     "slide_type": "fragment"
    }
   },
   "outputs": [
    {
     "name": "stdout",
     "output_type": "stream",
     "text": [
      "Size of list = 1\n",
      "Time taken = 0.354924917221 seconds.\n"
     ]
    }
   ],
   "source": [
    "start_time = time()\n",
    "list_user_max_reputation = user_df.orderBy(\"Reputation\", desc=True).take(1)\n",
    "print (\"Size of list =\",len(list_user_max_reputation))\n",
    "print (\"Time taken =\", time() - start_time, \"seconds.\")"
   ]
  },
  {
   "cell_type": "markdown",
   "metadata": {
    "slideshow": {
     "slide_type": "subslide"
    }
   },
   "source": [
    "### Lazy is better than eager."
   ]
  },
  {
   "cell_type": "markdown",
   "metadata": {
    "slideshow": {
     "slide_type": "slide"
    }
   },
   "source": [
    "### We can find the user with maximum number of upvotes, downvotes and views."
   ]
  },
  {
   "cell_type": "code",
   "execution_count": 17,
   "metadata": {
    "collapsed": false,
    "slideshow": {
     "slide_type": "subslide"
    }
   },
   "outputs": [
    {
     "name": "stdout",
     "output_type": "stream",
     "text": [
      "max Reputation value = 150176 for userId = 449  http://askubuntu.com/users/449 \n",
      "\n",
      "max UpVotes value = 24318 for userId = 235  http://askubuntu.com/users/235 \n",
      "\n",
      "max DownVotes value = 44498 for userId = -1  http://askubuntu.com/users/-1 \n",
      "\n",
      "max Views value = 43364 for userId = 235  http://askubuntu.com/users/235 \n",
      "\n",
      "max Age value = 96 for userId = 132  http://askubuntu.com/users/132 \n",
      "\n",
      "Time taken = 0.440338850021 seconds.\n"
     ]
    }
   ],
   "source": [
    "start_time = time() \n",
    "column_list = [\"Reputation\", \"UpVotes\", \"DownVotes\", \"Views\", \"Age\"]\n",
    "\n",
    "for col in column_list:\n",
    "    max_value_col = user_df.orderBy(col, ascending=False).select(\"Id\", col).take(1)[0]\n",
    "    userId = str(max_value_col[0])\n",
    "    print (\"max\", col, \"value =\",str(max_value_col[1]),\"for userId =\", userId, \"\", base_url+userId, \"\\n\")\n",
    "print (\"Time taken =\", time() - start_time, \"seconds.\")"
   ]
  },
  {
   "cell_type": "markdown",
   "metadata": {
    "slideshow": {
     "slide_type": "fragment"
    }
   },
   "source": [
    "### Interestingly, the user with most upvotes is also the most viewed user. The userId = -1 corresponds to community (bot) user which helps in moderation."
   ]
  },
  {
   "cell_type": "markdown",
   "metadata": {
    "slideshow": {
     "slide_type": "slide"
    }
   },
   "source": [
    "###  Before using any algorithm from Spark Machine Learning (ml and MLlib), we transform this data to a collection of vectors. While parsing the raw xml files, I used certain default values (in place of missing values). We will filter for those values now."
   ]
  },
  {
   "cell_type": "code",
   "execution_count": 18,
   "metadata": {
    "collapsed": false,
    "slideshow": {
     "slide_type": "subslide"
    }
   },
   "outputs": [],
   "source": [
    "filter_expression = \"AccountId > -1 and DownVotes > -1 and UpVotes > -1 and \\\n",
    "Views > -1 and Reputation > -9223372036854775808 and Age > 0\"\n",
    "vectorData = user_df.filter(filter_expression)\\\n",
    ".select(column_list)\\\n",
    ".map(lambda data: Vectors.dense([c for c in data]))"
   ]
  },
  {
   "cell_type": "markdown",
   "metadata": {
    "slideshow": {
     "slide_type": "fragment"
    }
   },
   "source": [
    "### *vectorData* consists of rows, where each row is a vector of data we selected above. "
   ]
  },
  {
   "cell_type": "code",
   "execution_count": 19,
   "metadata": {
    "collapsed": false,
    "slideshow": {
     "slide_type": "fragment"
    }
   },
   "outputs": [
    {
     "name": "stdout",
     "output_type": "stream",
     "text": [
      "PythonRDD[86] at RDD at PythonRDD.scala:43\n"
     ]
    },
    {
     "data": {
      "text/plain": [
       "[DenseVector([106.0, 0.0, 0.0, 3.0, 31.0]),\n",
       " DenseVector([101.0, 5.0, 0.0, 0.0, 33.0]),\n",
       " DenseVector([11.0, 0.0, 0.0, 1.0, 37.0]),\n",
       " DenseVector([113.0, 0.0, 0.0, 5.0, 22.0]),\n",
       " DenseVector([101.0, 0.0, 0.0, 1.0, 27.0])]"
      ]
     },
     "execution_count": 19,
     "metadata": {},
     "output_type": "execute_result"
    }
   ],
   "source": [
    "print (vectorData)\n",
    "vectorData.take(5)"
   ]
  },
  {
   "cell_type": "markdown",
   "metadata": {
    "slideshow": {
     "slide_type": "slide"
    }
   },
   "source": [
    "### Calculating basic statistics about the data"
   ]
  },
  {
   "cell_type": "code",
   "execution_count": 20,
   "metadata": {
    "collapsed": false,
    "slideshow": {
     "slide_type": "fragment"
    }
   },
   "outputs": [
    {
     "name": "stdout",
     "output_type": "stream",
     "text": [
      "Columns in vectorData are ['Reputation', 'UpVotes', 'DownVotes', 'Views', 'Age']\n",
      "Average  Reputation  =  126.817308991\n",
      "Average  UpVotes  =  10.3129209859\n",
      "Average  DownVotes  =  1.22306065197\n",
      "Average  Views  =  13.4754796802\n",
      "Average  Age  =  31.4633282828\n"
     ]
    }
   ],
   "source": [
    "print (\"Columns in vectorData are\",column_list)\n",
    "stats = Statistics.colStats(vectorData)\n",
    "for col, val in zip(column_list, stats.mean()):\n",
    "    print (\"Average \", col, \" = \", val)"
   ]
  },
  {
   "cell_type": "markdown",
   "metadata": {
    "slideshow": {
     "slide_type": "subslide"
    }
   },
   "source": [
    "Other supported statistics include:\n",
    "    * count()\n",
    "    * max()\n",
    "    * mean()\n",
    "    * min()\n",
    "    * normL1()\n",
    "    * normL2()\n",
    "    * numNonzeros()\n",
    "    * variance()"
   ]
  },
  {
   "cell_type": "markdown",
   "metadata": {
    "slideshow": {
     "slide_type": "subslide"
    }
   },
   "source": [
    "For the sake of completeness, we will try all these methods. We would visualise this data as Pandas dataframe to make it look clean"
   ]
  },
  {
   "cell_type": "code",
   "execution_count": 21,
   "metadata": {
    "collapsed": false,
    "scrolled": true,
    "slideshow": {
     "slide_type": "fragment"
    }
   },
   "outputs": [
    {
     "data": {
      "text/html": [
       "<div>\n",
       "<table border=\"1\" class=\"dataframe\">\n",
       "  <thead>\n",
       "    <tr style=\"text-align: right;\">\n",
       "      <th></th>\n",
       "      <th>Reputation</th>\n",
       "      <th>UpVotes</th>\n",
       "      <th>DownVotes</th>\n",
       "      <th>Views</th>\n",
       "      <th>Age</th>\n",
       "    </tr>\n",
       "  </thead>\n",
       "  <tbody>\n",
       "    <tr>\n",
       "      <th>Count</th>\n",
       "      <td>66659.000000</td>\n",
       "      <td>66659.000000</td>\n",
       "      <td>66659.000000</td>\n",
       "      <td>66659.000000</td>\n",
       "      <td>66659.000000</td>\n",
       "    </tr>\n",
       "    <tr>\n",
       "      <th>Max</th>\n",
       "      <td>150176.000000</td>\n",
       "      <td>24318.000000</td>\n",
       "      <td>24361.000000</td>\n",
       "      <td>43364.000000</td>\n",
       "      <td>96.000000</td>\n",
       "    </tr>\n",
       "    <tr>\n",
       "      <th>Mean</th>\n",
       "      <td>126.817309</td>\n",
       "      <td>10.312921</td>\n",
       "      <td>1.223061</td>\n",
       "      <td>13.475480</td>\n",
       "      <td>31.463328</td>\n",
       "    </tr>\n",
       "    <tr>\n",
       "      <th>Min</th>\n",
       "      <td>1.000000</td>\n",
       "      <td>0.000000</td>\n",
       "      <td>0.000000</td>\n",
       "      <td>0.000000</td>\n",
       "      <td>14.000000</td>\n",
       "    </tr>\n",
       "    <tr>\n",
       "      <th>NormL1</th>\n",
       "      <td>8453515.000000</td>\n",
       "      <td>687449.000000</td>\n",
       "      <td>81528.000000</td>\n",
       "      <td>898262.000000</td>\n",
       "      <td>2097314.000000</td>\n",
       "    </tr>\n",
       "    <tr>\n",
       "      <th>NormL2</th>\n",
       "      <td>357794.549342</td>\n",
       "      <td>38803.574049</td>\n",
       "      <td>26538.371955</td>\n",
       "      <td>72828.164772</td>\n",
       "      <td>8475.639681</td>\n",
       "    </tr>\n",
       "    <tr>\n",
       "      <th>NumNonzeros</th>\n",
       "      <td>66659.000000</td>\n",
       "      <td>26928.000000</td>\n",
       "      <td>2254.000000</td>\n",
       "      <td>34353.000000</td>\n",
       "      <td>66659.000000</td>\n",
       "    </tr>\n",
       "    <tr>\n",
       "      <th>Variance</th>\n",
       "      <td>1904420.887443</td>\n",
       "      <td>22482.338981</td>\n",
       "      <td>10564.155425</td>\n",
       "      <td>79387.876514</td>\n",
       "      <td>87.731242</td>\n",
       "    </tr>\n",
       "  </tbody>\n",
       "</table>\n",
       "</div>"
      ],
      "text/plain": [
       "                 Reputation        UpVotes     DownVotes          Views  \\\n",
       "Count          66659.000000   66659.000000  66659.000000   66659.000000   \n",
       "Max           150176.000000   24318.000000  24361.000000   43364.000000   \n",
       "Mean             126.817309      10.312921      1.223061      13.475480   \n",
       "Min                1.000000       0.000000      0.000000       0.000000   \n",
       "NormL1       8453515.000000  687449.000000  81528.000000  898262.000000   \n",
       "NormL2        357794.549342   38803.574049  26538.371955   72828.164772   \n",
       "NumNonzeros    66659.000000   26928.000000   2254.000000   34353.000000   \n",
       "Variance     1904420.887443   22482.338981  10564.155425   79387.876514   \n",
       "\n",
       "                        Age  \n",
       "Count          66659.000000  \n",
       "Max               96.000000  \n",
       "Mean              31.463328  \n",
       "Min               14.000000  \n",
       "NormL1       2097314.000000  \n",
       "NormL2          8475.639681  \n",
       "NumNonzeros    66659.000000  \n",
       "Variance          87.731242  "
      ]
     },
     "execution_count": 21,
     "metadata": {},
     "output_type": "execute_result"
    }
   ],
   "source": [
    "pd_data = map(list, [[stats.count()]*5, stats.max(), stats.mean(), stats.min(), stats.normL1(), stats.normL2(),\\\n",
    "           stats.numNonzeros() ,stats.variance()])\n",
    "pd_index = ['Count', 'Max', 'Mean', 'Min', 'NormL1', 'NormL2', 'NumNonzeros', 'Variance']\n",
    "pd.DataFrame(pd_data, index=pd_index, columns=column_list)"
   ]
  },
  {
   "cell_type": "markdown",
   "metadata": {
    "slideshow": {
     "slide_type": "slide"
    }
   },
   "source": [
    "### We will calculate correlation between each pair of columns and see if we find some thing interesting."
   ]
  },
  {
   "cell_type": "code",
   "execution_count": 22,
   "metadata": {
    "collapsed": false,
    "slideshow": {
     "slide_type": "subslide"
    }
   },
   "outputs": [
    {
     "name": "stdout",
     "output_type": "stream",
     "text": [
      "Time taken = 2.11102104187 seconds.\n"
     ]
    },
    {
     "data": {
      "text/html": [
       "<div>\n",
       "<table border=\"1\" class=\"dataframe\">\n",
       "  <thead>\n",
       "    <tr style=\"text-align: right;\">\n",
       "      <th></th>\n",
       "      <th>Reputation</th>\n",
       "      <th>UpVotes</th>\n",
       "      <th>DownVotes</th>\n",
       "      <th>Views</th>\n",
       "      <th>Age</th>\n",
       "    </tr>\n",
       "  </thead>\n",
       "  <tbody>\n",
       "    <tr>\n",
       "      <th>Reputation</th>\n",
       "      <td>1.000000</td>\n",
       "      <td>0.559328</td>\n",
       "      <td>0.181929</td>\n",
       "      <td>0.731120</td>\n",
       "      <td>0.022621</td>\n",
       "    </tr>\n",
       "    <tr>\n",
       "      <th>UpVotes</th>\n",
       "      <td>0.559328</td>\n",
       "      <td>1.000000</td>\n",
       "      <td>0.260705</td>\n",
       "      <td>0.818524</td>\n",
       "      <td>0.016409</td>\n",
       "    </tr>\n",
       "    <tr>\n",
       "      <th>DownVotes</th>\n",
       "      <td>0.181929</td>\n",
       "      <td>0.260705</td>\n",
       "      <td>1.000000</td>\n",
       "      <td>0.293178</td>\n",
       "      <td>0.003651</td>\n",
       "    </tr>\n",
       "    <tr>\n",
       "      <th>Views</th>\n",
       "      <td>0.731120</td>\n",
       "      <td>0.818524</td>\n",
       "      <td>0.293178</td>\n",
       "      <td>1.000000</td>\n",
       "      <td>0.011980</td>\n",
       "    </tr>\n",
       "    <tr>\n",
       "      <th>Age</th>\n",
       "      <td>0.022621</td>\n",
       "      <td>0.016409</td>\n",
       "      <td>0.003651</td>\n",
       "      <td>0.011980</td>\n",
       "      <td>1.000000</td>\n",
       "    </tr>\n",
       "  </tbody>\n",
       "</table>\n",
       "</div>"
      ],
      "text/plain": [
       "            Reputation   UpVotes  DownVotes     Views       Age\n",
       "Reputation    1.000000  0.559328   0.181929  0.731120  0.022621\n",
       "UpVotes       0.559328  1.000000   0.260705  0.818524  0.016409\n",
       "DownVotes     0.181929  0.260705   1.000000  0.293178  0.003651\n",
       "Views         0.731120  0.818524   0.293178  1.000000  0.011980\n",
       "Age           0.022621  0.016409   0.003651  0.011980  1.000000"
      ]
     },
     "execution_count": 22,
     "metadata": {},
     "output_type": "execute_result"
    }
   ],
   "source": [
    "start_time = time()\n",
    "Statistics.colStats(vectorData)\n",
    "pd_data = Statistics.corr(vectorData, method=\"pearson\")\n",
    "pd.DataFrame(pd_data, index=column_list, columns=column_list)\n",
    "print (\"Time taken =\", time() - start_time, \"seconds.\")\n",
    "pd.DataFrame(pd_data, index=column_list, columns=column_list)"
   ]
  },
  {
   "cell_type": "markdown",
   "metadata": {
    "collapsed": false,
    "slideshow": {
     "slide_type": "fragment"
    }
   },
   "source": [
    "### Some observations:\n",
    "    High positive correlation between Reputation and Upvotes (0.56).\n",
    "    \n",
    "    Very high positive correlation between Reputation and Views (0.73).\n",
    "    \n",
    "    Very high positive correlation between Upvotes and Views (0.82)."
   ]
  },
  {
   "cell_type": "markdown",
   "metadata": {
    "slideshow": {
     "slide_type": "slide"
    }
   },
   "source": [
    "The last two observations can be explained by the hypothesis that more upvotes you cast (or more reputation you have), more likely it is that people would land up on your profile page. Lets drill down further on the first observation.\n",
    "\n",
    "We filter the data to contain only Reputation and UpVotes and filter for rows with defualt values"
   ]
  },
  {
   "cell_type": "code",
   "execution_count": 23,
   "metadata": {
    "collapsed": false,
    "slideshow": {
     "slide_type": "fragment"
    }
   },
   "outputs": [
    {
     "data": {
      "text/html": [
       "<div>\n",
       "<table border=\"1\" class=\"dataframe\">\n",
       "  <thead>\n",
       "    <tr style=\"text-align: right;\">\n",
       "      <th></th>\n",
       "      <th>Reputation</th>\n",
       "      <th>UpVotes</th>\n",
       "    </tr>\n",
       "  </thead>\n",
       "  <tbody>\n",
       "    <tr>\n",
       "      <th>0</th>\n",
       "      <td>1</td>\n",
       "      <td>0</td>\n",
       "    </tr>\n",
       "    <tr>\n",
       "      <th>1</th>\n",
       "      <td>1</td>\n",
       "      <td>0</td>\n",
       "    </tr>\n",
       "    <tr>\n",
       "      <th>2</th>\n",
       "      <td>88</td>\n",
       "      <td>36</td>\n",
       "    </tr>\n",
       "    <tr>\n",
       "      <th>3</th>\n",
       "      <td>101</td>\n",
       "      <td>4</td>\n",
       "    </tr>\n",
       "    <tr>\n",
       "      <th>4</th>\n",
       "      <td>101</td>\n",
       "      <td>24</td>\n",
       "    </tr>\n",
       "    <tr>\n",
       "      <th>5</th>\n",
       "      <td>1</td>\n",
       "      <td>0</td>\n",
       "    </tr>\n",
       "  </tbody>\n",
       "</table>\n",
       "</div>"
      ],
      "text/plain": [
       "   Reputation  UpVotes\n",
       "0           1        0\n",
       "1           1        0\n",
       "2          88       36\n",
       "3         101        4\n",
       "4         101       24\n",
       "5           1        0"
      ]
     },
     "execution_count": 23,
     "metadata": {},
     "output_type": "execute_result"
    }
   ],
   "source": [
    "columns_to_select = [\"Reputation\", \"UpVotes\"]\n",
    "data = user_df.filter(filter_expression).select(columns_to_select).cache()\n",
    "data.sample(False, 0.0001, 42).toPandas()"
   ]
  },
  {
   "cell_type": "markdown",
   "metadata": {
    "collapsed": false,
    "slideshow": {
     "slide_type": "subslide"
    }
   },
   "source": [
    "Notice that this is the second dataframe that we have cached so far.\n",
    "\n",
    "We can check the memory profile for the app at http://localhost:4040/storage."
   ]
  },
  {
   "cell_type": "markdown",
   "metadata": {
    "slideshow": {
     "slide_type": "fragment"
    }
   },
   "source": [
    "We no longer need the *user_df* dataframe so we will unpersist it and recover some memory."
   ]
  },
  {
   "cell_type": "code",
   "execution_count": 24,
   "metadata": {
    "collapsed": false,
    "slideshow": {
     "slide_type": "fragment"
    }
   },
   "outputs": [
    {
     "data": {
      "text/plain": [
       "DataFrame[Id: bigint, Reputation: bigint, CreationDate: string, DisplayName: string, EmailHash: string, lastAccessDate: string, WebsiteUrl: string, Location: string, Age: bigint, AboutMe: string, Views: bigint, UpVotes: bigint, DownVotes: bigint, AccountId: bigint]"
      ]
     },
     "execution_count": 24,
     "metadata": {},
     "output_type": "execute_result"
    }
   ],
   "source": [
    "user_df.unpersist()"
   ]
  },
  {
   "cell_type": "markdown",
   "metadata": {
    "slideshow": {
     "slide_type": "subslide"
    }
   },
   "source": [
    "Check that now only one dataframe is cached for the application. http://localhost:4040/storage."
   ]
  },
  {
   "cell_type": "markdown",
   "metadata": {
    "slideshow": {
     "slide_type": "slide"
    }
   },
   "source": [
    "Spark is good at number chrunching and performing compuations but not so good at visualisations. So we will load a sample of the dataset into Pandas dataframe using the toPandas method and visualise it using sns."
   ]
  },
  {
   "cell_type": "code",
   "execution_count": 25,
   "metadata": {
    "collapsed": false,
    "slideshow": {
     "slide_type": "skip"
    }
   },
   "outputs": [
    {
     "data": {
      "text/plain": [
       "<seaborn.axisgrid.JointGrid at 0x7f73c6911f50>"
      ]
     },
     "execution_count": 25,
     "metadata": {},
     "output_type": "execute_result"
    },
    {
     "data": {
      "image/png": "[encoded data removed]",
      "text/plain": [
       "<matplotlib.figure.Figure at 0x7f73d167d610>"
      ]
     },
     "metadata": {},
     "output_type": "display_data"
    }
   ],
   "source": [
    "pandas_df = data.sample(False, .1, 42).toPandas()\n",
    "# %matplotlib qt\n",
    "sns.jointplot('Reputation', 'UpVotes', data=pandas_df)"
   ]
  },
  {
   "cell_type": "code",
   "execution_count": 26,
   "metadata": {
    "collapsed": false,
    "slideshow": {
     "slide_type": "subslide"
    }
   },
   "outputs": [
    {
     "name": "stdout",
     "output_type": "stream",
     "text": [
      "Time taken = 0.507575035095 seconds.\n"
     ]
    },
    {
     "data": {
      "image/png": "[encoded data removed]",
      "text/plain": [
       "<matplotlib.figure.Figure at 0x7f739eea0dd0>"
      ]
     },
     "metadata": {},
     "output_type": "display_data"
    }
   ],
   "source": [
    "start_time = time()\n",
    "pandas_df = data.sample(False, .1, 42).toPandas()\n",
    "%matplotlib inline\n",
    "sns.jointplot('Reputation', 'UpVotes', data=pandas_df)\n",
    "print (\"Time taken =\", time() - start_time, \"seconds.\")"
   ]
  },
  {
   "cell_type": "code",
   "execution_count": 27,
   "metadata": {
    "collapsed": false,
    "slideshow": {
     "slide_type": "subslide"
    }
   },
   "outputs": [
    {
     "name": "stdout",
     "output_type": "stream",
     "text": [
      "Time taken = 0.942696094513 seconds.\n"
     ]
    },
    {
     "data": {
      "image/png": "[encoded data removed]",
      "text/plain": [
       "<matplotlib.figure.Figure at 0x7f739f1fd790>"
      ]
     },
     "metadata": {},
     "output_type": "display_data"
    }
   ],
   "source": [
    "start_time = time()\n",
    "pandas_df = data.sample(False, 0.9, 42).toPandas()\n",
    "%matplotlib inline\n",
    "sns.jointplot('Reputation', 'UpVotes', data=pandas_df)\n",
    "print (\"Time taken =\", time() - start_time, \"seconds.\")"
   ]
  },
  {
   "cell_type": "markdown",
   "metadata": {
    "slideshow": {
     "slide_type": "subslide"
    }
   },
   "source": [
    "This visualistion is unintutive as most of the data is distributed in a narrow zone and the \n",
    "scale is skewed due to outliers. We will try plotting the values on the log scale."
   ]
  },
  {
   "cell_type": "code",
   "execution_count": 28,
   "metadata": {
    "collapsed": false,
    "slideshow": {
     "slide_type": "skip"
    }
   },
   "outputs": [
    {
     "data": {
      "text/plain": [
       "<seaborn.axisgrid.JointGrid at 0x7f73a368e8d0>"
      ]
     },
     "execution_count": 28,
     "metadata": {},
     "output_type": "execute_result"
    },
    {
     "data": {
      "image/png": "[encoded data removed]",
      "text/plain": [
       "<matplotlib.figure.Figure at 0x7f73a24cb510>"
      ]
     },
     "metadata": {},
     "output_type": "display_data"
    }
   ],
   "source": [
    "log_pandas_df = data.select(func.log10(data[\"Reputation\"]),func.log10(data[\"UpVotes\"])).sample(False, .1).toPandas()\n",
    "# %matplotlib qt\n",
    "sns.jointplot('LOG10(Reputation)', 'LOG10(UpVotes)', data=log_pandas_df)"
   ]
  },
  {
   "cell_type": "code",
   "execution_count": 29,
   "metadata": {
    "collapsed": false,
    "slideshow": {
     "slide_type": "slide"
    }
   },
   "outputs": [
    {
     "data": {
      "text/plain": [
       "<seaborn.axisgrid.JointGrid at 0x7f739f222190>"
      ]
     },
     "execution_count": 29,
     "metadata": {},
     "output_type": "execute_result"
    },
    {
     "data": {
      "image/png": "[encoded data removed]",
      "text/plain": [
       "<matplotlib.figure.Figure at 0x7f739ef4e4d0>"
      ]
     },
     "metadata": {},
     "output_type": "display_data"
    }
   ],
   "source": [
    "log_pandas_df = data.select(func.log10(data[\"Reputation\"]),func.log10(data[\"UpVotes\"])).sample(False, .1).toPandas()\n",
    "%matplotlib inline\n",
    "sns.jointplot('LOG10(Reputation)', 'LOG10(UpVotes)', data=log_pandas_df)"
   ]
  },
  {
   "cell_type": "markdown",
   "metadata": {
    "slideshow": {
     "slide_type": "slide"
    }
   },
   "source": [
    "Before we wrap up, let us play with the *CreationDate* column and see if we can mine some interesting observations on that front. The idea is to show how we can play with more complex data types (like datetime)and use some Spark operators as well."
   ]
  },
  {
   "cell_type": "markdown",
   "metadata": {
    "slideshow": {
     "slide_type": "fragment"
    }
   },
   "source": [
    "We will start with the *user_df* dataframe. Remember that we had uncached it which means it is no longer available in memory but we can still run operations on it. In this case, the dataframe would be loaded once again but will not be persisted, unless we explicitly ask Spark to do so."
   ]
  },
  {
   "cell_type": "code",
   "execution_count": 30,
   "metadata": {
    "collapsed": false,
    "slideshow": {
     "slide_type": "slide"
    }
   },
   "outputs": [
    {
     "name": "stdout",
     "output_type": "stream",
     "text": [
      "root\n",
      " |-- CreationDate: string (nullable = true)\n",
      "\n",
      "+--------------------+\n",
      "|        CreationDate|\n",
      "+--------------------+\n",
      "|2013-09-13T02:07:...|\n",
      "|2013-09-13T02:17:...|\n",
      "|2013-09-13T03:03:...|\n",
      "|2013-09-13T03:17:...|\n",
      "|2013-09-13T03:28:...|\n",
      "|2013-09-13T03:47:...|\n",
      "|2013-09-13T03:53:...|\n",
      "|2013-09-13T04:03:...|\n",
      "|2013-09-13T04:05:...|\n",
      "|2013-09-13T04:07:...|\n",
      "+--------------------+\n",
      "only showing top 10 rows\n",
      "\n"
     ]
    }
   ],
   "source": [
    "creation_date_df = user_df.select(\"CreationDate\")\n",
    "creation_date_df.printSchema()\n",
    "creation_date_df.show(10)"
   ]
  },
  {
   "cell_type": "markdown",
   "metadata": {
    "slideshow": {
     "slide_type": "fragment"
    }
   },
   "source": [
    "Note that **CreationDate** column was parsed as **string**. Let us fix that by selecting **CreationDate** as **date** type."
   ]
  },
  {
   "cell_type": "code",
   "execution_count": 31,
   "metadata": {
    "collapsed": false,
    "slideshow": {
     "slide_type": "slide"
    }
   },
   "outputs": [
    {
     "name": "stdout",
     "output_type": "stream",
     "text": [
      "root\n",
      " |-- CreationDate: date (nullable = true)\n",
      "\n",
      "+------------+\n",
      "|CreationDate|\n",
      "+------------+\n",
      "|  2013-09-13|\n",
      "|  2013-09-13|\n",
      "|  2013-09-13|\n",
      "|  2013-09-13|\n",
      "|  2013-09-13|\n",
      "|  2013-09-13|\n",
      "|  2013-09-13|\n",
      "|  2013-09-13|\n",
      "|  2013-09-13|\n",
      "|  2013-09-13|\n",
      "+------------+\n",
      "only showing top 10 rows\n",
      "\n"
     ]
    }
   ],
   "source": [
    "date_df = creation_date_df.select(func.to_date(creation_date_df[\"CreationDate\"]).alias(\"CreationDate\"))\n",
    "date_df.printSchema()\n",
    "date_df.show(10)"
   ]
  },
  {
   "cell_type": "markdown",
   "metadata": {
    "slideshow": {
     "slide_type": "slide"
    }
   },
   "source": [
    "### RDD vs DataFrame"
   ]
  },
  {
   "cell_type": "markdown",
   "metadata": {
    "slideshow": {
     "slide_type": "fragment"
    }
   },
   "source": [
    "We want to count the number of new accounts each day. We would try doing this using both RDDs and DataFrames and compare their performance."
   ]
  },
  {
   "cell_type": "markdown",
   "metadata": {
    "slideshow": {
     "slide_type": "subslide"
    }
   },
   "source": [
    "### RDD\n",
    "We want to count the number of new accounts added each day. We first convert our dataframe to rdd. In  data, each row corresponds to one account. So each row contributes one new account. We map each row with neumerical value 1 (number of accounts each row contributes)."
   ]
  },
  {
   "cell_type": "markdown",
   "metadata": {
    "slideshow": {
     "slide_type": "fragment"
    }
   },
   "source": [
    "Then we reduce our data using date as the key and add the values corresponding to same date."
   ]
  },
  {
   "cell_type": "code",
   "execution_count": 32,
   "metadata": {
    "collapsed": false,
    "slideshow": {
     "slide_type": "fragment"
    }
   },
   "outputs": [
    {
     "name": "stdout",
     "output_type": "stream",
     "text": [
      "aggregated_df maps each date to number of accounts that were created.\n",
      "Number of rows =  1985\n",
      "Time taken = 1.97528195381 seconds.\n"
     ]
    }
   ],
   "source": [
    "start_time = time()\n",
    "aggregated_df = date_df.rdd.map(lambda a: (a, 1)).reduceByKey(operator.add).toDF()\n",
    "print (\"aggregated_df maps each date to number of accounts that were created.\")\n",
    "print (\"Number of rows = \",aggregated_df.count())\n",
    "time_taken_rdd = time() - start_time\n",
    "print (\"Time taken =\", time_taken_rdd, \"seconds.\")"
   ]
  },
  {
   "cell_type": "markdown",
   "metadata": {
    "slideshow": {
     "slide_type": "subslide"
    }
   },
   "source": [
    "### DataFrame"
   ]
  },
  {
   "cell_type": "code",
   "execution_count": 33,
   "metadata": {
    "collapsed": false,
    "slideshow": {
     "slide_type": "fragment"
    }
   },
   "outputs": [
    {
     "name": "stdout",
     "output_type": "stream",
     "text": [
      "aggregated_df maps each date to number of accounts that were created.\n",
      "Number of rows =  1985\n",
      "Time taken = 1.90125417709 seconds.\n"
     ]
    }
   ],
   "source": [
    "start_time = time()\n",
    "aggregated_df = date_df.groupBy('CreationDate').count()\n",
    "print (\"aggregated_df maps each date to number of accounts that were created.\")\n",
    "print (\"Number of rows = \",aggregated_df.count())\n",
    "time_taken_df = time() - start_time\n",
    "print (\"Time taken =\", time_taken_df, \"seconds.\")"
   ]
  },
  {
   "cell_type": "code",
   "execution_count": 34,
   "metadata": {
    "collapsed": false,
    "slideshow": {
     "slide_type": "subslide"
    }
   },
   "outputs": [
    {
     "name": "stdout",
     "output_type": "stream",
     "text": [
      "time_taken_rdd = 1.97528195381\n",
      "time_taken_df = 1.90125417709\n",
      "Speed up = 1.03893628617\n"
     ]
    }
   ],
   "source": [
    "print (\"time_taken_rdd =\", time_taken_rdd)\n",
    "print (\"time_taken_df =\", time_taken_df)\n",
    "print (\"Speed up =\",time_taken_rdd/time_taken_df)"
   ]
  },
  {
   "cell_type": "markdown",
   "metadata": {
    "slideshow": {
     "slide_type": "fragment"
    }
   },
   "source": [
    "### DataFrames are many times faster than RDDs."
   ]
  },
  {
   "cell_type": "code",
   "execution_count": 35,
   "metadata": {
    "collapsed": false,
    "slideshow": {
     "slide_type": "slide"
    }
   },
   "outputs": [
    {
     "name": "stdout",
     "output_type": "stream",
     "text": [
      "root\n",
      " |-- CreationDate: date (nullable = true)\n",
      " |-- count: long (nullable = false)\n",
      "\n"
     ]
    }
   ],
   "source": [
    "aggregated_df.printSchema()"
   ]
  },
  {
   "cell_type": "code",
   "execution_count": 36,
   "metadata": {
    "collapsed": false,
    "slideshow": {
     "slide_type": "slide"
    }
   },
   "outputs": [
    {
     "data": {
      "text/html": [
       "<div>\n",
       "<table border=\"1\" class=\"dataframe\">\n",
       "  <thead>\n",
       "    <tr style=\"text-align: right;\">\n",
       "      <th></th>\n",
       "      <th>CreationDate</th>\n",
       "      <th>NewAccounts</th>\n",
       "    </tr>\n",
       "  </thead>\n",
       "  <tbody>\n",
       "    <tr>\n",
       "      <th>0</th>\n",
       "      <td>2010-07-28</td>\n",
       "      <td>154</td>\n",
       "    </tr>\n",
       "    <tr>\n",
       "      <th>1</th>\n",
       "      <td>2010-07-29</td>\n",
       "      <td>64</td>\n",
       "    </tr>\n",
       "    <tr>\n",
       "      <th>2</th>\n",
       "      <td>2010-07-30</td>\n",
       "      <td>8</td>\n",
       "    </tr>\n",
       "    <tr>\n",
       "      <th>3</th>\n",
       "      <td>2010-07-31</td>\n",
       "      <td>3</td>\n",
       "    </tr>\n",
       "    <tr>\n",
       "      <th>4</th>\n",
       "      <td>2010-08-02</td>\n",
       "      <td>12</td>\n",
       "    </tr>\n",
       "    <tr>\n",
       "      <th>5</th>\n",
       "      <td>2010-08-03</td>\n",
       "      <td>16</td>\n",
       "    </tr>\n",
       "    <tr>\n",
       "      <th>6</th>\n",
       "      <td>2010-08-04</td>\n",
       "      <td>147</td>\n",
       "    </tr>\n",
       "    <tr>\n",
       "      <th>7</th>\n",
       "      <td>2010-08-05</td>\n",
       "      <td>181</td>\n",
       "    </tr>\n",
       "    <tr>\n",
       "      <th>8</th>\n",
       "      <td>2010-08-06</td>\n",
       "      <td>74</td>\n",
       "    </tr>\n",
       "    <tr>\n",
       "      <th>9</th>\n",
       "      <td>2010-08-07</td>\n",
       "      <td>29</td>\n",
       "    </tr>\n",
       "    <tr>\n",
       "      <th>10</th>\n",
       "      <td>2010-08-08</td>\n",
       "      <td>25</td>\n",
       "    </tr>\n",
       "    <tr>\n",
       "      <th>11</th>\n",
       "      <td>2010-08-09</td>\n",
       "      <td>44</td>\n",
       "    </tr>\n",
       "    <tr>\n",
       "      <th>12</th>\n",
       "      <td>2010-08-10</td>\n",
       "      <td>21</td>\n",
       "    </tr>\n",
       "    <tr>\n",
       "      <th>13</th>\n",
       "      <td>2010-08-11</td>\n",
       "      <td>33</td>\n",
       "    </tr>\n",
       "    <tr>\n",
       "      <th>14</th>\n",
       "      <td>2010-08-12</td>\n",
       "      <td>31</td>\n",
       "    </tr>\n",
       "    <tr>\n",
       "      <th>15</th>\n",
       "      <td>2010-08-13</td>\n",
       "      <td>31</td>\n",
       "    </tr>\n",
       "    <tr>\n",
       "      <th>16</th>\n",
       "      <td>2010-08-14</td>\n",
       "      <td>60</td>\n",
       "    </tr>\n",
       "    <tr>\n",
       "      <th>17</th>\n",
       "      <td>2010-08-15</td>\n",
       "      <td>16</td>\n",
       "    </tr>\n",
       "    <tr>\n",
       "      <th>18</th>\n",
       "      <td>2010-08-16</td>\n",
       "      <td>40</td>\n",
       "    </tr>\n",
       "    <tr>\n",
       "      <th>19</th>\n",
       "      <td>2010-08-17</td>\n",
       "      <td>37</td>\n",
       "    </tr>\n",
       "    <tr>\n",
       "      <th>20</th>\n",
       "      <td>2010-08-18</td>\n",
       "      <td>37</td>\n",
       "    </tr>\n",
       "    <tr>\n",
       "      <th>21</th>\n",
       "      <td>2010-08-19</td>\n",
       "      <td>28</td>\n",
       "    </tr>\n",
       "    <tr>\n",
       "      <th>22</th>\n",
       "      <td>2010-08-20</td>\n",
       "      <td>71</td>\n",
       "    </tr>\n",
       "    <tr>\n",
       "      <th>23</th>\n",
       "      <td>2010-08-21</td>\n",
       "      <td>25</td>\n",
       "    </tr>\n",
       "    <tr>\n",
       "      <th>24</th>\n",
       "      <td>2010-08-22</td>\n",
       "      <td>25</td>\n",
       "    </tr>\n",
       "    <tr>\n",
       "      <th>25</th>\n",
       "      <td>2010-08-23</td>\n",
       "      <td>25</td>\n",
       "    </tr>\n",
       "    <tr>\n",
       "      <th>26</th>\n",
       "      <td>2010-08-24</td>\n",
       "      <td>22</td>\n",
       "    </tr>\n",
       "    <tr>\n",
       "      <th>27</th>\n",
       "      <td>2010-08-25</td>\n",
       "      <td>18</td>\n",
       "    </tr>\n",
       "    <tr>\n",
       "      <th>28</th>\n",
       "      <td>2010-08-26</td>\n",
       "      <td>17</td>\n",
       "    </tr>\n",
       "    <tr>\n",
       "      <th>29</th>\n",
       "      <td>2010-08-27</td>\n",
       "      <td>8</td>\n",
       "    </tr>\n",
       "    <tr>\n",
       "      <th>...</th>\n",
       "      <td>...</td>\n",
       "      <td>...</td>\n",
       "    </tr>\n",
       "    <tr>\n",
       "      <th>1955</th>\n",
       "      <td>2015-12-05</td>\n",
       "      <td>270</td>\n",
       "    </tr>\n",
       "    <tr>\n",
       "      <th>1956</th>\n",
       "      <td>2015-12-06</td>\n",
       "      <td>273</td>\n",
       "    </tr>\n",
       "    <tr>\n",
       "      <th>1957</th>\n",
       "      <td>2015-12-07</td>\n",
       "      <td>343</td>\n",
       "    </tr>\n",
       "    <tr>\n",
       "      <th>1958</th>\n",
       "      <td>2015-12-08</td>\n",
       "      <td>354</td>\n",
       "    </tr>\n",
       "    <tr>\n",
       "      <th>1959</th>\n",
       "      <td>2015-12-09</td>\n",
       "      <td>384</td>\n",
       "    </tr>\n",
       "    <tr>\n",
       "      <th>1960</th>\n",
       "      <td>2015-12-10</td>\n",
       "      <td>349</td>\n",
       "    </tr>\n",
       "    <tr>\n",
       "      <th>1961</th>\n",
       "      <td>2015-12-11</td>\n",
       "      <td>343</td>\n",
       "    </tr>\n",
       "    <tr>\n",
       "      <th>1962</th>\n",
       "      <td>2015-12-12</td>\n",
       "      <td>278</td>\n",
       "    </tr>\n",
       "    <tr>\n",
       "      <th>1963</th>\n",
       "      <td>2015-12-13</td>\n",
       "      <td>279</td>\n",
       "    </tr>\n",
       "    <tr>\n",
       "      <th>1964</th>\n",
       "      <td>2015-12-14</td>\n",
       "      <td>323</td>\n",
       "    </tr>\n",
       "    <tr>\n",
       "      <th>1965</th>\n",
       "      <td>2015-12-15</td>\n",
       "      <td>355</td>\n",
       "    </tr>\n",
       "    <tr>\n",
       "      <th>1966</th>\n",
       "      <td>2015-12-16</td>\n",
       "      <td>348</td>\n",
       "    </tr>\n",
       "    <tr>\n",
       "      <th>1967</th>\n",
       "      <td>2015-12-17</td>\n",
       "      <td>342</td>\n",
       "    </tr>\n",
       "    <tr>\n",
       "      <th>1968</th>\n",
       "      <td>2015-12-18</td>\n",
       "      <td>340</td>\n",
       "    </tr>\n",
       "    <tr>\n",
       "      <th>1969</th>\n",
       "      <td>2015-12-19</td>\n",
       "      <td>307</td>\n",
       "    </tr>\n",
       "    <tr>\n",
       "      <th>1970</th>\n",
       "      <td>2015-12-20</td>\n",
       "      <td>297</td>\n",
       "    </tr>\n",
       "    <tr>\n",
       "      <th>1971</th>\n",
       "      <td>2015-12-21</td>\n",
       "      <td>326</td>\n",
       "    </tr>\n",
       "    <tr>\n",
       "      <th>1972</th>\n",
       "      <td>2015-12-22</td>\n",
       "      <td>347</td>\n",
       "    </tr>\n",
       "    <tr>\n",
       "      <th>1973</th>\n",
       "      <td>2015-12-23</td>\n",
       "      <td>367</td>\n",
       "    </tr>\n",
       "    <tr>\n",
       "      <th>1974</th>\n",
       "      <td>2015-12-24</td>\n",
       "      <td>289</td>\n",
       "    </tr>\n",
       "    <tr>\n",
       "      <th>1975</th>\n",
       "      <td>2015-12-25</td>\n",
       "      <td>226</td>\n",
       "    </tr>\n",
       "    <tr>\n",
       "      <th>1976</th>\n",
       "      <td>2015-12-26</td>\n",
       "      <td>240</td>\n",
       "    </tr>\n",
       "    <tr>\n",
       "      <th>1977</th>\n",
       "      <td>2015-12-27</td>\n",
       "      <td>248</td>\n",
       "    </tr>\n",
       "    <tr>\n",
       "      <th>1978</th>\n",
       "      <td>2015-12-28</td>\n",
       "      <td>332</td>\n",
       "    </tr>\n",
       "    <tr>\n",
       "      <th>1979</th>\n",
       "      <td>2015-12-29</td>\n",
       "      <td>333</td>\n",
       "    </tr>\n",
       "    <tr>\n",
       "      <th>1980</th>\n",
       "      <td>2015-12-30</td>\n",
       "      <td>360</td>\n",
       "    </tr>\n",
       "    <tr>\n",
       "      <th>1981</th>\n",
       "      <td>2015-12-31</td>\n",
       "      <td>272</td>\n",
       "    </tr>\n",
       "    <tr>\n",
       "      <th>1982</th>\n",
       "      <td>2016-01-01</td>\n",
       "      <td>247</td>\n",
       "    </tr>\n",
       "    <tr>\n",
       "      <th>1983</th>\n",
       "      <td>2016-01-02</td>\n",
       "      <td>283</td>\n",
       "    </tr>\n",
       "    <tr>\n",
       "      <th>1984</th>\n",
       "      <td>2016-01-03</td>\n",
       "      <td>43</td>\n",
       "    </tr>\n",
       "  </tbody>\n",
       "</table>\n",
       "<p>1985 rows × 2 columns</p>\n",
       "</div>"
      ],
      "text/plain": [
       "     CreationDate  NewAccounts\n",
       "0      2010-07-28          154\n",
       "1      2010-07-29           64\n",
       "2      2010-07-30            8\n",
       "3      2010-07-31            3\n",
       "4      2010-08-02           12\n",
       "5      2010-08-03           16\n",
       "6      2010-08-04          147\n",
       "7      2010-08-05          181\n",
       "8      2010-08-06           74\n",
       "9      2010-08-07           29\n",
       "10     2010-08-08           25\n",
       "11     2010-08-09           44\n",
       "12     2010-08-10           21\n",
       "13     2010-08-11           33\n",
       "14     2010-08-12           31\n",
       "15     2010-08-13           31\n",
       "16     2010-08-14           60\n",
       "17     2010-08-15           16\n",
       "18     2010-08-16           40\n",
       "19     2010-08-17           37\n",
       "20     2010-08-18           37\n",
       "21     2010-08-19           28\n",
       "22     2010-08-20           71\n",
       "23     2010-08-21           25\n",
       "24     2010-08-22           25\n",
       "25     2010-08-23           25\n",
       "26     2010-08-24           22\n",
       "27     2010-08-25           18\n",
       "28     2010-08-26           17\n",
       "29     2010-08-27            8\n",
       "...           ...          ...\n",
       "1955   2015-12-05          270\n",
       "1956   2015-12-06          273\n",
       "1957   2015-12-07          343\n",
       "1958   2015-12-08          354\n",
       "1959   2015-12-09          384\n",
       "1960   2015-12-10          349\n",
       "1961   2015-12-11          343\n",
       "1962   2015-12-12          278\n",
       "1963   2015-12-13          279\n",
       "1964   2015-12-14          323\n",
       "1965   2015-12-15          355\n",
       "1966   2015-12-16          348\n",
       "1967   2015-12-17          342\n",
       "1968   2015-12-18          340\n",
       "1969   2015-12-19          307\n",
       "1970   2015-12-20          297\n",
       "1971   2015-12-21          326\n",
       "1972   2015-12-22          347\n",
       "1973   2015-12-23          367\n",
       "1974   2015-12-24          289\n",
       "1975   2015-12-25          226\n",
       "1976   2015-12-26          240\n",
       "1977   2015-12-27          248\n",
       "1978   2015-12-28          332\n",
       "1979   2015-12-29          333\n",
       "1980   2015-12-30          360\n",
       "1981   2015-12-31          272\n",
       "1982   2016-01-01          247\n",
       "1983   2016-01-02          283\n",
       "1984   2016-01-03           43\n",
       "\n",
       "[1985 rows x 2 columns]"
      ]
     },
     "execution_count": 36,
     "metadata": {},
     "output_type": "execute_result"
    }
   ],
   "source": [
    "pandas_df = aggregated_df.select(\"CreationDate\", aggregated_df[\"count\"].alias(\"NewAccounts\"))\\\n",
    ".orderBy(func.asc(\"CreationDate\")).toPandas()\n",
    "pandas_df"
   ]
  },
  {
   "cell_type": "markdown",
   "metadata": {
    "slideshow": {
     "slide_type": "slide"
    }
   },
   "source": [
    "Let us plot this data and see if there is any interesting observation."
   ]
  },
  {
   "cell_type": "code",
   "execution_count": 37,
   "metadata": {
    "collapsed": false,
    "slideshow": {
     "slide_type": "skip"
    }
   },
   "outputs": [
    {
     "data": {
      "text/plain": [
       "[<matplotlib.lines.Line2D at 0x7f73b051c090>]"
      ]
     },
     "execution_count": 37,
     "metadata": {},
     "output_type": "execute_result"
    },
    {
     "data": {
      "image/png": "[encoded data removed]",
      "text/plain": [
       "<matplotlib.figure.Figure at 0x7f73b09303d0>"
      ]
     },
     "metadata": {},
     "output_type": "display_data"
    }
   ],
   "source": [
    "# %matplotlib qt\n",
    "plt.plot(pandas_df.CreationDate, pandas_df.NewAccounts)"
   ]
  },
  {
   "cell_type": "code",
   "execution_count": 38,
   "metadata": {
    "collapsed": false,
    "slideshow": {
     "slide_type": "slide"
    }
   },
   "outputs": [
    {
     "data": {
      "text/plain": [
       "[<matplotlib.lines.Line2D at 0x7f73b058d090>]"
      ]
     },
     "execution_count": 38,
     "metadata": {},
     "output_type": "execute_result"
    },
    {
     "data": {
      "image/png": "[encoded data removed]",
      "text/plain": [
       "<matplotlib.figure.Figure at 0x7f73b0934d10>"
      ]
     },
     "metadata": {},
     "output_type": "display_data"
    }
   ],
   "source": [
    "%matplotlib inline\n",
    "plt.plot(pandas_df.CreationDate, pandas_df.NewAccounts)"
   ]
  },
  {
   "cell_type": "markdown",
   "metadata": {
    "collapsed": false,
    "slideshow": {
     "slide_type": "fragment"
    }
   },
   "source": [
    "Interesting! We can see a spike. If we zoom into the data, we see the date of the spike as 25th September, 2014 when around 1080 new users joined AskUbuntu. A cursory [Google search](https://www.google.com/?q=24th%20september%202014%20ubuntu) reported that [USN-2362-1: Bash vulnerability](http://www.ubuntu.com/usn/usn-2362-1/) was reported on this day."
   ]
  },
  {
   "cell_type": "markdown",
   "metadata": {
    "slideshow": {
     "slide_type": "fragment"
    }
   },
   "source": [
    "The other, smaller peaks occur close to release dates of new versions of Ubuntu."
   ]
  }
 ],
 "metadata": {
  "celltoolbar": "Slideshow",
  "kernelspec": {
   "display_name": "Python 2",
   "language": "python",
   "name": "python2"
  },
  "language_info": {
   "codemirror_mode": {
    "name": "ipython",
    "version": 2
   },
   "file_extension": ".py",
   "mimetype": "text/x-python",
   "name": "python",
   "nbconvert_exporter": "python",
   "pygments_lexer": "ipython2",
   "version": "2.7.6"
  }
 },
 "nbformat": 4,
 "nbformat_minor": 0
}
