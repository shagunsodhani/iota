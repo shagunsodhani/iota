{
 "cells": [
  {
   "cell_type": "markdown",
   "metadata": {
    "collapsed": false,
    "slideshow": {
     "slide_type": "slide"
    }
   },
   "source": [
    "![Python Logo](../../assets/images/python-logo-master-v3-TM.png)\n",
    "\n",
    "# <center> Applying Word2Vec on AskUbuntu Question Data </center>\n",
    "### <center> Shagun Sodhani </center>"
   ]
  },
  {
   "cell_type": "code",
   "execution_count": 1,
   "metadata": {
    "collapsed": true,
    "slideshow": {
     "slide_type": "skip"
    }
   },
   "outputs": [],
   "source": [
    "# put in the name of the Stack Exchange Site which you want to analyse.\n",
    "data_source = \"AskUbuntu\"\n",
    "data_type = \"Question\"\n",
    "local_question_data_path = \"../../data/\"+data_source+\"/\"+data_type\n",
    "use_local_datapath = True\n",
    "# If this is set to false, dbfs_data_path is used to read the data.\n",
    "dbfs_question_data_path = \"\"\n",
    "# dbfs_data_path is to be used when running the notebook on Databricks and data has been uploaded to dbfs. \n",
    "# For more details, refer https://github.com/shagunsodhani/PyCon2016"
   ]
  },
  {
   "cell_type": "markdown",
   "metadata": {
    "slideshow": {
     "slide_type": "slide"
    }
   },
   "source": [
    "## Let us begin"
   ]
  },
  {
   "cell_type": "markdown",
   "metadata": {
    "collapsed": false,
    "slideshow": {
     "slide_type": "subslide"
    }
   },
   "source": [
    "### We will import everything in one cell for the sake for reference."
   ]
  },
  {
   "cell_type": "code",
   "execution_count": 2,
   "metadata": {
    "collapsed": true,
    "slideshow": {
     "slide_type": "fragment"
    }
   },
   "outputs": [],
   "source": [
    "import pyspark.sql.functions as func\n",
    "import matplotlib.pyplot as plt\n",
    "import seaborn as sns\n",
    "import pandas as pd\n",
    "from pyspark.mllib.feature import Word2Vec\n",
    "from pyspark.mllib.feature import Word2VecModel\n",
    "from pyspark.ml.feature import PCA\n",
    "from time import time\n",
    "import operator\n",
    "%matplotlib inline\n",
    "from __future__ import print_function"
   ]
  },
  {
   "cell_type": "markdown",
   "metadata": {
    "collapsed": false,
    "slideshow": {
     "slide_type": "slide"
    }
   },
   "source": [
    "### Now let us load the question data as a dataframe. Since we will be using this data many times, we will cache it in memory."
   ]
  },
  {
   "cell_type": "code",
   "execution_count": 3,
   "metadata": {
    "collapsed": false,
    "slideshow": {
     "slide_type": "subslide"
    }
   },
   "outputs": [
    {
     "name": "stdout",
     "output_type": "stream",
     "text": [
      "data_source = AskUbuntu\n",
      "data_type = Question\n",
      "question_data_path = ../../data/AskUbuntu/Question\n",
      "Time taken = 13.6627190113 seconds.\n"
     ]
    }
   ],
   "source": [
    "start_time = time()\n",
    "print (\"data_source =\", data_source)\n",
    "print (\"data_type =\", data_type)\n",
    "if(use_local_datapath):\n",
    "    question_data_path = local_question_data_path\n",
    "else:\n",
    "    question_data_path = dbfs_question_data_path\n",
    "print (\"question_data_path =\",question_data_path)\n",
    "question_df = sqlContext.read.load(question_data_path).cache()\n",
    "print (\"Time taken =\", time() - start_time, \"seconds.\")"
   ]
  },
  {
   "cell_type": "code",
   "execution_count": 4,
   "metadata": {
    "collapsed": false,
    "slideshow": {
     "slide_type": "subslide"
    }
   },
   "outputs": [
    {
     "name": "stdout",
     "output_type": "stream",
     "text": [
      "Schema for question dataframe\n",
      "root\n",
      " |-- Id: long (nullable = true)\n",
      " |-- AcceptedAnswerId: long (nullable = true)\n",
      " |-- CreationDate: string (nullable = true)\n",
      " |-- Score: long (nullable = true)\n",
      " |-- ViewCount: long (nullable = true)\n",
      " |-- Body: string (nullable = true)\n",
      " |-- OwnerUserId: long (nullable = true)\n",
      " |-- LastEditorUserId: long (nullable = true)\n",
      " |-- LastEditorDisplayName: string (nullable = true)\n",
      " |-- LastEditDate: string (nullable = true)\n",
      " |-- LastActivityDate: string (nullable = true)\n",
      " |-- CommunityOwnedDate: string (nullable = true)\n",
      " |-- ClosedDate: string (nullable = true)\n",
      " |-- Title: string (nullable = true)\n",
      " |-- Tags: string (nullable = true)\n",
      " |-- AnswerCount: long (nullable = true)\n",
      " |-- CommentCount: long (nullable = true)\n",
      " |-- FavoriteCount: long (nullable = true)\n",
      "\n"
     ]
    }
   ],
   "source": [
    "print(\"Schema for question dataframe\")\n",
    "question_df.printSchema()"
   ]
  },
  {
   "cell_type": "markdown",
   "metadata": {
    "slideshow": {
     "slide_type": "slide"
    }
   },
   "source": [
    "### We want to play with the question text data."
   ]
  },
  {
   "cell_type": "code",
   "execution_count": 5,
   "metadata": {
    "collapsed": false,
    "slideshow": {
     "slide_type": "subslide"
    }
   },
   "outputs": [
    {
     "name": "stdout",
     "output_type": "stream",
     "text": [
      "+--------------------+\n",
      "|                Body|\n",
      "+--------------------+\n",
      "|<p>Update Manager...|\n",
      "|<p>I take photos ...|\n",
      "|<p>I have been pl...|\n",
      "|<p>When you insta...|\n",
      "|<p>I would like U...|\n",
      "+--------------------+\n",
      "only showing top 5 rows\n",
      "\n"
     ]
    }
   ],
   "source": [
    "question_df.select('Body').show(5)"
   ]
  },
  {
   "cell_type": "code",
   "execution_count": 6,
   "metadata": {
    "collapsed": false,
    "slideshow": {
     "slide_type": "fragment"
    }
   },
   "outputs": [
    {
     "data": {
      "text/plain": [
       "u'<p>Update Manager is constantly offering me updates (e.g. security fixes, updates from PPAs).</p>\\n\\n<p>How can I tell my Ubuntu installation to automatically download and install updates whenever they become available?</p>\\n'"
      ]
     },
     "execution_count": 6,
     "metadata": {},
     "output_type": "execute_result"
    }
   ],
   "source": [
    "question_df.select('Body').head()[0]"
   ]
  },
  {
   "cell_type": "code",
   "execution_count": 7,
   "metadata": {
    "collapsed": false,
    "slideshow": {
     "slide_type": "fragment"
    }
   },
   "outputs": [
    {
     "name": "stdout",
     "output_type": "stream",
     "text": [
      "Number of questions = 230177\n"
     ]
    }
   ],
   "source": [
    "print (\"Number of questions =\", question_df.count())"
   ]
  },
  {
   "cell_type": "markdown",
   "metadata": {
    "slideshow": {
     "slide_type": "fragment"
    }
   },
   "source": [
    "### We need to clean up this data. Specifically, we want to remove the all the HTML tags. We will use the [regex_replace](https://spark.apache.org/docs/1.5.2/api/python/pyspark.sql.html#pyspark.sql.functions.regexp_replace) function."
   ]
  },
  {
   "cell_type": "code",
   "execution_count": 8,
   "metadata": {
    "collapsed": false,
    "slideshow": {
     "slide_type": "subslide"
    }
   },
   "outputs": [
    {
     "data": {
      "text/plain": [
       "u'Update Manager is constantly offering me updates (e.g. security fixes, updates from PPAs).  How can I tell my Ubuntu installation to automatically download and install updates whenever they become available? '"
      ]
     },
     "execution_count": 8,
     "metadata": {},
     "output_type": "execute_result"
    }
   ],
   "source": [
    "regex_to_remove = '<[^>]*>'\n",
    "body_df = question_df.select(func.regexp_replace\\\n",
    "                   (func.regexp_replace('Body', '\\n', ' '), regex_to_remove, '').alias('Body'))\n",
    "body_df.head()[0]"
   ]
  },
  {
   "cell_type": "markdown",
   "metadata": {
    "slideshow": {
     "slide_type": "slide"
    }
   },
   "source": [
    "### Now we will replace each row with an array of words before we feed it to the Word2Vec Model. For this, we would use the [split function](https://spark.apache.org/docs/1.5.2/api/python/pyspark.sql.html#pyspark.sql.functions.split) "
   ]
  },
  {
   "cell_type": "code",
   "execution_count": 9,
   "metadata": {
    "collapsed": false,
    "slideshow": {
     "slide_type": "fragment"
    }
   },
   "outputs": [
    {
     "data": {
      "text/plain": [
       "[u'Update',\n",
       " u'Manager',\n",
       " u'is',\n",
       " u'constantly',\n",
       " u'offering',\n",
       " u'me',\n",
       " u'updates',\n",
       " u'(e.g.',\n",
       " u'security',\n",
       " u'fixes,',\n",
       " u'updates',\n",
       " u'from',\n",
       " u'PPAs).',\n",
       " u'',\n",
       " u'How',\n",
       " u'can',\n",
       " u'I',\n",
       " u'tell',\n",
       " u'my',\n",
       " u'Ubuntu',\n",
       " u'installation',\n",
       " u'to',\n",
       " u'automatically',\n",
       " u'download',\n",
       " u'and',\n",
       " u'install',\n",
       " u'updates',\n",
       " u'whenever',\n",
       " u'they',\n",
       " u'become',\n",
       " u'available?',\n",
       " u'']"
      ]
     },
     "execution_count": 9,
     "metadata": {},
     "output_type": "execute_result"
    }
   ],
   "source": [
    "body_df.select(func.split('Body', ' ').alias('Body')).head()[0]"
   ]
  },
  {
   "cell_type": "markdown",
   "metadata": {
    "slideshow": {
     "slide_type": "slide"
    }
   },
   "source": [
    "### We have many empty words, words in different cases and unnecessary punctuation marks in data. Lets update the regex to take care of these issues.\n"
   ]
  },
  {
   "cell_type": "code",
   "execution_count": 10,
   "metadata": {
    "collapsed": false,
    "slideshow": {
     "slide_type": "fragment"
    }
   },
   "outputs": [
    {
     "name": "stdout",
     "output_type": "stream",
     "text": [
      "Number of words = 32\n"
     ]
    },
    {
     "data": {
      "text/plain": [
       "[u'update',\n",
       " u'manager',\n",
       " u'is',\n",
       " u'constantly',\n",
       " u'offering',\n",
       " u'me',\n",
       " u'updates',\n",
       " u'e.g.',\n",
       " u'security',\n",
       " u'fixes,',\n",
       " u'updates',\n",
       " u'from',\n",
       " u'ppas.',\n",
       " u'',\n",
       " u'how',\n",
       " u'can',\n",
       " u'i',\n",
       " u'tell',\n",
       " u'my',\n",
       " u'ubuntu',\n",
       " u'installation',\n",
       " u'to',\n",
       " u'automatically',\n",
       " u'download',\n",
       " u'and',\n",
       " u'install',\n",
       " u'updates',\n",
       " u'whenever',\n",
       " u'they',\n",
       " u'become',\n",
       " u'available?',\n",
       " u'']"
      ]
     },
     "execution_count": 10,
     "metadata": {},
     "output_type": "execute_result"
    }
   ],
   "source": [
    "regex_to_remove = '<[^>]*>|\\\\\\'|\"|\\(|\\)|\\[|\\]'\n",
    "body_df = question_df.select(func.lower(func.regexp_replace\\\n",
    "                   (func.regexp_replace('Body', '\\n', ' '), regex_to_remove, '')).alias('Body'))\n",
    "body_df = body_df.select(func.split('Body', ' ').alias('Body'))\n",
    "print (\"Number of words =\", len(body_df.head()[0]))\n",
    "body_df.head()[0]"
   ]
  },
  {
   "cell_type": "markdown",
   "metadata": {
    "slideshow": {
     "slide_type": "slide"
    }
   },
   "source": [
    "### We will remove the empty words using a udf (user defined function)"
   ]
  },
  {
   "cell_type": "code",
   "execution_count": 11,
   "metadata": {
    "collapsed": false,
    "slideshow": {
     "slide_type": "fragment"
    }
   },
   "outputs": [
    {
     "name": "stdout",
     "output_type": "stream",
     "text": [
      "Number of words = 30\n"
     ]
    },
    {
     "data": {
      "text/plain": [
       "[u'update',\n",
       " u'manager',\n",
       " u'is',\n",
       " u'constantly',\n",
       " u'offering',\n",
       " u'me',\n",
       " u'updates',\n",
       " u'e.g.',\n",
       " u'security',\n",
       " u'fixes,',\n",
       " u'updates',\n",
       " u'from',\n",
       " u'ppas.',\n",
       " u'how',\n",
       " u'can',\n",
       " u'i',\n",
       " u'tell',\n",
       " u'my',\n",
       " u'ubuntu',\n",
       " u'installation',\n",
       " u'to',\n",
       " u'automatically',\n",
       " u'download',\n",
       " u'and',\n",
       " u'install',\n",
       " u'updates',\n",
       " u'whenever',\n",
       " u'they',\n",
       " u'become',\n",
       " u'available?']"
      ]
     },
     "execution_count": 11,
     "metadata": {},
     "output_type": "execute_result"
    }
   ],
   "source": [
    "from pyspark.sql.types import ArrayType, StringType\n",
    "remove_empty = func.udf(lambda row: filter(None, row), ArrayType(StringType()))\n",
    "body_df = body_df.select(remove_empty('Body').alias('Body'))\n",
    "print (\"Number of words =\", len(body_df.head()[0]))\n",
    "body_df.head()[0]"
   ]
  },
  {
   "cell_type": "markdown",
   "metadata": {
    "slideshow": {
     "slide_type": "slide"
    }
   },
   "source": [
    "### Now that our data has been preprocessed, we can setup our model.\n"
   ]
  },
  {
   "cell_type": "code",
   "execution_count": 12,
   "metadata": {
    "collapsed": false,
    "slideshow": {
     "slide_type": "subslide"
    }
   },
   "outputs": [
    {
     "name": "stdout",
     "output_type": "stream",
     "text": [
      "Time taken = 861.547697067 seconds.\n"
     ]
    }
   ],
   "source": [
    "start_time = time()\n",
    "word2vec = Word2Vec().setSeed(42)\n",
    "body_data = body_df.map(lambda row: row[0])\n",
    "model = word2vec.fit(body_data)\n",
    "print (\"Time taken =\", time() - start_time, \"seconds.\")"
   ]
  },
  {
   "cell_type": "markdown",
   "metadata": {
    "slideshow": {
     "slide_type": "slide"
    }
   },
   "source": [
    "### We would save our model on disk so that we do not have to train it again.\n"
   ]
  },
  {
   "cell_type": "code",
   "execution_count": 13,
   "metadata": {
    "collapsed": false,
    "slideshow": {
     "slide_type": "fragment"
    }
   },
   "outputs": [],
   "source": [
    "path_to_save_model = \"model/AskUbuntu/Question/Word2Vec\""
   ]
  },
  {
   "cell_type": "code",
   "execution_count": 14,
   "metadata": {
    "collapsed": false,
    "slideshow": {
     "slide_type": "fragment"
    }
   },
   "outputs": [
    {
     "name": "stdout",
     "output_type": "stream",
     "text": [
      "Time taken = 8.57631611824 seconds.\n"
     ]
    }
   ],
   "source": [
    "start_time = time()\n",
    "model.save(sc, path_to_save_model)\n",
    "print (\"Time taken =\", time() - start_time, \"seconds.\")"
   ]
  },
  {
   "cell_type": "markdown",
   "metadata": {
    "slideshow": {
     "slide_type": "slide"
    }
   },
   "source": [
    "### Now we see how to load the model from disk to main memory.\n"
   ]
  },
  {
   "cell_type": "code",
   "execution_count": 15,
   "metadata": {
    "collapsed": false,
    "slideshow": {
     "slide_type": "fragment"
    }
   },
   "outputs": [
    {
     "name": "stdout",
     "output_type": "stream",
     "text": [
      "Time taken = 11.1817331314 seconds.\n"
     ]
    }
   ],
   "source": [
    "start_time = time()\n",
    "loaded_model = Word2VecModel.load(sc, path_to_save_model)\n",
    "word_to_test = \"ubuntu\"\n",
    "loaded_model.transform(word_to_test) == model.transform(word_to_test)\n",
    "print (\"Time taken =\", time() - start_time, \"seconds.\")"
   ]
  },
  {
   "cell_type": "markdown",
   "metadata": {
    "slideshow": {
     "slide_type": "slide"
    }
   },
   "source": [
    "### Lets play with it now.\n"
   ]
  },
  {
   "cell_type": "code",
   "execution_count": 16,
   "metadata": {
    "collapsed": false,
    "slideshow": {
     "slide_type": "fragment"
    }
   },
   "outputs": [
    {
     "name": "stdout",
     "output_type": "stream",
     "text": [
      "12.04: 2.16638866271\n",
      "16.04: 2.11491750414\n",
      "14.10: 2.08178775852\n",
      "15.04: 2.07868309706\n",
      "14.04.2: 2.07382551201\n",
      "<pyspark.mllib.feature.Word2VecModel object at 0x7fc0546b4e50>\n"
     ]
    }
   ],
   "source": [
    "model.findSynonyms(\"14.04\", 5)\n",
    "word = \"14.04\"\n",
    "synonyms = model.findSynonyms(word, 5)\n",
    "\n",
    "for word, similarity in synonyms:\n",
    "    print(\"{}: {}\".format(word, similarity))\n",
    "print (model)"
   ]
  },
  {
   "cell_type": "code",
   "execution_count": 17,
   "metadata": {
    "collapsed": false,
    "slideshow": {
     "slide_type": "subslide"
    }
   },
   "outputs": [
    {
     "name": "stdout",
     "output_type": "stream",
     "text": [
      "script,: 1.59725651565\n",
      "script.: 1.58845261155\n",
      "test.sh: 1.5675463184\n",
      "#!/bin/bash: 1.51736792887\n",
      "script?: 1.50901785404\n"
     ]
    }
   ],
   "source": [
    "word = \"bash\"\n",
    "synonyms = model.findSynonyms(word, 5)\n",
    "\n",
    "for word, similarity in synonyms:\n",
    "    print(\"{}: {}\".format(word, similarity))"
   ]
  },
  {
   "cell_type": "code",
   "execution_count": 18,
   "metadata": {
    "collapsed": false,
    "slideshow": {
     "slide_type": "subslide"
    }
   },
   "outputs": [
    {
     "name": "stdout",
     "output_type": "stream",
     "text": [
      "precise: 3.24744999567\n",
      "utopic: 3.22089182519\n",
      "trusty-backports: 3.10068308008\n",
      "saucy: 3.07197714872\n",
      "http://ppa.launchpad.net/webupd8team/sublime-text-3/ubuntu: 3.06311970677\n"
     ]
    }
   ],
   "source": [
    "word = \"trusty\"\n",
    "synonyms = model.findSynonyms(word, 5)\n",
    "\n",
    "for word, similarity in synonyms:\n",
    "    print(\"{}: {}\".format(word, similarity))"
   ]
  },
  {
   "cell_type": "code",
   "execution_count": 19,
   "metadata": {
    "collapsed": false,
    "slideshow": {
     "slide_type": "subslide"
    }
   },
   "outputs": [
    {
     "name": "stdout",
     "output_type": "stream",
     "text": [
      "utopic\n"
     ]
    }
   ],
   "source": [
    "word1 = \"14.04\"\n",
    "word2 = \"trusty\"\n",
    "word3 = \"12.04\"\n",
    "word4 = model.findSynonyms(model.transform(word1) + model.transform(word2) - model.transform(word3), 1)[0][0]\n",
    "print (word4)"
   ]
  },
  {
   "cell_type": "markdown",
   "metadata": {
    "slideshow": {
     "slide_type": "fragment"
    }
   },
   "source": [
    "### 14.04 + trusty - 12.04 = precise"
   ]
  },
  {
   "cell_type": "markdown",
   "metadata": {
    "slideshow": {
     "slide_type": "slide"
    }
   },
   "source": [
    "### We will now visualise all the tags using Word2Vec"
   ]
  },
  {
   "cell_type": "markdown",
   "metadata": {
    "slideshow": {
     "slide_type": "fragment"
    }
   },
   "source": [
    "### We will first get a list of all the tags"
   ]
  },
  {
   "cell_type": "code",
   "execution_count": 20,
   "metadata": {
    "collapsed": false,
    "slideshow": {
     "slide_type": "slide"
    }
   },
   "outputs": [
    {
     "name": "stdout",
     "output_type": "stream",
     "text": [
      "+------------------------------------+\n",
      "|Tags                                |\n",
      "+------------------------------------+\n",
      "|updates,unattended-upgrades         |\n",
      "|wallpaper,artwork,photography       |\n",
      "|package-management,uninstall        |\n",
      "|command-line,package-management     |\n",
      "|ntp                                 |\n",
      "|applet,panel,networking             |\n",
      "|metacity,window-buttons             |\n",
      "|wine,browser,ie                     |\n",
      "|thunderbird,google-calendar,calendar|\n",
      "|firewall                            |\n",
      "+------------------------------------+\n",
      "only showing top 10 rows\n",
      "\n"
     ]
    }
   ],
   "source": [
    "tags_df = question_df.select(func.regexp_replace\\\n",
    "                   (func.regexp_replace('Tags', '><', ','), '<|>', '').alias('Tags'))\n",
    "tags_df.show(10, truncate = False)"
   ]
  },
  {
   "cell_type": "code",
   "execution_count": 21,
   "metadata": {
    "collapsed": false,
    "slideshow": {
     "slide_type": "subslide"
    }
   },
   "outputs": [
    {
     "name": "stdout",
     "output_type": "stream",
     "text": [
      "+-------------------+\n",
      "|Tag                |\n",
      "+-------------------+\n",
      "|updates            |\n",
      "|unattended-upgrades|\n",
      "|wallpaper          |\n",
      "|artwork            |\n",
      "|photography        |\n",
      "|package-management |\n",
      "|uninstall          |\n",
      "|command-line       |\n",
      "|package-management |\n",
      "|ntp                |\n",
      "+-------------------+\n",
      "only showing top 10 rows\n",
      "\n"
     ]
    }
   ],
   "source": [
    "tag_df = tags_df.select(func.explode(func.split('Tags', ',')).alias('Tag'))\n",
    "tag_df.show(10, truncate = False)"
   ]
  },
  {
   "cell_type": "code",
   "execution_count": 22,
   "metadata": {
    "collapsed": false,
    "slideshow": {
     "slide_type": "subslide"
    }
   },
   "outputs": [
    {
     "name": "stdout",
     "output_type": "stream",
     "text": [
      "Number of distinct tags = 3012\n"
     ]
    }
   ],
   "source": [
    "tag_df = tag_df.distinct()\n",
    "print (\"Number of distinct tags =\", tag_df.count())"
   ]
  },
  {
   "cell_type": "markdown",
   "metadata": {
    "slideshow": {
     "slide_type": "slide"
    }
   },
   "source": [
    "### Now we will map the tags with their word2Vec vectors using the trained model."
   ]
  },
  {
   "cell_type": "markdown",
   "metadata": {
    "slideshow": {
     "slide_type": "fragment"
    }
   },
   "source": [
    "### We will use a small utility function to filter tags that are not seen by our model (to be on the safe side)."
   ]
  },
  {
   "cell_type": "code",
   "execution_count": 23,
   "metadata": {
    "collapsed": false,
    "slideshow": {
     "slide_type": "fragment"
    }
   },
   "outputs": [],
   "source": [
    "def tag_in_model(tag):\n",
    "    try:\n",
    "        model.transform(tag)\n",
    "        return True\n",
    "    except Exception as e:\n",
    "        return False"
   ]
  },
  {
   "cell_type": "code",
   "execution_count": 24,
   "metadata": {
    "collapsed": false,
    "slideshow": {
     "slide_type": "subslide"
    }
   },
   "outputs": [
    {
     "name": "stdout",
     "output_type": "stream",
     "text": [
      "Total number of tags = 3012\n",
      "Number of tags after filtering = 2423\n"
     ]
    }
   ],
   "source": [
    "tag_list = tag_df.distinct().map(lambda tag: tag[0]).collect()\n",
    "tag_vector_list = filter(tag_in_model, tag_list)\n",
    "print (\"Total number of tags =\",len(tag_list))\n",
    "print (\"Number of tags after filtering =\",len(tag_vector_list))"
   ]
  },
  {
   "cell_type": "code",
   "execution_count": 25,
   "metadata": {
    "collapsed": false,
    "slideshow": {
     "slide_type": "fragment"
    }
   },
   "outputs": [
    {
     "data": {
      "text/plain": [
       "(u'launchpad',\n",
       " DenseVector([0.079, 0.1939, 0.1229, 0.0771, -0.0332, -0.2031, 0.1031, -0.2131, 0.0186, 0.0321, 0.3534, 0.0147, 0.0674, -0.0782, 0.0269, -0.2566, -0.0583, -0.2015, 0.3284, -0.0177, 0.2227, -0.0507, -0.0519, -0.0208, -0.1326, 0.017, 0.0939, 0.0059, 0.072, 0.0568, -0.0849, -0.3906, 0.1042, -0.1886, 0.1587, 0.3733, 0.2201, -0.253, 0.6294, 0.1747, 0.439, 0.024, -0.0621, 0.2597, -0.2157, -0.3843, 0.1761, 0.2847, 0.007, 0.0727, 0.5245, 0.174, 0.2433, -0.2612, 0.1461, 0.1763, -0.4042, -0.0032, -0.1984, 0.0648, -0.0462, 0.0371, 0.2103, -0.1557, 0.1028, -0.2634, 0.3768, 0.3779, -0.3792, -0.0002, -0.0023, 0.3495, 0.0013, -0.1416, -0.1145, -0.0856, -0.228, -0.0189, 0.36, 0.0896, 0.0139, -0.3468, 0.0471, 0.0141, -0.1207, 0.2516, 0.1658, 0.0877, 0.2914, 0.0556, 0.4962, 0.0292, 0.2409, -0.0271, -0.1366, 0.1542, 0.2931, -0.0209, -0.031, -0.058]))"
      ]
     },
     "execution_count": 25,
     "metadata": {},
     "output_type": "execute_result"
    }
   ],
   "source": [
    "tag_vector_map = [(tag, model.transform(tag)) for tag in tag_vector_list]\n",
    "tag_vector_map[0]"
   ]
  },
  {
   "cell_type": "markdown",
   "metadata": {
    "slideshow": {
     "slide_type": "slide"
    }
   },
   "source": [
    "### So far, we have been reading RDDs and DataFrames. Now, we will make a RDD and a DataFrame from a list."
   ]
  },
  {
   "cell_type": "code",
   "execution_count": 26,
   "metadata": {
    "collapsed": false,
    "scrolled": true,
    "slideshow": {
     "slide_type": "fragment"
    }
   },
   "outputs": [
    {
     "data": {
      "text/plain": [
       "[(u'launchpad',\n",
       "  DenseVector([0.079, 0.1939, 0.1229, 0.0771, -0.0332, -0.2031, 0.1031, -0.2131, 0.0186, 0.0321, 0.3534, 0.0147, 0.0674, -0.0782, 0.0269, -0.2566, -0.0583, -0.2015, 0.3284, -0.0177, 0.2227, -0.0507, -0.0519, -0.0208, -0.1326, 0.017, 0.0939, 0.0059, 0.072, 0.0568, -0.0849, -0.3906, 0.1042, -0.1886, 0.1587, 0.3733, 0.2201, -0.253, 0.6294, 0.1747, 0.439, 0.024, -0.0621, 0.2597, -0.2157, -0.3843, 0.1761, 0.2847, 0.007, 0.0727, 0.5245, 0.174, 0.2433, -0.2612, 0.1461, 0.1763, -0.4042, -0.0032, -0.1984, 0.0648, -0.0462, 0.0371, 0.2103, -0.1557, 0.1028, -0.2634, 0.3768, 0.3779, -0.3792, -0.0002, -0.0023, 0.3495, 0.0013, -0.1416, -0.1145, -0.0856, -0.228, -0.0189, 0.36, 0.0896, 0.0139, -0.3468, 0.0471, 0.0141, -0.1207, 0.2516, 0.1658, 0.0877, 0.2914, 0.0556, 0.4962, 0.0292, 0.2409, -0.0271, -0.1366, 0.1542, 0.2931, -0.0209, -0.031, -0.058]))]"
      ]
     },
     "execution_count": 26,
     "metadata": {},
     "output_type": "execute_result"
    }
   ],
   "source": [
    "tag_vector_rdd = sc.parallelize(tag_vector_map, 9)\n",
    "tag_vector_rdd.take(1)"
   ]
  },
  {
   "cell_type": "code",
   "execution_count": 27,
   "metadata": {
    "collapsed": false,
    "slideshow": {
     "slide_type": "fragment"
    }
   },
   "outputs": [
    {
     "name": "stdout",
     "output_type": "stream",
     "text": [
      "+---------+--------------------+\n",
      "|      Tag|              Vector|\n",
      "+---------+--------------------+\n",
      "|launchpad|[0.07898210734128...|\n",
      "| rabbitmq|[0.09427218884229...|\n",
      "+---------+--------------------+\n",
      "only showing top 2 rows\n",
      "\n"
     ]
    }
   ],
   "source": [
    "tag_vector_df = tag_vector_rdd.toDF(['Tag', 'Vector'])\n",
    "tag_vector_df.show(2)"
   ]
  },
  {
   "cell_type": "markdown",
   "metadata": {
    "slideshow": {
     "slide_type": "slide"
    }
   },
   "source": [
    "### Finally, we find the top 100 tags by order of occurence and visualise their pca_features."
   ]
  },
  {
   "cell_type": "code",
   "execution_count": 48,
   "metadata": {
    "collapsed": false,
    "slideshow": {
     "slide_type": "subslide"
    }
   },
   "outputs": [
    {
     "name": "stdout",
     "output_type": "stream",
     "text": [
      "Number of tags = 100\n",
      "Time taken = 15.0586891174 seconds.\n"
     ]
    }
   ],
   "source": [
    "start_time = time()\n",
    "tag_df = tags_df.select(func.explode(func.split('Tags', ',')).alias('Tag')).cache()\n",
    "position_data = tag_df.groupBy('Tag').count().join(tag_pca_df, tag_df['Tag'] == tag_pca_df['Tag'])\\\n",
    ".orderBy(func.desc('count')).select(tag_df['Tag'], 'pca_features')\\\n",
    ".map(lambda row: (row[0], row[1][0], row[1][1])).take(100)\n",
    "print (\"Number of tags =\",len(position_data))\n",
    "print (\"Time taken =\", time() - start_time, \"seconds.\")"
   ]
  },
  {
   "cell_type": "code",
   "execution_count": 50,
   "metadata": {
    "collapsed": false,
    "slideshow": {
     "slide_type": "skip"
    }
   },
   "outputs": [
    {
     "data": {
      "image/png": "[encoded data removed]",
      "text/plain": [
       "<matplotlib.figure.Figure at 0x7fc01717ded0>"
      ]
     },
     "metadata": {},
     "output_type": "display_data"
    }
   ],
   "source": [
    "name_list, xs, ys = zip(*position_data)\n",
    "%matplotlib qt\n",
    "fig, ax = plt.subplots()\n",
    "ax.scatter(xs, ys, marker = 'o')\n",
    "for i, txt in enumerate(name_list):\n",
    "    ax.annotate(txt, (xs[i],ys[i]))\n",
    "plt.show()"
   ]
  },
  {
   "cell_type": "code",
   "execution_count": 51,
   "metadata": {
    "collapsed": false,
    "slideshow": {
     "slide_type": "subslide"
    }
   },
   "outputs": [
    {
     "data": {
      "image/png": "[encoded data removed]",
      "text/plain": [
       "<matplotlib.figure.Figure at 0x7fc016c4dc10>"
      ]
     },
     "metadata": {},
     "output_type": "display_data"
    }
   ],
   "source": [
    "name_list, xs, ys = zip(*position_data)\n",
    "%matplotlib inline\n",
    "fig, ax = plt.subplots()\n",
    "ax.scatter(xs, ys, marker = 'o')\n",
    "for i, txt in enumerate(name_list):\n",
    "    ax.annotate(txt, (xs[i],ys[i]))\n",
    "plt.show()"
   ]
  }
 ],
 "metadata": {
  "celltoolbar": "Slideshow",
  "kernelspec": {
   "display_name": "Python 2",
   "language": "python",
   "name": "python2"
  },
  "language_info": {
   "codemirror_mode": {
    "name": "ipython",
    "version": 2
   },
   "file_extension": ".py",
   "mimetype": "text/x-python",
   "name": "python",
   "nbconvert_exporter": "python",
   "pygments_lexer": "ipython2",
   "version": "2.7.6"
  }
 },
 "nbformat": 4,
 "nbformat_minor": 0
}
