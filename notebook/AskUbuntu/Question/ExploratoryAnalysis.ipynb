{
 "cells": [
  {
   "cell_type": "markdown",
   "metadata": {
    "collapsed": false,
    "slideshow": {
     "slide_type": "slide"
    }
   },
   "source": [
    "![Python Logo](../../assets/images/python-logo-master-v3-TM.png)\n",
    "\n",
    "# <center> Exploratory Data Analysis for AskUbuntu Question Data </center>\n",
    "### <center> Shagun Sodhani </center>"
   ]
  },
  {
   "cell_type": "code",
   "execution_count": 1,
   "metadata": {
    "collapsed": true,
    "slideshow": {
     "slide_type": "skip"
    }
   },
   "outputs": [],
   "source": [
    "# put in the name of the Stack Exchange Site which you want to analyse.\n",
    "data_source = \"AskUbuntu\"\n",
    "data_type = \"Question\"\n",
    "base_url = \"http://askubuntu.com/questions/\""
   ]
  },
  {
   "cell_type": "markdown",
   "metadata": {
    "slideshow": {
     "slide_type": "slide"
    }
   },
   "source": [
    "### Before we dive into the code, lets see the script which I used to run the notebook."
   ]
  },
  {
   "cell_type": "code",
   "execution_count": 2,
   "metadata": {
    "collapsed": false,
    "slideshow": {
     "slide_type": "subslide"
    }
   },
   "outputs": [
    {
     "name": "stdout",
     "output_type": "stream",
     "text": [
      "cat: run.sh: No such file or directory\r\n"
     ]
    }
   ],
   "source": [
    "!cat run.sh"
   ]
  },
  {
   "cell_type": "markdown",
   "metadata": {
    "collapsed": false,
    "slideshow": {
     "slide_type": "subslide"
    }
   },
   "source": [
    "**PYSPARK_DRIVER_PYTHON=jupyter**\n",
    "\n",
    "This sets the driver as this Jupyter Notebook"
   ]
  },
  {
   "cell_type": "markdown",
   "metadata": {
    "collapsed": false,
    "slideshow": {
     "slide_type": "subslide"
    }
   },
   "source": [
    "**PYSPARK_DRIVER_PYTHON_OPTS=\"notebook\"**\n",
    "\n",
    "This is used to pass options when starting the Python driver"
   ]
  },
  {
   "cell_type": "markdown",
   "metadata": {
    "collapsed": false,
    "slideshow": {
     "slide_type": "subslide"
    }
   },
   "source": [
    "**$SPARK_HOME/bin/pyspark --master local[2]**\n",
    "\n",
    "This runs a pyspark shell in local mode with 2 executors."
   ]
  },
  {
   "cell_type": "markdown",
   "metadata": {
    "slideshow": {
     "slide_type": "slide"
    }
   },
   "source": [
    "## Let us begin"
   ]
  },
  {
   "cell_type": "markdown",
   "metadata": {
    "collapsed": false,
    "slideshow": {
     "slide_type": "subslide"
    }
   },
   "source": [
    "### We will import everything in one cell for the sake for reference."
   ]
  },
  {
   "cell_type": "code",
   "execution_count": 3,
   "metadata": {
    "collapsed": true,
    "slideshow": {
     "slide_type": "fragment"
    }
   },
   "outputs": [],
   "source": [
    "import pyspark.sql.functions as func\n",
    "import matplotlib.pyplot as plt\n",
    "import seaborn as sns\n",
    "from pyspark.mllib.stat import Statistics\n",
    "from pyspark.mllib.linalg import Vectors\n",
    "import pandas as pd\n",
    "from time import time\n",
    "import operator\n",
    "%matplotlib inline\n",
    "from __future__ import print_function"
   ]
  },
  {
   "cell_type": "markdown",
   "metadata": {
    "collapsed": false,
    "slideshow": {
     "slide_type": "slide"
    }
   },
   "source": [
    "### Notice that we did not import sparkcontext or sqlContext. They are already created for us to use."
   ]
  },
  {
   "cell_type": "markdown",
   "metadata": {
    "collapsed": false,
    "slideshow": {
     "slide_type": "subslide"
    }
   },
   "source": [
    "### Check if SparkContext and SQLContext have been created."
   ]
  },
  {
   "cell_type": "code",
   "execution_count": 4,
   "metadata": {
    "collapsed": false,
    "slideshow": {
     "slide_type": "fragment"
    }
   },
   "outputs": [
    {
     "name": "stdout",
     "output_type": "stream",
     "text": [
      "SparkContext is defined.\n"
     ]
    }
   ],
   "source": [
    "if('sc' in locals() or 'sc' in globals()):\n",
    "    print(\"SparkContext is defined.\")\n",
    "else:\n",
    "    print(\"SparkContext does not exist.\")"
   ]
  },
  {
   "cell_type": "code",
   "execution_count": 5,
   "metadata": {
    "collapsed": false,
    "slideshow": {
     "slide_type": "fragment"
    }
   },
   "outputs": [
    {
     "name": "stdout",
     "output_type": "stream",
     "text": [
      "SQLContext is defined.\n"
     ]
    }
   ],
   "source": [
    "if('sqlContext' in locals() or 'sqlContext' in globals()):\n",
    "    print(\"SQLContext is defined.\")\n",
    "else:\n",
    "    print(\"SQLContext does not exist.\")"
   ]
  },
  {
   "cell_type": "markdown",
   "metadata": {
    "collapsed": false,
    "slideshow": {
     "slide_type": "slide"
    }
   },
   "source": [
    "### Now let us load the question data as a dataframe. Since we will be using this data many times, we will cache it in memory."
   ]
  },
  {
   "cell_type": "code",
   "execution_count": 6,
   "metadata": {
    "collapsed": false,
    "slideshow": {
     "slide_type": "subslide"
    }
   },
   "outputs": [
    {
     "name": "stdout",
     "output_type": "stream",
     "text": [
      "data_source = AskUbuntu\n",
      "data_type = Question\n",
      "../../data/AskUbuntu/Question\n",
      "Time taken = 14.9845690727 seconds.\n"
     ]
    }
   ],
   "source": [
    "start_time = time()\n",
    "print (\"data_source =\", data_source)\n",
    "print (\"data_type =\", data_type)\n",
    "question_data_path = \"../../data/\"+data_source+\"/\"+data_type\n",
    "print (question_data_path)\n",
    "question_df = sqlContext.read.load(question_data_path).cache()\n",
    "print (\"Time taken =\", time() - start_time, \"seconds.\")"
   ]
  },
  {
   "cell_type": "markdown",
   "metadata": {
    "collapsed": false,
    "slideshow": {
     "slide_type": "fragment"
    }
   },
   "source": [
    "### *sqlContext.read.load(question_data_path)* tells the master to load the data written in *question_data_path* as a parquet file (default choice for data format)."
   ]
  },
  {
   "cell_type": "markdown",
   "metadata": {
    "collapsed": false,
    "slideshow": {
     "slide_type": "fragment"
    }
   },
   "source": [
    "### *cache()* tells the master to cache the data in the main memory for faster operations."
   ]
  },
  {
   "cell_type": "markdown",
   "metadata": {
    "collapsed": false,
    "slideshow": {
     "slide_type": "slide"
    }
   },
   "source": [
    "## <center> DataFrame </center>"
   ]
  },
  {
   "cell_type": "markdown",
   "metadata": {
    "collapsed": false,
    "slideshow": {
     "slide_type": "subslide"
    }
   },
   "source": [
    "### A DataFrame is a distributed collection of data organized into named columns. It is conceptually equivalent to a table in a relational database or a data frame in R/Python, but with richer optimizations under the hood."
   ]
  },
  {
   "cell_type": "markdown",
   "metadata": {
    "collapsed": false,
    "slideshow": {
     "slide_type": "subslide"
    }
   },
   "source": [
    "### Since DataFrame organizes the data into a relational view (rows and columns), it has a schema associated with it."
   ]
  },
  {
   "cell_type": "code",
   "execution_count": 7,
   "metadata": {
    "collapsed": false,
    "slideshow": {
     "slide_type": "fragment"
    }
   },
   "outputs": [
    {
     "name": "stdout",
     "output_type": "stream",
     "text": [
      "Schema for question dataframe\n",
      "root\n",
      " |-- Id: long (nullable = true)\n",
      " |-- AcceptedAnswerId: long (nullable = true)\n",
      " |-- CreationDate: string (nullable = true)\n",
      " |-- Score: long (nullable = true)\n",
      " |-- ViewCount: long (nullable = true)\n",
      " |-- Body: string (nullable = true)\n",
      " |-- OwnerUserId: long (nullable = true)\n",
      " |-- LastEditorUserId: long (nullable = true)\n",
      " |-- LastEditorDisplayName: string (nullable = true)\n",
      " |-- LastEditDate: string (nullable = true)\n",
      " |-- LastActivityDate: string (nullable = true)\n",
      " |-- CommunityOwnedDate: string (nullable = true)\n",
      " |-- ClosedDate: string (nullable = true)\n",
      " |-- Title: string (nullable = true)\n",
      " |-- Tags: string (nullable = true)\n",
      " |-- AnswerCount: long (nullable = true)\n",
      " |-- CommentCount: long (nullable = true)\n",
      " |-- FavoriteCount: long (nullable = true)\n",
      "\n"
     ]
    }
   ],
   "source": [
    "print(\"Schema for question dataframe\")\n",
    "question_df.printSchema()"
   ]
  },
  {
   "cell_type": "markdown",
   "metadata": {
    "slideshow": {
     "slide_type": "slide"
    }
   },
   "source": [
    "### Some common metrics for this data"
   ]
  },
  {
   "cell_type": "code",
   "execution_count": 8,
   "metadata": {
    "collapsed": false,
    "slideshow": {
     "slide_type": "subslide"
    }
   },
   "outputs": [
    {
     "name": "stdout",
     "output_type": "stream",
     "text": [
      "Total number of rows in the data = 230177\n"
     ]
    }
   ],
   "source": [
    "number_of_rows = question_df.count()\n",
    "print(\"Total number of rows in the data = \" + str(number_of_rows))"
   ]
  },
  {
   "cell_type": "code",
   "execution_count": 9,
   "metadata": {
    "collapsed": false,
    "slideshow": {
     "slide_type": "fragment"
    }
   },
   "outputs": [
    {
     "name": "stdout",
     "output_type": "stream",
     "text": [
      "Total number of unique Id in the data = 230177\n"
     ]
    }
   ],
   "source": [
    "number_of_unique_ids = question_df.select('Id').distinct().count()\n",
    "print(\"Total number of unique Id in the data = \" + str(number_of_unique_ids))"
   ]
  },
  {
   "cell_type": "code",
   "execution_count": 10,
   "metadata": {
    "collapsed": false,
    "slideshow": {
     "slide_type": "subslide"
    }
   },
   "outputs": [
    {
     "name": "stdout",
     "output_type": "stream",
     "text": [
      "Maximum score for a question = 816\n"
     ]
    }
   ],
   "source": [
    "max_score = question_df.agg({\"Score\": \"max\"}).collect()[0][0]\n",
    "print(\"Maximum score for a question = \" + str(max_score))"
   ]
  },
  {
   "cell_type": "code",
   "execution_count": 11,
   "metadata": {
    "collapsed": false,
    "slideshow": {
     "slide_type": "fragment"
    }
   },
   "outputs": [
    {
     "name": "stdout",
     "output_type": "stream",
     "text": [
      "Maximum Views for a question = 1858449\n"
     ]
    }
   ],
   "source": [
    "max_view_count = question_df.agg({\"ViewCount\": \"max\"}).collect()[0][0]\n",
    "print(\"Maximum Views for a question = \" + str(max_view_count))"
   ]
  },
  {
   "cell_type": "markdown",
   "metadata": {
    "slideshow": {
     "slide_type": "slide"
    }
   },
   "source": [
    "### Alternatively, we could use the *describe* method to get all these statistics in one go."
   ]
  },
  {
   "cell_type": "code",
   "execution_count": 12,
   "metadata": {
    "collapsed": false,
    "slideshow": {
     "slide_type": "fragment"
    }
   },
   "outputs": [
    {
     "data": {
      "text/html": [
       "<div>\n",
       "<table border=\"1\" class=\"dataframe\">\n",
       "  <thead>\n",
       "    <tr style=\"text-align: right;\">\n",
       "      <th></th>\n",
       "      <th>summary</th>\n",
       "      <th>Id</th>\n",
       "      <th>AcceptedAnswerId</th>\n",
       "      <th>Score</th>\n",
       "      <th>ViewCount</th>\n",
       "      <th>OwnerUserId</th>\n",
       "      <th>LastEditorUserId</th>\n",
       "      <th>AnswerCount</th>\n",
       "      <th>CommentCount</th>\n",
       "      <th>FavoriteCount</th>\n",
       "    </tr>\n",
       "  </thead>\n",
       "  <tbody>\n",
       "    <tr>\n",
       "      <th>0</th>\n",
       "      <td>count</td>\n",
       "      <td>230177</td>\n",
       "      <td>230177</td>\n",
       "      <td>230177</td>\n",
       "      <td>230177</td>\n",
       "      <td>230177</td>\n",
       "      <td>230177</td>\n",
       "      <td>230177</td>\n",
       "      <td>230177</td>\n",
       "      <td>230177</td>\n",
       "    </tr>\n",
       "    <tr>\n",
       "      <th>1</th>\n",
       "      <td>mean</td>\n",
       "      <td>417469.9902292584</td>\n",
       "      <td>119929.5281022865</td>\n",
       "      <td>2.3002081007224873</td>\n",
       "      <td>3284.9998522875876</td>\n",
       "      <td>211746.15972925184</td>\n",
       "      <td>81897.8957888929</td>\n",
       "      <td>1.3115732675289016</td>\n",
       "      <td>1.5561763338648085</td>\n",
       "      <td>0.7196852856714615</td>\n",
       "    </tr>\n",
       "    <tr>\n",
       "      <th>2</th>\n",
       "      <td>stddev</td>\n",
       "      <td>238951.3966121841</td>\n",
       "      <td>216818.10120712678</td>\n",
       "      <td>9.308674698855008</td>\n",
       "      <td>19168.20085581637</td>\n",
       "      <td>169306.2791769559</td>\n",
       "      <td>131869.5363577083</td>\n",
       "      <td>1.3296007254042488</td>\n",
       "      <td>2.3816048503899383</td>\n",
       "      <td>4.68373344154214</td>\n",
       "    </tr>\n",
       "    <tr>\n",
       "      <th>3</th>\n",
       "      <td>min</td>\n",
       "      <td>1</td>\n",
       "      <td>-1</td>\n",
       "      <td>-18</td>\n",
       "      <td>2</td>\n",
       "      <td>-2</td>\n",
       "      <td>-2</td>\n",
       "      <td>0</td>\n",
       "      <td>0</td>\n",
       "      <td>0</td>\n",
       "    </tr>\n",
       "    <tr>\n",
       "      <th>4</th>\n",
       "      <td>max</td>\n",
       "      <td>785926</td>\n",
       "      <td>785922</td>\n",
       "      <td>816</td>\n",
       "      <td>1858449</td>\n",
       "      <td>556130</td>\n",
       "      <td>556082</td>\n",
       "      <td>78</td>\n",
       "      <td>61</td>\n",
       "      <td>591</td>\n",
       "    </tr>\n",
       "  </tbody>\n",
       "</table>\n",
       "</div>"
      ],
      "text/plain": [
       "  summary                 Id    AcceptedAnswerId               Score  \\\n",
       "0   count             230177              230177              230177   \n",
       "1    mean  417469.9902292584   119929.5281022865  2.3002081007224873   \n",
       "2  stddev  238951.3966121841  216818.10120712678   9.308674698855008   \n",
       "3     min                  1                  -1                 -18   \n",
       "4     max             785926              785922                 816   \n",
       "\n",
       "            ViewCount         OwnerUserId   LastEditorUserId  \\\n",
       "0              230177              230177             230177   \n",
       "1  3284.9998522875876  211746.15972925184   81897.8957888929   \n",
       "2   19168.20085581637   169306.2791769559  131869.5363577083   \n",
       "3                   2                  -2                 -2   \n",
       "4             1858449              556130             556082   \n",
       "\n",
       "          AnswerCount        CommentCount       FavoriteCount  \n",
       "0              230177              230177              230177  \n",
       "1  1.3115732675289016  1.5561763338648085  0.7196852856714615  \n",
       "2  1.3296007254042488  2.3816048503899383    4.68373344154214  \n",
       "3                   0                   0                   0  \n",
       "4                  78                  61                 591  "
      ]
     },
     "execution_count": 12,
     "metadata": {},
     "output_type": "execute_result"
    }
   ],
   "source": [
    "question_df.describe().toPandas()"
   ]
  },
  {
   "cell_type": "markdown",
   "metadata": {
    "slideshow": {
     "slide_type": "fragment"
    }
   },
   "source": [
    "### Disclaimer - Pandas is used only for visualising the processed data in tabular form as Jupyter notebooks visualise Pandas dataframes very nicely. All the processing is being done by Spark."
   ]
  },
  {
   "cell_type": "code",
   "execution_count": 13,
   "metadata": {
    "collapsed": false
   },
   "outputs": [
    {
     "name": "stdout",
     "output_type": "stream",
     "text": [
      "+--------------------------------------------+\n",
      "|Tags                                        |\n",
      "+--------------------------------------------+\n",
      "|<updates><unattended-upgrades>              |\n",
      "|<wallpaper><artwork><photography>           |\n",
      "|<package-management><uninstall>             |\n",
      "|<command-line><package-management>          |\n",
      "|<ntp>                                       |\n",
      "|<applet><panel><networking>                 |\n",
      "|<metacity><window-buttons>                  |\n",
      "|<wine><browser><ie>                         |\n",
      "|<thunderbird><google-calendar><calendar>    |\n",
      "|<firewall>                                  |\n",
      "|<windows><wubi><system-installation>        |\n",
      "|<derivatives>                               |\n",
      "|<software-recommendation><command-line><irc>|\n",
      "|<kernel><hibernate><suspend><fan><bios>     |\n",
      "|<server><security>                          |\n",
      "|<video><mythtv>                             |\n",
      "|<community>                                 |\n",
      "|<10.04><encryption><home-directory>         |\n",
      "|<sound>                                     |\n",
      "|<wine>                                      |\n",
      "+--------------------------------------------+\n",
      "only showing top 20 rows\n",
      "\n"
     ]
    }
   ],
   "source": [
    "question_df.select('Tags').show(truncate = False)"
   ]
  },
  {
   "cell_type": "markdown",
   "metadata": {
    "slideshow": {
     "slide_type": "slide"
    }
   },
   "source": [
    "### Let us find the question with maximum score."
   ]
  },
  {
   "cell_type": "code",
   "execution_count": 14,
   "metadata": {
    "collapsed": false,
    "slideshow": {
     "slide_type": "fragment"
    }
   },
   "outputs": [
    {
     "data": {
      "text/html": [
       "<div>\n",
       "<table border=\"1\" class=\"dataframe\">\n",
       "  <thead>\n",
       "    <tr style=\"text-align: right;\">\n",
       "      <th></th>\n",
       "      <th>Id</th>\n",
       "      <th>AcceptedAnswerId</th>\n",
       "      <th>CreationDate</th>\n",
       "      <th>Score</th>\n",
       "      <th>ViewCount</th>\n",
       "      <th>Body</th>\n",
       "      <th>OwnerUserId</th>\n",
       "      <th>LastEditorUserId</th>\n",
       "      <th>LastEditorDisplayName</th>\n",
       "      <th>LastEditDate</th>\n",
       "      <th>LastActivityDate</th>\n",
       "      <th>CommunityOwnedDate</th>\n",
       "      <th>ClosedDate</th>\n",
       "      <th>Title</th>\n",
       "      <th>Tags</th>\n",
       "      <th>AnswerCount</th>\n",
       "      <th>CommentCount</th>\n",
       "      <th>FavoriteCount</th>\n",
       "    </tr>\n",
       "  </thead>\n",
       "  <tbody>\n",
       "    <tr>\n",
       "      <th>0</th>\n",
       "      <td>17823</td>\n",
       "      <td>17829</td>\n",
       "      <td>2010-12-17T02:08:49.860</td>\n",
       "      <td>816</td>\n",
       "      <td>1227006</td>\n",
       "      <td>&lt;p&gt;I'd like to output a list of all installed ...</td>\n",
       "      <td>2390</td>\n",
       "      <td>527350</td>\n",
       "      <td></td>\n",
       "      <td></td>\n",
       "      <td>2016-06-08T17:48:09.217</td>\n",
       "      <td></td>\n",
       "      <td></td>\n",
       "      <td>How to list all installed packages</td>\n",
       "      <td>&lt;apt&gt;&lt;package-management&gt;</td>\n",
       "      <td>18</td>\n",
       "      <td>2</td>\n",
       "      <td>430</td>\n",
       "    </tr>\n",
       "  </tbody>\n",
       "</table>\n",
       "</div>"
      ],
      "text/plain": [
       "      Id  AcceptedAnswerId             CreationDate  Score  ViewCount  \\\n",
       "0  17823             17829  2010-12-17T02:08:49.860    816    1227006   \n",
       "\n",
       "                                                Body  OwnerUserId  \\\n",
       "0  <p>I'd like to output a list of all installed ...         2390   \n",
       "\n",
       "   LastEditorUserId LastEditorDisplayName LastEditDate  \\\n",
       "0            527350                                      \n",
       "\n",
       "          LastActivityDate CommunityOwnedDate ClosedDate  \\\n",
       "0  2016-06-08T17:48:09.217                                 \n",
       "\n",
       "                                Title                       Tags  AnswerCount  \\\n",
       "0  How to list all installed packages  <apt><package-management>           18   \n",
       "\n",
       "   CommentCount  FavoriteCount  \n",
       "0             2            430  "
      ]
     },
     "execution_count": 14,
     "metadata": {},
     "output_type": "execute_result"
    }
   ],
   "source": [
    "question_max_score = question_df.filter(\"Score = \"+str(max_score)).select('Id').collect()[0][0]\n",
    "question_df.filter(\"Score = \"+str(max_score)).toPandas()"
   ]
  },
  {
   "cell_type": "code",
   "execution_count": null,
   "metadata": {
    "collapsed": true
   },
   "outputs": [],
   "source": []
  },
  {
   "cell_type": "markdown",
   "metadata": {
    "slideshow": {
     "slide_type": "slide"
    }
   },
   "source": [
    "##  <center> Lazy Evaluation </center>"
   ]
  },
  {
   "cell_type": "markdown",
   "metadata": {
    "slideshow": {
     "slide_type": "fragment"
    }
   },
   "source": [
    "Spark Dataframes and RDDs are lazy. They do nothing unless an action is called. We can keep adding as many transformations as we want but nothing actually happens till we call an action. By deferring evaluations, Spark can optimise the overall workflow as it evaluates only that which is needed."
   ]
  },
  {
   "cell_type": "code",
   "execution_count": 15,
   "metadata": {
    "collapsed": false,
    "slideshow": {
     "slide_type": "subslide"
    }
   },
   "outputs": [
    {
     "name": "stdout",
     "output_type": "stream",
     "text": [
      "DataFrame[Id: bigint, AcceptedAnswerId: bigint, CreationDate: string, Score: bigint, ViewCount: bigint, Body: string, OwnerUserId: bigint, LastEditorUserId: bigint, LastEditorDisplayName: string, LastEditDate: string, LastActivityDate: string, CommunityOwnedDate: string, ClosedDate: string, Title: string, Tags: string, AnswerCount: bigint, CommentCount: bigint, FavoriteCount: bigint]\n",
      "Time taken = 0.016499042511 seconds.\n"
     ]
    }
   ],
   "source": [
    "start_time = time()\n",
    "question_max_score = question_df.orderBy(\"Score\", desc=True)\n",
    "print (question_max_score)\n",
    "print (\"Time taken =\", time() - start_time, \"seconds.\")"
   ]
  },
  {
   "cell_type": "code",
   "execution_count": 16,
   "metadata": {
    "collapsed": false,
    "slideshow": {
     "slide_type": "fragment"
    }
   },
   "outputs": [
    {
     "name": "stdout",
     "output_type": "stream",
     "text": [
      "Size of list = 1000\n",
      "Time taken = 5.66676282883 seconds.\n"
     ]
    }
   ],
   "source": [
    "start_time = time()\n",
    "list_question_max_score = question_df.orderBy(\"Score\", desc=True).take(1000)\n",
    "print (\"Size of list =\",len(list_question_max_score))\n",
    "print (\"Time taken =\", time() - start_time, \"seconds.\")"
   ]
  },
  {
   "cell_type": "code",
   "execution_count": 17,
   "metadata": {
    "collapsed": false,
    "slideshow": {
     "slide_type": "fragment"
    }
   },
   "outputs": [
    {
     "name": "stdout",
     "output_type": "stream",
     "text": [
      "Size of list = 1\n",
      "Time taken = 3.70635890961 seconds.\n"
     ]
    }
   ],
   "source": [
    "start_time = time()\n",
    "list_question_max_score = question_df.orderBy(\"Score\", desc=True).take(1)\n",
    "print (\"Size of list =\",len(list_question_max_score))\n",
    "print (\"Time taken =\", time() - start_time, \"seconds.\")"
   ]
  },
  {
   "cell_type": "markdown",
   "metadata": {
    "slideshow": {
     "slide_type": "subslide"
    }
   },
   "source": [
    "### Lazy is better than eager."
   ]
  },
  {
   "cell_type": "markdown",
   "metadata": {
    "slideshow": {
     "slide_type": "slide"
    }
   },
   "source": [
    "### We can find the question with maximum score, view count, answer count, comment count and favorite count."
   ]
  },
  {
   "cell_type": "code",
   "execution_count": 18,
   "metadata": {
    "collapsed": false,
    "slideshow": {
     "slide_type": "subslide"
    }
   },
   "outputs": [
    {
     "name": "stdout",
     "output_type": "stream",
     "text": [
      "max Score value = 816 for questionId = 17823  http://askubuntu.com/questions/17823 \n",
      "\n",
      "max ViewCount value = 1858449 for questionId = 25961  http://askubuntu.com/questions/25961 \n",
      "\n",
      "max AnswerCount value = 78 for questionId = 30334  http://askubuntu.com/questions/30334 \n",
      "\n",
      "max CommentCount value = 61 for questionId = 555519  http://askubuntu.com/questions/555519 \n",
      "\n",
      "max FavoriteCount value = 591 for questionId = 56104  http://askubuntu.com/questions/56104 \n",
      "\n",
      "Time taken = 4.47453784943 seconds.\n"
     ]
    }
   ],
   "source": [
    "start_time = time() \n",
    "column_list = [\"Score\", \"ViewCount\", \"AnswerCount\", \"CommentCount\", \"FavoriteCount\"]\n",
    "\n",
    "for col in column_list:\n",
    "    max_value_col = question_df.orderBy(col, ascending=False).select(\"Id\", col).take(1)[0]\n",
    "    questionId = str(max_value_col[0])\n",
    "    print (\"max\", col, \"value =\",str(max_value_col[1]),\"for questionId =\", questionId, \"\", base_url+questionId, \"\\n\")\n",
    "print (\"Time taken =\", time() - start_time, \"seconds.\")"
   ]
  },
  {
   "cell_type": "markdown",
   "metadata": {
    "slideshow": {
     "slide_type": "slide"
    }
   },
   "source": [
    "###  Before using any algorithm from Spark Machine Learning (ml and MLlib), we transform this data to a collection of vectors. While parsing the raw xml files, I used certain default values (in place of missing values). We will filter for those values now."
   ]
  },
  {
   "cell_type": "code",
   "execution_count": 19,
   "metadata": {
    "collapsed": false,
    "slideshow": {
     "slide_type": "subslide"
    }
   },
   "outputs": [],
   "source": [
    "filter_expression = \"ViewCount > -1 and AnswerCount > -1 and CommentCount > -1 and FavoriteCount > -1\"\n",
    "vectorData = question_df.filter(filter_expression)\\\n",
    ".select(column_list)\\\n",
    ".map(lambda data: Vectors.dense([c for c in data]))"
   ]
  },
  {
   "cell_type": "markdown",
   "metadata": {
    "slideshow": {
     "slide_type": "fragment"
    }
   },
   "source": [
    "### *vectorData* consists of rows, where each row is a vector of data we selected above. "
   ]
  },
  {
   "cell_type": "code",
   "execution_count": 20,
   "metadata": {
    "collapsed": false,
    "slideshow": {
     "slide_type": "fragment"
    }
   },
   "outputs": [
    {
     "name": "stdout",
     "output_type": "stream",
     "text": [
      "PythonRDD[130] at RDD at PythonRDD.scala:43\n"
     ]
    },
    {
     "data": {
      "text/plain": [
       "[DenseVector([88.0, 44595.0, 5.0, 1.0, 27.0]),\n",
       " DenseVector([16.0, 641.0, 1.0, 2.0, 2.0]),\n",
       " DenseVector([11.0, 3571.0, 3.0, 1.0, 2.0]),\n",
       " DenseVector([147.0, 26759.0, 6.0, 1.0, 40.0]),\n",
       " DenseVector([17.0, 37191.0, 3.0, 1.0, 10.0])]"
      ]
     },
     "execution_count": 20,
     "metadata": {},
     "output_type": "execute_result"
    }
   ],
   "source": [
    "print (vectorData)\n",
    "vectorData.take(5)"
   ]
  },
  {
   "cell_type": "markdown",
   "metadata": {
    "slideshow": {
     "slide_type": "slide"
    }
   },
   "source": [
    "### Calculating basic statistics about the data"
   ]
  },
  {
   "cell_type": "code",
   "execution_count": 21,
   "metadata": {
    "collapsed": false,
    "slideshow": {
     "slide_type": "fragment"
    }
   },
   "outputs": [
    {
     "name": "stdout",
     "output_type": "stream",
     "text": [
      "Columns in vectorData are ['Score', 'ViewCount', 'AnswerCount', 'CommentCount', 'FavoriteCount']\n",
      "Average  Score  =  2.30020810072\n",
      "Average  ViewCount  =  3284.99985229\n",
      "Average  AnswerCount  =  1.31157326753\n",
      "Average  CommentCount  =  1.55617633386\n",
      "Average  FavoriteCount  =  0.719685285671\n"
     ]
    }
   ],
   "source": [
    "print (\"Columns in vectorData are\",column_list)\n",
    "stats = Statistics.colStats(vectorData)\n",
    "for col, val in zip(column_list, stats.mean()):\n",
    "    print (\"Average \", col, \" = \", val)"
   ]
  },
  {
   "cell_type": "markdown",
   "metadata": {
    "slideshow": {
     "slide_type": "subslide"
    }
   },
   "source": [
    "Other supported statistics include:\n",
    "    * count()\n",
    "    * max()\n",
    "    * mean()\n",
    "    * min()\n",
    "    * normL1()\n",
    "    * normL2()\n",
    "    * numNonzeros()\n",
    "    * variance()"
   ]
  },
  {
   "cell_type": "markdown",
   "metadata": {
    "slideshow": {
     "slide_type": "subslide"
    }
   },
   "source": [
    "For the sake of completeness, we will try all these methods. We would visualise this data as Pandas dataframe to make it look clean"
   ]
  },
  {
   "cell_type": "code",
   "execution_count": 22,
   "metadata": {
    "collapsed": false,
    "scrolled": true,
    "slideshow": {
     "slide_type": "fragment"
    }
   },
   "outputs": [
    {
     "data": {
      "text/html": [
       "<div>\n",
       "<table border=\"1\" class=\"dataframe\">\n",
       "  <thead>\n",
       "    <tr style=\"text-align: right;\">\n",
       "      <th></th>\n",
       "      <th>Score</th>\n",
       "      <th>ViewCount</th>\n",
       "      <th>AnswerCount</th>\n",
       "      <th>CommentCount</th>\n",
       "      <th>FavoriteCount</th>\n",
       "    </tr>\n",
       "  </thead>\n",
       "  <tbody>\n",
       "    <tr>\n",
       "      <th>Count</th>\n",
       "      <td>230177.000000</td>\n",
       "      <td>2.301770e+05</td>\n",
       "      <td>230177.000000</td>\n",
       "      <td>230177.000000</td>\n",
       "      <td>230177.000000</td>\n",
       "    </tr>\n",
       "    <tr>\n",
       "      <th>Max</th>\n",
       "      <td>816.000000</td>\n",
       "      <td>1.858449e+06</td>\n",
       "      <td>78.000000</td>\n",
       "      <td>61.000000</td>\n",
       "      <td>591.000000</td>\n",
       "    </tr>\n",
       "    <tr>\n",
       "      <th>Mean</th>\n",
       "      <td>2.300208</td>\n",
       "      <td>3.285000e+03</td>\n",
       "      <td>1.311573</td>\n",
       "      <td>1.556176</td>\n",
       "      <td>0.719685</td>\n",
       "    </tr>\n",
       "    <tr>\n",
       "      <th>Min</th>\n",
       "      <td>-18.000000</td>\n",
       "      <td>2.000000e+00</td>\n",
       "      <td>0.000000</td>\n",
       "      <td>0.000000</td>\n",
       "      <td>0.000000</td>\n",
       "    </tr>\n",
       "    <tr>\n",
       "      <th>NormL1</th>\n",
       "      <td>546143.000000</td>\n",
       "      <td>7.561314e+08</td>\n",
       "      <td>301894.000000</td>\n",
       "      <td>358196.000000</td>\n",
       "      <td>165655.000000</td>\n",
       "    </tr>\n",
       "    <tr>\n",
       "      <th>NormL2</th>\n",
       "      <td>4600.319011</td>\n",
       "      <td>9.330334e+06</td>\n",
       "      <td>896.030133</td>\n",
       "      <td>1364.911719</td>\n",
       "      <td>2273.471574</td>\n",
       "    </tr>\n",
       "    <tr>\n",
       "      <th>NumNonzeros</th>\n",
       "      <td>136137.000000</td>\n",
       "      <td>2.301770e+05</td>\n",
       "      <td>182157.000000</td>\n",
       "      <td>121935.000000</td>\n",
       "      <td>55770.000000</td>\n",
       "    </tr>\n",
       "    <tr>\n",
       "      <th>Variance</th>\n",
       "      <td>86.651425</td>\n",
       "      <td>3.674199e+08</td>\n",
       "      <td>1.767838</td>\n",
       "      <td>5.672042</td>\n",
       "      <td>21.937359</td>\n",
       "    </tr>\n",
       "  </tbody>\n",
       "</table>\n",
       "</div>"
      ],
      "text/plain": [
       "                     Score     ViewCount    AnswerCount   CommentCount  \\\n",
       "Count        230177.000000  2.301770e+05  230177.000000  230177.000000   \n",
       "Max             816.000000  1.858449e+06      78.000000      61.000000   \n",
       "Mean              2.300208  3.285000e+03       1.311573       1.556176   \n",
       "Min             -18.000000  2.000000e+00       0.000000       0.000000   \n",
       "NormL1       546143.000000  7.561314e+08  301894.000000  358196.000000   \n",
       "NormL2         4600.319011  9.330334e+06     896.030133    1364.911719   \n",
       "NumNonzeros  136137.000000  2.301770e+05  182157.000000  121935.000000   \n",
       "Variance         86.651425  3.674199e+08       1.767838       5.672042   \n",
       "\n",
       "             FavoriteCount  \n",
       "Count        230177.000000  \n",
       "Max             591.000000  \n",
       "Mean              0.719685  \n",
       "Min               0.000000  \n",
       "NormL1       165655.000000  \n",
       "NormL2         2273.471574  \n",
       "NumNonzeros   55770.000000  \n",
       "Variance         21.937359  "
      ]
     },
     "execution_count": 22,
     "metadata": {},
     "output_type": "execute_result"
    }
   ],
   "source": [
    "pd_data = map(list, [[stats.count()]*5, stats.max(), stats.mean(), stats.min(), stats.normL1(), stats.normL2(),\\\n",
    "           stats.numNonzeros() ,stats.variance()])\n",
    "pd_index = ['Count', 'Max', 'Mean', 'Min', 'NormL1', 'NormL2', 'NumNonzeros', 'Variance']\n",
    "pd.DataFrame(pd_data, index=pd_index, columns=column_list)"
   ]
  },
  {
   "cell_type": "markdown",
   "metadata": {
    "slideshow": {
     "slide_type": "slide"
    }
   },
   "source": [
    "### We will calculate correlation between each pair of columns and see if we find some thing interesting."
   ]
  },
  {
   "cell_type": "code",
   "execution_count": 23,
   "metadata": {
    "collapsed": false,
    "slideshow": {
     "slide_type": "subslide"
    }
   },
   "outputs": [
    {
     "name": "stdout",
     "output_type": "stream",
     "text": [
      "Time taken = 5.76436591148 seconds.\n"
     ]
    },
    {
     "data": {
      "text/html": [
       "<div>\n",
       "<table border=\"1\" class=\"dataframe\">\n",
       "  <thead>\n",
       "    <tr style=\"text-align: right;\">\n",
       "      <th></th>\n",
       "      <th>Score</th>\n",
       "      <th>ViewCount</th>\n",
       "      <th>AnswerCount</th>\n",
       "      <th>CommentCount</th>\n",
       "      <th>FavoriteCount</th>\n",
       "    </tr>\n",
       "  </thead>\n",
       "  <tbody>\n",
       "    <tr>\n",
       "      <th>Score</th>\n",
       "      <td>1.000000</td>\n",
       "      <td>0.756401</td>\n",
       "      <td>0.464259</td>\n",
       "      <td>0.026297</td>\n",
       "      <td>0.880058</td>\n",
       "    </tr>\n",
       "    <tr>\n",
       "      <th>ViewCount</th>\n",
       "      <td>0.756401</td>\n",
       "      <td>1.000000</td>\n",
       "      <td>0.381177</td>\n",
       "      <td>0.019424</td>\n",
       "      <td>0.692194</td>\n",
       "    </tr>\n",
       "    <tr>\n",
       "      <th>AnswerCount</th>\n",
       "      <td>0.464259</td>\n",
       "      <td>0.381177</td>\n",
       "      <td>1.000000</td>\n",
       "      <td>0.014119</td>\n",
       "      <td>0.435823</td>\n",
       "    </tr>\n",
       "    <tr>\n",
       "      <th>CommentCount</th>\n",
       "      <td>0.026297</td>\n",
       "      <td>0.019424</td>\n",
       "      <td>0.014119</td>\n",
       "      <td>1.000000</td>\n",
       "      <td>0.028963</td>\n",
       "    </tr>\n",
       "    <tr>\n",
       "      <th>FavoriteCount</th>\n",
       "      <td>0.880058</td>\n",
       "      <td>0.692194</td>\n",
       "      <td>0.435823</td>\n",
       "      <td>0.028963</td>\n",
       "      <td>1.000000</td>\n",
       "    </tr>\n",
       "  </tbody>\n",
       "</table>\n",
       "</div>"
      ],
      "text/plain": [
       "                  Score  ViewCount  AnswerCount  CommentCount  FavoriteCount\n",
       "Score          1.000000   0.756401     0.464259      0.026297       0.880058\n",
       "ViewCount      0.756401   1.000000     0.381177      0.019424       0.692194\n",
       "AnswerCount    0.464259   0.381177     1.000000      0.014119       0.435823\n",
       "CommentCount   0.026297   0.019424     0.014119      1.000000       0.028963\n",
       "FavoriteCount  0.880058   0.692194     0.435823      0.028963       1.000000"
      ]
     },
     "execution_count": 23,
     "metadata": {},
     "output_type": "execute_result"
    }
   ],
   "source": [
    "start_time = time()\n",
    "Statistics.colStats(vectorData)\n",
    "pd_data = Statistics.corr(vectorData, method=\"pearson\")\n",
    "pd.DataFrame(pd_data, index=column_list, columns=column_list)\n",
    "print (\"Time taken =\", time() - start_time, \"seconds.\")\n",
    "pd.DataFrame(pd_data, index=column_list, columns=column_list)"
   ]
  },
  {
   "cell_type": "markdown",
   "metadata": {
    "collapsed": false,
    "slideshow": {
     "slide_type": "fragment"
    }
   },
   "source": [
    "### Some observations:\n",
    "    High positive correlation between Score and ViewCount (0.75).\n",
    "    \n",
    "    Very high positive correlation between Score and FavoriteCount (0.88).\n",
    "    \n",
    "    High positive correlation between FavoriteCount and ViewCount (0.69)."
   ]
  },
  {
   "cell_type": "markdown",
   "metadata": {
    "slideshow": {
     "slide_type": "slide"
    }
   },
   "source": [
    "All these observations are explainable as the three correlating metrics - Score, ViewCount and FavoriteCount are expected to behave similarly. Let us explore the plot of Score and FavoriteCount.\n",
    "\n",
    "We filter the data to contain only Score and FavoriteCount and filter for rows with defualt values"
   ]
  },
  {
   "cell_type": "code",
   "execution_count": 24,
   "metadata": {
    "collapsed": false,
    "slideshow": {
     "slide_type": "fragment"
    }
   },
   "outputs": [
    {
     "data": {
      "text/html": [
       "<div>\n",
       "<table border=\"1\" class=\"dataframe\">\n",
       "  <thead>\n",
       "    <tr style=\"text-align: right;\">\n",
       "      <th></th>\n",
       "      <th>Score</th>\n",
       "      <th>FavoriteCount</th>\n",
       "    </tr>\n",
       "  </thead>\n",
       "  <tbody>\n",
       "    <tr>\n",
       "      <th>0</th>\n",
       "      <td>0</td>\n",
       "      <td>0</td>\n",
       "    </tr>\n",
       "    <tr>\n",
       "      <th>1</th>\n",
       "      <td>9</td>\n",
       "      <td>2</td>\n",
       "    </tr>\n",
       "    <tr>\n",
       "      <th>2</th>\n",
       "      <td>2</td>\n",
       "      <td>0</td>\n",
       "    </tr>\n",
       "    <tr>\n",
       "      <th>3</th>\n",
       "      <td>8</td>\n",
       "      <td>1</td>\n",
       "    </tr>\n",
       "    <tr>\n",
       "      <th>4</th>\n",
       "      <td>3</td>\n",
       "      <td>0</td>\n",
       "    </tr>\n",
       "    <tr>\n",
       "      <th>5</th>\n",
       "      <td>1</td>\n",
       "      <td>1</td>\n",
       "    </tr>\n",
       "    <tr>\n",
       "      <th>6</th>\n",
       "      <td>0</td>\n",
       "      <td>0</td>\n",
       "    </tr>\n",
       "    <tr>\n",
       "      <th>7</th>\n",
       "      <td>-1</td>\n",
       "      <td>0</td>\n",
       "    </tr>\n",
       "    <tr>\n",
       "      <th>8</th>\n",
       "      <td>0</td>\n",
       "      <td>1</td>\n",
       "    </tr>\n",
       "    <tr>\n",
       "      <th>9</th>\n",
       "      <td>3</td>\n",
       "      <td>0</td>\n",
       "    </tr>\n",
       "    <tr>\n",
       "      <th>10</th>\n",
       "      <td>5</td>\n",
       "      <td>5</td>\n",
       "    </tr>\n",
       "    <tr>\n",
       "      <th>11</th>\n",
       "      <td>2</td>\n",
       "      <td>0</td>\n",
       "    </tr>\n",
       "    <tr>\n",
       "      <th>12</th>\n",
       "      <td>0</td>\n",
       "      <td>0</td>\n",
       "    </tr>\n",
       "    <tr>\n",
       "      <th>13</th>\n",
       "      <td>1</td>\n",
       "      <td>0</td>\n",
       "    </tr>\n",
       "    <tr>\n",
       "      <th>14</th>\n",
       "      <td>1</td>\n",
       "      <td>0</td>\n",
       "    </tr>\n",
       "    <tr>\n",
       "      <th>15</th>\n",
       "      <td>1</td>\n",
       "      <td>0</td>\n",
       "    </tr>\n",
       "    <tr>\n",
       "      <th>16</th>\n",
       "      <td>8</td>\n",
       "      <td>1</td>\n",
       "    </tr>\n",
       "    <tr>\n",
       "      <th>17</th>\n",
       "      <td>1</td>\n",
       "      <td>1</td>\n",
       "    </tr>\n",
       "    <tr>\n",
       "      <th>18</th>\n",
       "      <td>3</td>\n",
       "      <td>0</td>\n",
       "    </tr>\n",
       "    <tr>\n",
       "      <th>19</th>\n",
       "      <td>2</td>\n",
       "      <td>0</td>\n",
       "    </tr>\n",
       "    <tr>\n",
       "      <th>20</th>\n",
       "      <td>4</td>\n",
       "      <td>0</td>\n",
       "    </tr>\n",
       "    <tr>\n",
       "      <th>21</th>\n",
       "      <td>0</td>\n",
       "      <td>0</td>\n",
       "    </tr>\n",
       "    <tr>\n",
       "      <th>22</th>\n",
       "      <td>1</td>\n",
       "      <td>0</td>\n",
       "    </tr>\n",
       "    <tr>\n",
       "      <th>23</th>\n",
       "      <td>2</td>\n",
       "      <td>0</td>\n",
       "    </tr>\n",
       "    <tr>\n",
       "      <th>24</th>\n",
       "      <td>0</td>\n",
       "      <td>0</td>\n",
       "    </tr>\n",
       "    <tr>\n",
       "      <th>25</th>\n",
       "      <td>0</td>\n",
       "      <td>0</td>\n",
       "    </tr>\n",
       "  </tbody>\n",
       "</table>\n",
       "</div>"
      ],
      "text/plain": [
       "    Score  FavoriteCount\n",
       "0       0              0\n",
       "1       9              2\n",
       "2       2              0\n",
       "3       8              1\n",
       "4       3              0\n",
       "5       1              1\n",
       "6       0              0\n",
       "7      -1              0\n",
       "8       0              1\n",
       "9       3              0\n",
       "10      5              5\n",
       "11      2              0\n",
       "12      0              0\n",
       "13      1              0\n",
       "14      1              0\n",
       "15      1              0\n",
       "16      8              1\n",
       "17      1              1\n",
       "18      3              0\n",
       "19      2              0\n",
       "20      4              0\n",
       "21      0              0\n",
       "22      1              0\n",
       "23      2              0\n",
       "24      0              0\n",
       "25      0              0"
      ]
     },
     "execution_count": 24,
     "metadata": {},
     "output_type": "execute_result"
    }
   ],
   "source": [
    "columns_to_select = [\"Score\", \"FavoriteCount\"]\n",
    "data = question_df.filter(filter_expression).select(columns_to_select).cache()\n",
    "data.sample(False, 0.0001, 42).toPandas()"
   ]
  },
  {
   "cell_type": "markdown",
   "metadata": {
    "collapsed": false,
    "slideshow": {
     "slide_type": "subslide"
    }
   },
   "source": [
    "Notice that this is the second dataframe that we have cached so far.\n",
    "\n",
    "We can check the memory profile for the app at http://localhost:4040/storage."
   ]
  },
  {
   "cell_type": "markdown",
   "metadata": {
    "slideshow": {
     "slide_type": "fragment"
    }
   },
   "source": [
    "Let us try unpersisting *question_df* dataframe and see if we can recover some memory."
   ]
  },
  {
   "cell_type": "code",
   "execution_count": 25,
   "metadata": {
    "collapsed": false,
    "slideshow": {
     "slide_type": "fragment"
    }
   },
   "outputs": [
    {
     "data": {
      "text/plain": [
       "DataFrame[Id: bigint, AcceptedAnswerId: bigint, CreationDate: string, Score: bigint, ViewCount: bigint, Body: string, OwnerUserId: bigint, LastEditorUserId: bigint, LastEditorDisplayName: string, LastEditDate: string, LastActivityDate: string, CommunityOwnedDate: string, ClosedDate: string, Title: string, Tags: string, AnswerCount: bigint, CommentCount: bigint, FavoriteCount: bigint]"
      ]
     },
     "execution_count": 25,
     "metadata": {},
     "output_type": "execute_result"
    }
   ],
   "source": [
    "question_df.unpersist()"
   ]
  },
  {
   "cell_type": "markdown",
   "metadata": {
    "slideshow": {
     "slide_type": "subslide"
    }
   },
   "source": [
    "Check that now only one dataframe is cached for the application. http://localhost:4040/storage."
   ]
  },
  {
   "cell_type": "markdown",
   "metadata": {
    "slideshow": {
     "slide_type": "slide"
    }
   },
   "source": [
    "Spark is good at number chrunching and performing compuations but not so good at visualisations. So we will load a sample of the dataset into Pandas dataframe using the toPandas method and visualise it using sns."
   ]
  },
  {
   "cell_type": "code",
   "execution_count": 26,
   "metadata": {
    "collapsed": false,
    "slideshow": {
     "slide_type": "skip"
    }
   },
   "outputs": [
    {
     "data": {
      "text/plain": [
       "<seaborn.axisgrid.JointGrid at 0x7ffb3f787a50>"
      ]
     },
     "execution_count": 26,
     "metadata": {},
     "output_type": "execute_result"
    },
    {
     "data": {
      "image/png": "[encoded data removed]",
      "text/plain": [
       "<matplotlib.figure.Figure at 0x7ffb3f787f50>"
      ]
     },
     "metadata": {},
     "output_type": "display_data"
    }
   ],
   "source": [
    "pandas_df = data.sample(False, .1, 42).toPandas()\n",
    "# %matplotlib qt\n",
    "sns.jointplot(columns_to_select[0], columns_to_select[1], data=pandas_df)"
   ]
  },
  {
   "cell_type": "code",
   "execution_count": 27,
   "metadata": {
    "collapsed": false,
    "slideshow": {
     "slide_type": "subslide"
    }
   },
   "outputs": [
    {
     "name": "stdout",
     "output_type": "stream",
     "text": [
      "Time taken = 0.446715831757 seconds.\n"
     ]
    },
    {
     "data": {
      "image/png": "[encoded data removed]",
      "text/plain": [
       "<matplotlib.figure.Figure at 0x7ffb3f76d310>"
      ]
     },
     "metadata": {},
     "output_type": "display_data"
    }
   ],
   "source": [
    "start_time = time()\n",
    "pandas_df = data.sample(False, .1, 42).toPandas()\n",
    "%matplotlib inline\n",
    "sns.jointplot(columns_to_select[0], columns_to_select[1], data=pandas_df)\n",
    "print (\"Time taken =\", time() - start_time, \"seconds.\")"
   ]
  },
  {
   "cell_type": "code",
   "execution_count": 28,
   "metadata": {
    "collapsed": false,
    "slideshow": {
     "slide_type": "subslide"
    }
   },
   "outputs": [
    {
     "name": "stdout",
     "output_type": "stream",
     "text": [
      "Time taken = 1.94435501099 seconds.\n"
     ]
    },
    {
     "data": {
      "image/png": "[encoded data removed]",
      "text/plain": [
       "<matplotlib.figure.Figure at 0x7ffb3f5f2850>"
      ]
     },
     "metadata": {},
     "output_type": "display_data"
    }
   ],
   "source": [
    "start_time = time()\n",
    "pandas_df = data.sample(False, .99, 42).toPandas()\n",
    "%matplotlib inline\n",
    "sns.jointplot(columns_to_select[0], columns_to_select[1], data=pandas_df)\n",
    "print (\"Time taken =\", time() - start_time, \"seconds.\")"
   ]
  },
  {
   "cell_type": "markdown",
   "metadata": {
    "slideshow": {
     "slide_type": "subslide"
    }
   },
   "source": [
    "This visualistion is unintutive as most of the data is distributed in a narrow zone and the \n",
    "scale is skewed due to outliers. We will try plotting the values on the log scale."
   ]
  },
  {
   "cell_type": "code",
   "execution_count": 29,
   "metadata": {
    "collapsed": false,
    "slideshow": {
     "slide_type": "skip"
    }
   },
   "outputs": [
    {
     "name": "stdout",
     "output_type": "stream",
     "text": [
      "['LOG10(Score)', 'LOG10(FavoriteCount)']\n"
     ]
    },
    {
     "data": {
      "text/plain": [
       "<seaborn.axisgrid.JointGrid at 0x7ffb3f273f10>"
      ]
     },
     "execution_count": 29,
     "metadata": {},
     "output_type": "execute_result"
    },
    {
     "data": {
      "image/png": "[encoded data removed]",
      "text/plain": [
       "<matplotlib.figure.Figure at 0x7ffb3f3a0710>"
      ]
     },
     "metadata": {},
     "output_type": "display_data"
    }
   ],
   "source": [
    "log_pandas_df = data.select(func.log10(data[columns_to_select[0]]),\\\n",
    "                            func.log10(data[columns_to_select[1]])).sample(False, .1).toPandas()\n",
    "# %matplotlib qt\n",
    "modified_columns_to_select = map(lambda a: \"LOG10(\"+a+\")\", columns_to_select)\n",
    "print (modified_columns_to_select)\n",
    "sns.jointplot(modified_columns_to_select[0], modified_columns_to_select[1], data=log_pandas_df)"
   ]
  },
  {
   "cell_type": "code",
   "execution_count": 30,
   "metadata": {
    "collapsed": false,
    "slideshow": {
     "slide_type": "slide"
    }
   },
   "outputs": [
    {
     "data": {
      "text/plain": [
       "<seaborn.axisgrid.JointGrid at 0x7ffb3f5ea8d0>"
      ]
     },
     "execution_count": 30,
     "metadata": {},
     "output_type": "execute_result"
    },
    {
     "data": {
      "image/png": "[encoded data removed]",
      "text/plain": [
       "<matplotlib.figure.Figure at 0x7ffb3f76d350>"
      ]
     },
     "metadata": {},
     "output_type": "display_data"
    }
   ],
   "source": [
    "log_pandas_df = data.select(func.log10(data[columns_to_select[0]]),\\\n",
    "                            func.log10(data[columns_to_select[1]])).sample(False, .1).toPandas()\n",
    "%matplotlib inline\n",
    "sns.jointplot(modified_columns_to_select[0], modified_columns_to_select[1], data=log_pandas_df)"
   ]
  },
  {
   "cell_type": "markdown",
   "metadata": {
    "slideshow": {
     "slide_type": "slide"
    }
   },
   "source": [
    "Before we wrap up, let us play with the *CreationDate* column and see if we can mine some interesting observations on that front. The idea is to show how we can play with more complex data types (like datetime)and use some Spark operators as well."
   ]
  },
  {
   "cell_type": "markdown",
   "metadata": {
    "slideshow": {
     "slide_type": "fragment"
    }
   },
   "source": [
    "We will start with the *question_df* dataframe. Remember that we had uncached it which means it is no longer available in memory but we can still run operations on it. In this case, the dataframe would be loaded once again but will not be persisted, unless we explicitly ask Spark to do so."
   ]
  },
  {
   "cell_type": "code",
   "execution_count": 31,
   "metadata": {
    "collapsed": false,
    "slideshow": {
     "slide_type": "slide"
    }
   },
   "outputs": [
    {
     "name": "stdout",
     "output_type": "stream",
     "text": [
      "root\n",
      " |-- CreationDate: string (nullable = true)\n",
      "\n",
      "+--------------------+\n",
      "|        CreationDate|\n",
      "+--------------------+\n",
      "|2010-07-28T19:26:...|\n",
      "|2010-07-28T19:46:...|\n",
      "|2010-07-28T20:11:...|\n",
      "|2010-07-28T21:49:...|\n",
      "|2010-07-29T00:01:...|\n",
      "|2010-07-29T06:50:...|\n",
      "|2010-07-29T12:09:...|\n",
      "|2010-07-29T18:53:...|\n",
      "|2010-07-30T14:21:...|\n",
      "|2010-07-31T15:20:...|\n",
      "+--------------------+\n",
      "only showing top 10 rows\n",
      "\n"
     ]
    }
   ],
   "source": [
    "creation_date_df = question_df.select(\"CreationDate\").cache()\n",
    "creation_date_df.printSchema()\n",
    "creation_date_df.show(10)"
   ]
  },
  {
   "cell_type": "markdown",
   "metadata": {
    "slideshow": {
     "slide_type": "fragment"
    }
   },
   "source": [
    "Note that **CreationDate** column was parsed as **string**. Let us fix that by selecting **CreationDate** as **date** type."
   ]
  },
  {
   "cell_type": "code",
   "execution_count": 32,
   "metadata": {
    "collapsed": false,
    "slideshow": {
     "slide_type": "slide"
    }
   },
   "outputs": [
    {
     "name": "stdout",
     "output_type": "stream",
     "text": [
      "root\n",
      " |-- CreationDate: date (nullable = true)\n",
      "\n",
      "+------------+\n",
      "|CreationDate|\n",
      "+------------+\n",
      "|  2010-07-28|\n",
      "|  2010-07-28|\n",
      "|  2010-07-28|\n",
      "|  2010-07-28|\n",
      "|  2010-07-29|\n",
      "|  2010-07-29|\n",
      "|  2010-07-29|\n",
      "|  2010-07-29|\n",
      "|  2010-07-30|\n",
      "|  2010-07-31|\n",
      "+------------+\n",
      "only showing top 10 rows\n",
      "\n"
     ]
    }
   ],
   "source": [
    "date_df = creation_date_df.select(func.to_date(creation_date_df[\"CreationDate\"]).alias(\"CreationDate\"))\n",
    "date_df.printSchema()\n",
    "date_df.show(10)"
   ]
  },
  {
   "cell_type": "markdown",
   "metadata": {
    "slideshow": {
     "slide_type": "slide"
    }
   },
   "source": [
    "### RDD vs DataFrame"
   ]
  },
  {
   "cell_type": "markdown",
   "metadata": {
    "slideshow": {
     "slide_type": "fragment"
    }
   },
   "source": [
    "We want to count the number of new accounts each day. We would try doing this using both RDDs and DataFrames and compare their performance."
   ]
  },
  {
   "cell_type": "markdown",
   "metadata": {
    "slideshow": {
     "slide_type": "subslide"
    }
   },
   "source": [
    "### RDD\n",
    "We want to count the number of new accounts added each day. We first convert our dataframe to rdd. In  data, each row corresponds to one account. So each row contributes one new account. We map each row with neumerical value 1 (number of accounts each row contributes)."
   ]
  },
  {
   "cell_type": "markdown",
   "metadata": {
    "slideshow": {
     "slide_type": "fragment"
    }
   },
   "source": [
    "Then we reduce our data using date as the key and add the values corresponding to same date."
   ]
  },
  {
   "cell_type": "code",
   "execution_count": 33,
   "metadata": {
    "collapsed": false,
    "slideshow": {
     "slide_type": "fragment"
    }
   },
   "outputs": [
    {
     "name": "stdout",
     "output_type": "stream",
     "text": [
      "aggregated_df maps each date to number of accounts that were created.\n",
      "Number of rows =  2152\n",
      "Time taken = 2.13794398308 seconds.\n"
     ]
    }
   ],
   "source": [
    "start_time = time()\n",
    "aggregated_df = date_df.rdd.map(lambda a: (a, 1)).reduceByKey(operator.add).toDF()\n",
    "print (\"aggregated_df maps each date to number of accounts that were created.\")\n",
    "print (\"Number of rows = \",aggregated_df.count())\n",
    "time_taken_rdd = time() - start_time\n",
    "print (\"Time taken =\", time_taken_rdd, \"seconds.\")"
   ]
  },
  {
   "cell_type": "markdown",
   "metadata": {
    "slideshow": {
     "slide_type": "subslide"
    }
   },
   "source": [
    "### DataFrame"
   ]
  },
  {
   "cell_type": "code",
   "execution_count": 34,
   "metadata": {
    "collapsed": false,
    "slideshow": {
     "slide_type": "fragment"
    }
   },
   "outputs": [
    {
     "name": "stdout",
     "output_type": "stream",
     "text": [
      "aggregated_df maps each date to number of accounts that were created.\n",
      "Number of rows =  2152\n",
      "Time taken = 1.38895702362 seconds.\n"
     ]
    }
   ],
   "source": [
    "start_time = time()\n",
    "aggregated_df = date_df.groupBy('CreationDate').count()\n",
    "print (\"aggregated_df maps each date to number of accounts that were created.\")\n",
    "print (\"Number of rows = \",aggregated_df.count())\n",
    "time_taken_df = time() - start_time\n",
    "print (\"Time taken =\", time_taken_df, \"seconds.\")"
   ]
  },
  {
   "cell_type": "code",
   "execution_count": 35,
   "metadata": {
    "collapsed": false,
    "slideshow": {
     "slide_type": "subslide"
    }
   },
   "outputs": [
    {
     "name": "stdout",
     "output_type": "stream",
     "text": [
      "time_taken_rdd = 2.13794398308\n",
      "time_taken_df = 1.38895702362\n",
      "Speed up = 1.53924415711\n"
     ]
    }
   ],
   "source": [
    "print (\"time_taken_rdd =\", time_taken_rdd)\n",
    "print (\"time_taken_df =\", time_taken_df)\n",
    "print (\"Speed up =\",time_taken_rdd/time_taken_df)"
   ]
  },
  {
   "cell_type": "markdown",
   "metadata": {
    "slideshow": {
     "slide_type": "fragment"
    }
   },
   "source": [
    "### DataFrames are many times faster than RDDs."
   ]
  },
  {
   "cell_type": "code",
   "execution_count": 36,
   "metadata": {
    "collapsed": false,
    "slideshow": {
     "slide_type": "slide"
    }
   },
   "outputs": [
    {
     "name": "stdout",
     "output_type": "stream",
     "text": [
      "root\n",
      " |-- CreationDate: date (nullable = true)\n",
      " |-- count: long (nullable = false)\n",
      "\n"
     ]
    }
   ],
   "source": [
    "aggregated_df.printSchema()"
   ]
  },
  {
   "cell_type": "code",
   "execution_count": 37,
   "metadata": {
    "collapsed": false,
    "slideshow": {
     "slide_type": "slide"
    }
   },
   "outputs": [
    {
     "data": {
      "text/html": [
       "<div>\n",
       "<table border=\"1\" class=\"dataframe\">\n",
       "  <thead>\n",
       "    <tr style=\"text-align: right;\">\n",
       "      <th></th>\n",
       "      <th>CreationDate</th>\n",
       "      <th>NewQuestions</th>\n",
       "    </tr>\n",
       "  </thead>\n",
       "  <tbody>\n",
       "    <tr>\n",
       "      <th>0</th>\n",
       "      <td>2009-01-08</td>\n",
       "      <td>1</td>\n",
       "    </tr>\n",
       "    <tr>\n",
       "      <th>1</th>\n",
       "      <td>2009-02-03</td>\n",
       "      <td>1</td>\n",
       "    </tr>\n",
       "    <tr>\n",
       "      <th>2</th>\n",
       "      <td>2009-07-22</td>\n",
       "      <td>1</td>\n",
       "    </tr>\n",
       "    <tr>\n",
       "      <th>3</th>\n",
       "      <td>2009-12-26</td>\n",
       "      <td>1</td>\n",
       "    </tr>\n",
       "    <tr>\n",
       "      <th>4</th>\n",
       "      <td>2010-05-01</td>\n",
       "      <td>1</td>\n",
       "    </tr>\n",
       "    <tr>\n",
       "      <th>5</th>\n",
       "      <td>2010-07-28</td>\n",
       "      <td>70</td>\n",
       "    </tr>\n",
       "    <tr>\n",
       "      <th>6</th>\n",
       "      <td>2010-07-29</td>\n",
       "      <td>55</td>\n",
       "    </tr>\n",
       "    <tr>\n",
       "      <th>7</th>\n",
       "      <td>2010-07-30</td>\n",
       "      <td>20</td>\n",
       "    </tr>\n",
       "    <tr>\n",
       "      <th>8</th>\n",
       "      <td>2010-07-31</td>\n",
       "      <td>14</td>\n",
       "    </tr>\n",
       "    <tr>\n",
       "      <th>9</th>\n",
       "      <td>2010-08-01</td>\n",
       "      <td>13</td>\n",
       "    </tr>\n",
       "    <tr>\n",
       "      <th>10</th>\n",
       "      <td>2010-08-02</td>\n",
       "      <td>10</td>\n",
       "    </tr>\n",
       "    <tr>\n",
       "      <th>11</th>\n",
       "      <td>2010-08-03</td>\n",
       "      <td>19</td>\n",
       "    </tr>\n",
       "    <tr>\n",
       "      <th>12</th>\n",
       "      <td>2010-08-04</td>\n",
       "      <td>41</td>\n",
       "    </tr>\n",
       "    <tr>\n",
       "      <th>13</th>\n",
       "      <td>2010-08-05</td>\n",
       "      <td>88</td>\n",
       "    </tr>\n",
       "    <tr>\n",
       "      <th>14</th>\n",
       "      <td>2010-08-06</td>\n",
       "      <td>48</td>\n",
       "    </tr>\n",
       "    <tr>\n",
       "      <th>15</th>\n",
       "      <td>2010-08-07</td>\n",
       "      <td>23</td>\n",
       "    </tr>\n",
       "    <tr>\n",
       "      <th>16</th>\n",
       "      <td>2010-08-08</td>\n",
       "      <td>20</td>\n",
       "    </tr>\n",
       "    <tr>\n",
       "      <th>17</th>\n",
       "      <td>2010-08-09</td>\n",
       "      <td>29</td>\n",
       "    </tr>\n",
       "    <tr>\n",
       "      <th>18</th>\n",
       "      <td>2010-08-10</td>\n",
       "      <td>18</td>\n",
       "    </tr>\n",
       "    <tr>\n",
       "      <th>19</th>\n",
       "      <td>2010-08-11</td>\n",
       "      <td>21</td>\n",
       "    </tr>\n",
       "    <tr>\n",
       "      <th>20</th>\n",
       "      <td>2010-08-12</td>\n",
       "      <td>26</td>\n",
       "    </tr>\n",
       "    <tr>\n",
       "      <th>21</th>\n",
       "      <td>2010-08-13</td>\n",
       "      <td>32</td>\n",
       "    </tr>\n",
       "    <tr>\n",
       "      <th>22</th>\n",
       "      <td>2010-08-14</td>\n",
       "      <td>21</td>\n",
       "    </tr>\n",
       "    <tr>\n",
       "      <th>23</th>\n",
       "      <td>2010-08-15</td>\n",
       "      <td>13</td>\n",
       "    </tr>\n",
       "    <tr>\n",
       "      <th>24</th>\n",
       "      <td>2010-08-16</td>\n",
       "      <td>27</td>\n",
       "    </tr>\n",
       "    <tr>\n",
       "      <th>25</th>\n",
       "      <td>2010-08-17</td>\n",
       "      <td>25</td>\n",
       "    </tr>\n",
       "    <tr>\n",
       "      <th>26</th>\n",
       "      <td>2010-08-18</td>\n",
       "      <td>24</td>\n",
       "    </tr>\n",
       "    <tr>\n",
       "      <th>27</th>\n",
       "      <td>2010-08-19</td>\n",
       "      <td>12</td>\n",
       "    </tr>\n",
       "    <tr>\n",
       "      <th>28</th>\n",
       "      <td>2010-08-20</td>\n",
       "      <td>21</td>\n",
       "    </tr>\n",
       "    <tr>\n",
       "      <th>29</th>\n",
       "      <td>2010-08-21</td>\n",
       "      <td>18</td>\n",
       "    </tr>\n",
       "    <tr>\n",
       "      <th>...</th>\n",
       "      <td>...</td>\n",
       "      <td>...</td>\n",
       "    </tr>\n",
       "    <tr>\n",
       "      <th>2122</th>\n",
       "      <td>2016-05-14</td>\n",
       "      <td>192</td>\n",
       "    </tr>\n",
       "    <tr>\n",
       "      <th>2123</th>\n",
       "      <td>2016-05-15</td>\n",
       "      <td>199</td>\n",
       "    </tr>\n",
       "    <tr>\n",
       "      <th>2124</th>\n",
       "      <td>2016-05-16</td>\n",
       "      <td>176</td>\n",
       "    </tr>\n",
       "    <tr>\n",
       "      <th>2125</th>\n",
       "      <td>2016-05-17</td>\n",
       "      <td>213</td>\n",
       "    </tr>\n",
       "    <tr>\n",
       "      <th>2126</th>\n",
       "      <td>2016-05-18</td>\n",
       "      <td>224</td>\n",
       "    </tr>\n",
       "    <tr>\n",
       "      <th>2127</th>\n",
       "      <td>2016-05-19</td>\n",
       "      <td>229</td>\n",
       "    </tr>\n",
       "    <tr>\n",
       "      <th>2128</th>\n",
       "      <td>2016-05-20</td>\n",
       "      <td>176</td>\n",
       "    </tr>\n",
       "    <tr>\n",
       "      <th>2129</th>\n",
       "      <td>2016-05-21</td>\n",
       "      <td>177</td>\n",
       "    </tr>\n",
       "    <tr>\n",
       "      <th>2130</th>\n",
       "      <td>2016-05-22</td>\n",
       "      <td>167</td>\n",
       "    </tr>\n",
       "    <tr>\n",
       "      <th>2131</th>\n",
       "      <td>2016-05-23</td>\n",
       "      <td>226</td>\n",
       "    </tr>\n",
       "    <tr>\n",
       "      <th>2132</th>\n",
       "      <td>2016-05-24</td>\n",
       "      <td>193</td>\n",
       "    </tr>\n",
       "    <tr>\n",
       "      <th>2133</th>\n",
       "      <td>2016-05-25</td>\n",
       "      <td>213</td>\n",
       "    </tr>\n",
       "    <tr>\n",
       "      <th>2134</th>\n",
       "      <td>2016-05-26</td>\n",
       "      <td>190</td>\n",
       "    </tr>\n",
       "    <tr>\n",
       "      <th>2135</th>\n",
       "      <td>2016-05-27</td>\n",
       "      <td>220</td>\n",
       "    </tr>\n",
       "    <tr>\n",
       "      <th>2136</th>\n",
       "      <td>2016-05-28</td>\n",
       "      <td>185</td>\n",
       "    </tr>\n",
       "    <tr>\n",
       "      <th>2137</th>\n",
       "      <td>2016-05-29</td>\n",
       "      <td>211</td>\n",
       "    </tr>\n",
       "    <tr>\n",
       "      <th>2138</th>\n",
       "      <td>2016-05-30</td>\n",
       "      <td>191</td>\n",
       "    </tr>\n",
       "    <tr>\n",
       "      <th>2139</th>\n",
       "      <td>2016-05-31</td>\n",
       "      <td>204</td>\n",
       "    </tr>\n",
       "    <tr>\n",
       "      <th>2140</th>\n",
       "      <td>2016-06-01</td>\n",
       "      <td>241</td>\n",
       "    </tr>\n",
       "    <tr>\n",
       "      <th>2141</th>\n",
       "      <td>2016-06-02</td>\n",
       "      <td>229</td>\n",
       "    </tr>\n",
       "    <tr>\n",
       "      <th>2142</th>\n",
       "      <td>2016-06-03</td>\n",
       "      <td>213</td>\n",
       "    </tr>\n",
       "    <tr>\n",
       "      <th>2143</th>\n",
       "      <td>2016-06-04</td>\n",
       "      <td>178</td>\n",
       "    </tr>\n",
       "    <tr>\n",
       "      <th>2144</th>\n",
       "      <td>2016-06-05</td>\n",
       "      <td>161</td>\n",
       "    </tr>\n",
       "    <tr>\n",
       "      <th>2145</th>\n",
       "      <td>2016-06-06</td>\n",
       "      <td>212</td>\n",
       "    </tr>\n",
       "    <tr>\n",
       "      <th>2146</th>\n",
       "      <td>2016-06-07</td>\n",
       "      <td>206</td>\n",
       "    </tr>\n",
       "    <tr>\n",
       "      <th>2147</th>\n",
       "      <td>2016-06-08</td>\n",
       "      <td>196</td>\n",
       "    </tr>\n",
       "    <tr>\n",
       "      <th>2148</th>\n",
       "      <td>2016-06-09</td>\n",
       "      <td>201</td>\n",
       "    </tr>\n",
       "    <tr>\n",
       "      <th>2149</th>\n",
       "      <td>2016-06-10</td>\n",
       "      <td>205</td>\n",
       "    </tr>\n",
       "    <tr>\n",
       "      <th>2150</th>\n",
       "      <td>2016-06-11</td>\n",
       "      <td>178</td>\n",
       "    </tr>\n",
       "    <tr>\n",
       "      <th>2151</th>\n",
       "      <td>2016-06-12</td>\n",
       "      <td>16</td>\n",
       "    </tr>\n",
       "  </tbody>\n",
       "</table>\n",
       "<p>2152 rows × 2 columns</p>\n",
       "</div>"
      ],
      "text/plain": [
       "     CreationDate  NewQuestions\n",
       "0      2009-01-08             1\n",
       "1      2009-02-03             1\n",
       "2      2009-07-22             1\n",
       "3      2009-12-26             1\n",
       "4      2010-05-01             1\n",
       "5      2010-07-28            70\n",
       "6      2010-07-29            55\n",
       "7      2010-07-30            20\n",
       "8      2010-07-31            14\n",
       "9      2010-08-01            13\n",
       "10     2010-08-02            10\n",
       "11     2010-08-03            19\n",
       "12     2010-08-04            41\n",
       "13     2010-08-05            88\n",
       "14     2010-08-06            48\n",
       "15     2010-08-07            23\n",
       "16     2010-08-08            20\n",
       "17     2010-08-09            29\n",
       "18     2010-08-10            18\n",
       "19     2010-08-11            21\n",
       "20     2010-08-12            26\n",
       "21     2010-08-13            32\n",
       "22     2010-08-14            21\n",
       "23     2010-08-15            13\n",
       "24     2010-08-16            27\n",
       "25     2010-08-17            25\n",
       "26     2010-08-18            24\n",
       "27     2010-08-19            12\n",
       "28     2010-08-20            21\n",
       "29     2010-08-21            18\n",
       "...           ...           ...\n",
       "2122   2016-05-14           192\n",
       "2123   2016-05-15           199\n",
       "2124   2016-05-16           176\n",
       "2125   2016-05-17           213\n",
       "2126   2016-05-18           224\n",
       "2127   2016-05-19           229\n",
       "2128   2016-05-20           176\n",
       "2129   2016-05-21           177\n",
       "2130   2016-05-22           167\n",
       "2131   2016-05-23           226\n",
       "2132   2016-05-24           193\n",
       "2133   2016-05-25           213\n",
       "2134   2016-05-26           190\n",
       "2135   2016-05-27           220\n",
       "2136   2016-05-28           185\n",
       "2137   2016-05-29           211\n",
       "2138   2016-05-30           191\n",
       "2139   2016-05-31           204\n",
       "2140   2016-06-01           241\n",
       "2141   2016-06-02           229\n",
       "2142   2016-06-03           213\n",
       "2143   2016-06-04           178\n",
       "2144   2016-06-05           161\n",
       "2145   2016-06-06           212\n",
       "2146   2016-06-07           206\n",
       "2147   2016-06-08           196\n",
       "2148   2016-06-09           201\n",
       "2149   2016-06-10           205\n",
       "2150   2016-06-11           178\n",
       "2151   2016-06-12            16\n",
       "\n",
       "[2152 rows x 2 columns]"
      ]
     },
     "execution_count": 37,
     "metadata": {},
     "output_type": "execute_result"
    }
   ],
   "source": [
    "question_creationdate_df = aggregated_df.select(\"CreationDate\", aggregated_df[\"count\"].alias(\"NewQuestions\"))\\\n",
    ".orderBy(func.asc(\"CreationDate\"))\n",
    "pandas_df = question_creationdate_df.toPandas()\n",
    "pandas_df"
   ]
  },
  {
   "cell_type": "markdown",
   "metadata": {
    "slideshow": {
     "slide_type": "slide"
    }
   },
   "source": [
    "Let us plot this data and see if there is any interesting observation."
   ]
  },
  {
   "cell_type": "code",
   "execution_count": 38,
   "metadata": {
    "collapsed": false,
    "slideshow": {
     "slide_type": "skip"
    }
   },
   "outputs": [
    {
     "data": {
      "text/plain": [
       "[<matplotlib.lines.Line2D at 0x7ffb3eb7ed50>]"
      ]
     },
     "execution_count": 38,
     "metadata": {},
     "output_type": "execute_result"
    },
    {
     "data": {
      "image/png": "[encoded data removed]",
      "text/plain": [
       "<matplotlib.figure.Figure at 0x7ffb3f63fe10>"
      ]
     },
     "metadata": {},
     "output_type": "display_data"
    }
   ],
   "source": [
    "# %matplotlib qt\n",
    "plt.plot(pandas_df.CreationDate, pandas_df.NewQuestions)"
   ]
  },
  {
   "cell_type": "code",
   "execution_count": 39,
   "metadata": {
    "collapsed": false,
    "slideshow": {
     "slide_type": "slide"
    }
   },
   "outputs": [
    {
     "data": {
      "text/plain": [
       "[<matplotlib.lines.Line2D at 0x7ffb3ea66310>]"
      ]
     },
     "execution_count": 39,
     "metadata": {},
     "output_type": "execute_result"
    },
    {
     "data": {
      "image/png": "[encoded data removed]",
      "text/plain": [
       "<matplotlib.figure.Figure at 0x7ffb3ee3c910>"
      ]
     },
     "metadata": {},
     "output_type": "display_data"
    }
   ],
   "source": [
    "%matplotlib inline\n",
    "plt.plot(pandas_df.CreationDate, pandas_df.NewQuestions)"
   ]
  },
  {
   "cell_type": "markdown",
   "metadata": {
    "collapsed": false,
    "slideshow": {
     "slide_type": "fragment"
    }
   },
   "source": [
    "### Observations:\n",
    "\n",
    "It seems we have some nosiy data for the first few days. If we go back to the table we have 3 cells above, we will see that the first few days are infact far apart. Probably that data corresponds to site activity during testing as we know that [AskUbuntu went into public beta 10 October 2010, alongside Ubuntu 10.10](http://blog.stackoverflow.com/2010/10/ubuntu-stack-exchange-is-askubuntu-com/) "
   ]
  },
  {
   "cell_type": "markdown",
   "metadata": {
    "slideshow": {
     "slide_type": "fragment"
    }
   },
   "source": [
    "The peaks occur close to release dates of new versions of Ubuntu. The only major dip occurred on 26th November 2014 when less than 40 questions were posted on the site. I do not know the reason for the same."
   ]
  },
  {
   "cell_type": "markdown",
   "metadata": {
    "slideshow": {
     "slide_type": "slide"
    }
   },
   "source": [
    "This graph seems to be similar to the graph we had for new accounts created each day. Let us pull in that data and plot the 2 graphs together."
   ]
  },
  {
   "cell_type": "code",
   "execution_count": 40,
   "metadata": {
    "collapsed": false,
    "slideshow": {
     "slide_type": "fragment"
    }
   },
   "outputs": [
    {
     "data": {
      "text/plain": [
       "[<matplotlib.lines.Line2D at 0x7ffb3e126350>]"
      ]
     },
     "execution_count": 40,
     "metadata": {},
     "output_type": "execute_result"
    },
    {
     "data": {
      "image/png": "[encoded data removed]",
      "text/plain": [
       "<matplotlib.figure.Figure at 0x7ffb3ea19fd0>"
      ]
     },
     "metadata": {},
     "output_type": "display_data"
    }
   ],
   "source": [
    "%matplotlib inline\n",
    "plt.plot(pandas_df.CreationDate, pandas_df.NewQuestions)"
   ]
  },
  {
   "cell_type": "code",
   "execution_count": 42,
   "metadata": {
    "collapsed": false,
    "slideshow": {
     "slide_type": "slide"
    }
   },
   "outputs": [
    {
     "data": {
      "text/plain": [
       "DataFrame[CreationDate: date, NewAccounts: bigint]"
      ]
     },
     "execution_count": 42,
     "metadata": {},
     "output_type": "execute_result"
    }
   ],
   "source": [
    "user_data_path = \"../../data/\"+data_source+\"/User\"\n",
    "user_creation_date_df = sqlContext.read.load(user_data_path).select(func.to_date(\"CreationDate\")\\\n",
    "                        .alias(\"CreationDate\")).groupBy('CreationDate').count()\\\n",
    "                        .withColumnRenamed(\"count\", \"NewAccounts\")\n",
    "user_creation_date_df"
   ]
  },
  {
   "cell_type": "code",
   "execution_count": 43,
   "metadata": {
    "collapsed": false,
    "slideshow": {
     "slide_type": "subslide"
    }
   },
   "outputs": [
    {
     "name": "stdout",
     "output_type": "stream",
     "text": [
      "+------------+------------+-----------+\n",
      "|CreationDate|NewQuestions|NewAccounts|\n",
      "+------------+------------+-----------+\n",
      "|  2010-08-10|          18|         21|\n",
      "|  2011-02-26|          42|         21|\n",
      "|  2011-09-14|          56|         52|\n",
      "|  2012-04-01|          60|         84|\n",
      "|  2012-10-18|         135|        168|\n",
      "|  2013-05-06|         159|        199|\n",
      "|  2013-11-22|         107|        166|\n",
      "|  2014-06-10|         139|        212|\n",
      "|  2014-12-27|         105|        146|\n",
      "|  2015-07-15|         158|        254|\n",
      "+------------+------------+-----------+\n",
      "only showing top 10 rows\n",
      "\n",
      "Time taken = 20.034126997 seconds.\n"
     ]
    }
   ],
   "source": [
    "start_time = time()\n",
    "joined_data_df = question_creationdate_df.join(user_creation_date_df, \\\n",
    "              aggregated_df[\"CreationDate\"] == user_creation_date_df[\"CreationDate\"])\\\n",
    "              .drop(user_creation_date_df[\"CreationDate\"])\\\n",
    "              .cache()\n",
    "pd_joined_data_df = joined_data_df.toPandas()\n",
    "joined_data_df.show(10)\n",
    "print (\"Time taken =\", time() - start_time, \"seconds.\")"
   ]
  },
  {
   "cell_type": "code",
   "execution_count": 44,
   "metadata": {
    "collapsed": false,
    "slideshow": {
     "slide_type": "subslide"
    }
   },
   "outputs": [
    {
     "name": "stdout",
     "output_type": "stream",
     "text": [
      "Correlation =  0.867978182843\n",
      "Time taken = 0.495841026306 seconds.\n"
     ]
    }
   ],
   "source": [
    "start_time = time()\n",
    "print (\"Correlation = \",joined_data_df.corr(\"NewQuestions\", \"NewAccounts\"))\n",
    "print (\"Time taken =\", time() - start_time, \"seconds.\")"
   ]
  },
  {
   "cell_type": "code",
   "execution_count": 45,
   "metadata": {
    "collapsed": false,
    "slideshow": {
     "slide_type": "skip"
    }
   },
   "outputs": [
    {
     "data": {
      "text/plain": [
       "<matplotlib.axes._subplots.AxesSubplot at 0x7ffb3dfdd910>"
      ]
     },
     "execution_count": 45,
     "metadata": {},
     "output_type": "execute_result"
    },
    {
     "data": {
      "image/png": "[encoded data removed]",
      "text/plain": [
       "<matplotlib.figure.Figure at 0x7ffb3ea06b10>"
      ]
     },
     "metadata": {},
     "output_type": "display_data"
    }
   ],
   "source": [
    "# %matplotlib qt\n",
    "pd_joined_data_df.plot(x = \"CreationDate\")"
   ]
  },
  {
   "cell_type": "code",
   "execution_count": 46,
   "metadata": {
    "collapsed": false,
    "slideshow": {
     "slide_type": "subslide"
    }
   },
   "outputs": [
    {
     "data": {
      "text/plain": [
       "<matplotlib.axes._subplots.AxesSubplot at 0x7ffb3e171150>"
      ]
     },
     "execution_count": 46,
     "metadata": {},
     "output_type": "execute_result"
    },
    {
     "data": {
      "image/png": "[encoded data removed]",
      "text/plain": [
       "<matplotlib.figure.Figure at 0x7ffb3dfa4110>"
      ]
     },
     "metadata": {},
     "output_type": "display_data"
    }
   ],
   "source": [
    "%matplotlib inline\n",
    "pd_joined_data_df.plot(x = \"CreationDate\")"
   ]
  },
  {
   "cell_type": "markdown",
   "metadata": {
    "slideshow": {
     "slide_type": "fragment"
    }
   },
   "source": [
    "### Observation\n",
    "There is a very high positive correlation between the two curves as can be seen from the graph and the calculated values."
   ]
  }
 ],
 "metadata": {
  "celltoolbar": "Slideshow",
  "kernelspec": {
   "display_name": "Python 2",
   "language": "python",
   "name": "python2"
  }
 },
 "nbformat": 4,
 "nbformat_minor": 0
}
