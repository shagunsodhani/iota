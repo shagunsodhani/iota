{
 "cells": [
  {
   "cell_type": "code",
   "execution_count": 1,
   "metadata": {
    "collapsed": false
   },
   "outputs": [
    {
     "name": "stdout",
     "output_type": "stream",
     "text": [
      "Sample Notebook using AskUbuntu User Data.\n"
     ]
    }
   ],
   "source": [
    "print \"Sample Notebook using AskUbuntu User Data.\""
   ]
  },
  {
   "cell_type": "code",
   "execution_count": 2,
   "metadata": {
    "collapsed": false
   },
   "outputs": [
    {
     "name": "stdout",
     "output_type": "stream",
     "text": [
      "All imports go in this cell.\n"
     ]
    }
   ],
   "source": [
    "print \"All imports go in this cell.\"\n",
    "\n",
    "import pyspark.sql.functions as func\n",
    "import matplotlib.pyplot as plt\n",
    "import seaborn as sns\n",
    "from pyspark.mllib.stat import Statistics\n",
    "from pyspark.mllib.linalg import Vectors\n",
    "%matplotlib inline"
   ]
  },
  {
   "cell_type": "code",
   "execution_count": 3,
   "metadata": {
    "collapsed": false
   },
   "outputs": [
    {
     "name": "stdout",
     "output_type": "stream",
     "text": [
      "Check if SparkContext and SQLContext has been created.\n",
      "<pyspark.context.SparkContext object at 0x7f384403c190>\n",
      "<pyspark.sql.context.SQLContext object at 0x7f381ef0a950>\n"
     ]
    }
   ],
   "source": [
    "print \"Check if SparkContext and SQLContext has been created.\"\n",
    "print sc\n",
    "sqlContext = SQLContext(sc)\n",
    "print sqlContext"
   ]
  },
  {
   "cell_type": "code",
   "execution_count": 4,
   "metadata": {
    "collapsed": false
   },
   "outputs": [
    {
     "name": "stdout",
     "output_type": "stream",
     "text": [
      "Load AskUbuntu User Data and cache it.\n"
     ]
    }
   ],
   "source": [
    "print \"Load AskUbuntu User Data and cache it.\"\n",
    "dataPath = \"../data/AskUbuntu/User\"\n",
    "auDF = sqlContext.read.load(dataPath).cache()"
   ]
  },
  {
   "cell_type": "code",
   "execution_count": 5,
   "metadata": {
    "collapsed": false
   },
   "outputs": [
    {
     "name": "stdout",
     "output_type": "stream",
     "text": [
      "Total number of rows in the data = 309295\n",
      "Schema for user data:\n",
      "root\n",
      " |-- Id: long (nullable = true)\n",
      " |-- Reputation: long (nullable = true)\n",
      " |-- CreationDate: string (nullable = true)\n",
      " |-- DisplayName: string (nullable = true)\n",
      " |-- EmailHash: string (nullable = true)\n",
      " |-- lastAccessDate: string (nullable = true)\n",
      " |-- WebsiteUrl: string (nullable = true)\n",
      " |-- Location: string (nullable = true)\n",
      " |-- Age: long (nullable = true)\n",
      " |-- AboutMe: string (nullable = true)\n",
      " |-- Views: long (nullable = true)\n",
      " |-- UpVotes: long (nullable = true)\n",
      " |-- DownVotes: long (nullable = true)\n",
      " |-- AccountId: long (nullable = true)\n",
      "\n"
     ]
    }
   ],
   "source": [
    "print \"Total number of rows in the data = \" + str(auDF.count())\n",
    "print \"Schema for user data:\"\n",
    "auDF.printSchema()"
   ]
  },
  {
   "cell_type": "code",
   "execution_count": 6,
   "metadata": {
    "collapsed": false
   },
   "outputs": [
    {
     "name": "stdout",
     "output_type": "stream",
     "text": [
      "Before using any algorithm from mllib, we transform this data to a collection of vectors.\n",
      "We filter for certain values that we used as default values (in place of missing values) while parsing the xml file.\n",
      "This vectorData consists of rows, where each row is a vector of data we selected above.\n"
     ]
    },
    {
     "data": {
      "text/plain": [
       "[DenseVector([34.0, 1.0, 0.0, 0.0]),\n",
       " DenseVector([21.0, 101.0, 1.0, 0.0]),\n",
       " DenseVector([24.0, 23.0, 3.0, 0.0]),\n",
       " DenseVector([29.0, 1.0, 0.0, 0.0]),\n",
       " DenseVector([36.0, 54.0, 0.0, 0.0])]"
      ]
     },
     "execution_count": 6,
     "metadata": {},
     "output_type": "execute_result"
    }
   ],
   "source": [
    "print \"Before using any algorithm from mllib, we transform this data to a collection of vectors.\"\n",
    "print \"We filter for certain values that we used as default values (in place of missing values) while parsing \\\n",
    "the xml file.\"\n",
    "vectorData = auDF.filter(\"AccountId > -1 and DownVotes > -1 and UpVotes > -1 and Age > -1 \\\n",
    "and Reputation > -9223372036854775808\").select(\"Age\", \"Reputation\", \"UpVotes\", \"DownVotes\")\\\n",
    ".map(lambda data: Vectors.dense([c for c in data]))\n",
    "print \"This vectorData consists of rows, where each row is a vector of data we selected above.\"\n",
    "vectorData.take(5)"
   ]
  },
  {
   "cell_type": "code",
   "execution_count": 7,
   "metadata": {
    "collapsed": false
   },
   "outputs": [
    {
     "name": "stdout",
     "output_type": "stream",
     "text": [
      "Now we can calculate correlation between each pair of columns and see if we find some thing interesting.\n",
      "[[ 1.          0.02262138  0.0164091   0.00365094]\n",
      " [ 0.02262138  1.          0.55932768  0.18192911]\n",
      " [ 0.0164091   0.55932768  1.          0.26070515]\n",
      " [ 0.00365094  0.18192911  0.26070515  1.        ]]\n"
     ]
    }
   ],
   "source": [
    "print \"Now we can calculate correlation between each pair of columns and see if we find some thing interesting.\"\n",
    "print(Statistics.corr(vectorData, method=\"pearson\"))"
   ]
  },
  {
   "cell_type": "code",
   "execution_count": 8,
   "metadata": {
    "collapsed": false
   },
   "outputs": [
    {
     "name": "stdout",
     "output_type": "stream",
     "text": [
      "Notice the high positive correlation between Reputation and Upvotes.\n",
      "Lets drill down further.\n"
     ]
    }
   ],
   "source": [
    "print \"Notice the high positive correlation between Reputation and Upvotes.\"\n",
    "print \"Lets drill down further.\""
   ]
  },
  {
   "cell_type": "code",
   "execution_count": 9,
   "metadata": {
    "collapsed": false
   },
   "outputs": [
    {
     "name": "stdout",
     "output_type": "stream",
     "text": [
      "We filter the data to contain only Reputation and UpVotes and filter for rows with defualt values\n",
      "+-------+-----------------+----------------+\n",
      "|summary|       Reputation|         UpVotes|\n",
      "+-------+-----------------+----------------+\n",
      "|  count|           309284|          309284|\n",
      "|   mean|54.91940417221712| 3.9326023977962|\n",
      "| stddev|691.1368882991297|83.5654785486054|\n",
      "|    min|                1|               0|\n",
      "|    max|           150176|           24318|\n",
      "+-------+-----------------+----------------+\n",
      "\n"
     ]
    }
   ],
   "source": [
    "print \"We filter the data to contain only Reputation and UpVotes and filter for rows with defualt values\"\n",
    "data = auDF.filter(\"AccountId > -1 and UpVotes > -1 and Reputation > -9223372036854775808\")\\\n",
    "    .select(\"Reputation\", \"UpVotes\").cache()\n",
    "data.describe().show()"
   ]
  },
  {
   "cell_type": "code",
   "execution_count": 10,
   "metadata": {
    "collapsed": false
   },
   "outputs": [
    {
     "name": "stdout",
     "output_type": "stream",
     "text": [
      "Notice that this is the second dataframe that we have cached so far. We can check the memory profile for the app at http://localhost:4040/storage.\n",
      "We no longer need the auDF so we will unpersist it and recover some memory.\n",
      "Check that now only one dataframe is cached for the application. http://localhost:4040/storage.\n"
     ]
    }
   ],
   "source": [
    "print \"Notice that this is the second dataframe that we have cached so far. \\\n",
    "We can check the memory profile for the app at http://localhost:4040/storage.\"\n",
    "print \"We no longer need the auDF so we will unpersist it and recover some memory.\"\n",
    "auDF.unpersist()\n",
    "print \"Check that now only one dataframe is cached for the application. http://localhost:4040/storage.\""
   ]
  },
  {
   "cell_type": "code",
   "execution_count": 11,
   "metadata": {
    "collapsed": false
   },
   "outputs": [
    {
     "name": "stdout",
     "output_type": "stream",
     "text": [
      "Spark is good when it comes to computation but not so good at visualisations.Pandas is good at handling in-memory computations and Pandas dataframes can be visualised easily. So we will load a sample of the dataset into Pandas dataframe using the toPandas method.\n"
     ]
    },
    {
     "data": {
      "text/plain": [
       "<seaborn.axisgrid.JointGrid at 0x7f381ee9a0d0>"
      ]
     },
     "execution_count": 11,
     "metadata": {},
     "output_type": "execute_result"
    },
    {
     "data": {
      "image/png": "[encoded data removed]",
      "text/plain": [
       "<matplotlib.figure.Figure at 0x7f381ee9a550>"
      ]
     },
     "metadata": {},
     "output_type": "display_data"
    }
   ],
   "source": [
    "print \"Spark is good when it comes to computation but not so good at visualisations.\\\n",
    "Pandas is good at handling in-memory computations and Pandas dataframes can be visualised easily. \\\n",
    "So we will load a sample of the dataset into Pandas dataframe using the toPandas method.\"\n",
    "pandasDF = data.sample(False, .1).toPandas()\n",
    "sns.jointplot('Reputation', 'UpVotes', data=pandasDF)"
   ]
  },
  {
   "cell_type": "code",
   "execution_count": 12,
   "metadata": {
    "collapsed": false
   },
   "outputs": [
    {
     "name": "stdout",
     "output_type": "stream",
     "text": [
      "This visualistion is unintutive as most of the data is distributed in a narrow zone and the scale is skewed due to outliers. We will plot the values on the log scale.\n",
      "Now the plot looks much better.\n"
     ]
    },
    {
     "data": {
      "image/png": "[encoded data removed]",
      "text/plain": [
       "<matplotlib.figure.Figure at 0x7f381eb0c990>"
      ]
     },
     "metadata": {},
     "output_type": "display_data"
    }
   ],
   "source": [
    "print \"This visualistion is unintutive as most of the data is distributed in a narrow zone and the \\\n",
    "scale is skewed due to outliers. We will plot the values on the log scale.\"\n",
    "logPandasDF = data.select(func.log10(data[\"Reputation\"]), func.log10(data[\"UpVotes\"])).sample(False, .1).toPandas()\n",
    "sns.jointplot('LOG10(Reputation)', 'LOG10(UpVotes)', data=logPandasDF)\n",
    "print \"Now the plot looks much better.\""
   ]
  },
  {
   "cell_type": "code",
   "execution_count": 13,
   "metadata": {
    "collapsed": false
   },
   "outputs": [
    {
     "name": "stdout",
     "output_type": "stream",
     "text": [
      "We will now play with the CreationDate column now.\n",
      "root\n",
      " |-- CreationDate: string (nullable = true)\n",
      "\n",
      "+--------------------+\n",
      "|        CreationDate|\n",
      "+--------------------+\n",
      "|2014-12-29T00:50:...|\n",
      "|2014-12-29T00:52:...|\n",
      "|2014-12-29T01:00:...|\n",
      "|2014-12-29T01:04:...|\n",
      "|2014-12-29T01:13:...|\n",
      "|2014-12-29T01:15:...|\n",
      "|2014-12-29T02:03:...|\n",
      "|2014-12-29T02:05:...|\n",
      "|2014-12-29T02:25:...|\n",
      "|2014-12-29T02:37:...|\n",
      "|2014-12-29T03:03:...|\n",
      "|2014-12-29T03:14:...|\n",
      "|2014-12-29T03:21:...|\n",
      "|2014-12-29T03:25:...|\n",
      "|2014-12-29T03:38:...|\n",
      "|2014-12-29T03:44:...|\n",
      "|2014-12-29T04:25:...|\n",
      "|2014-12-29T04:29:...|\n",
      "|2014-12-29T04:30:...|\n",
      "|2014-12-29T04:48:...|\n",
      "+--------------------+\n",
      "only showing top 20 rows\n",
      "\n"
     ]
    }
   ],
   "source": [
    "print \"We will now play with the CreationDate column now.\"\n",
    "creationDateDF = sqlContext.read.load(dataPath).select(\"CreationDate\").cache()\n",
    "creationDateDF.printSchema()\n",
    "creationDateDF.show()"
   ]
  },
  {
   "cell_type": "code",
   "execution_count": 14,
   "metadata": {
    "collapsed": false
   },
   "outputs": [
    {
     "name": "stdout",
     "output_type": "stream",
     "text": [
      "Note that date was parsed as string. Let us transform it to dateType. For that, we select CreationDate as *date* value.\n",
      "+------------+\n",
      "|CreationDate|\n",
      "+------------+\n",
      "|  2014-12-29|\n",
      "|  2014-12-29|\n",
      "|  2014-12-29|\n",
      "|  2014-12-29|\n",
      "|  2014-12-29|\n",
      "|  2014-12-29|\n",
      "|  2014-12-29|\n",
      "|  2014-12-29|\n",
      "|  2014-12-29|\n",
      "|  2014-12-29|\n",
      "|  2014-12-29|\n",
      "|  2014-12-29|\n",
      "|  2014-12-29|\n",
      "|  2014-12-29|\n",
      "|  2014-12-29|\n",
      "|  2014-12-29|\n",
      "|  2014-12-29|\n",
      "|  2014-12-29|\n",
      "|  2014-12-29|\n",
      "|  2014-12-29|\n",
      "+------------+\n",
      "only showing top 20 rows\n",
      "\n",
      "root\n",
      " |-- CreationDate: date (nullable = true)\n",
      "\n"
     ]
    }
   ],
   "source": [
    "print \"Note that date was parsed as string. Let us transform it to dateType. \\\n",
    "For that, we select CreationDate as *date* value.\"\n",
    "dateDF = creationDateDF.select(func.to_date(creationDateDF[\"CreationDate\"]).alias(\"CreationDate\"))\n",
    "dateDF.show()\n",
    "dateDF.printSchema()"
   ]
  },
  {
   "cell_type": "code",
   "execution_count": 15,
   "metadata": {
    "collapsed": false
   },
   "outputs": [
    {
     "name": "stdout",
     "output_type": "stream",
     "text": [
      "Now we want to count the number of new accounts each day.\n",
      "tempDF maps each date to number of accounts that were created.\n",
      "root\n",
      " |-- _1: struct (nullable = true)\n",
      " |    |-- CreationDate: date (nullable = true)\n",
      " |-- _2: long (nullable = true)\n",
      "\n",
      "Notice that we have lost the column names and that our date column is converted into a struct column. Let us fix these things and sample some data into Pandas dataframe.\n"
     ]
    }
   ],
   "source": [
    "print \"Now we want to count the number of new accounts each day.\"\n",
    "tempDF = dateDF.map(lambda a: (a, 1)).reduceByKey(lambda a, b: a+b).toDF()\n",
    "print \"tempDF maps each date to number of accounts that were created.\"\n",
    "tempDF.printSchema()\n",
    "print \"Notice that we have lost the column names and that our date column is converted into a struct column. \\\n",
    "Let us fix these things and sample some data into Pandas dataframe.\""
   ]
  },
  {
   "cell_type": "code",
   "execution_count": 16,
   "metadata": {
    "collapsed": false
   },
   "outputs": [
    {
     "data": {
      "text/html": [
       "<div>\n",
       "<table border=\"1\" class=\"dataframe\">\n",
       "  <thead>\n",
       "    <tr style=\"text-align: right;\">\n",
       "      <th></th>\n",
       "      <th>CreationDate</th>\n",
       "      <th>NewAccounts</th>\n",
       "    </tr>\n",
       "  </thead>\n",
       "  <tbody>\n",
       "    <tr>\n",
       "      <th>0</th>\n",
       "      <td>2010-07-28</td>\n",
       "      <td>154</td>\n",
       "    </tr>\n",
       "    <tr>\n",
       "      <th>1</th>\n",
       "      <td>2010-07-29</td>\n",
       "      <td>64</td>\n",
       "    </tr>\n",
       "    <tr>\n",
       "      <th>2</th>\n",
       "      <td>2010-07-30</td>\n",
       "      <td>8</td>\n",
       "    </tr>\n",
       "    <tr>\n",
       "      <th>3</th>\n",
       "      <td>2010-07-31</td>\n",
       "      <td>3</td>\n",
       "    </tr>\n",
       "    <tr>\n",
       "      <th>4</th>\n",
       "      <td>2010-08-02</td>\n",
       "      <td>12</td>\n",
       "    </tr>\n",
       "    <tr>\n",
       "      <th>5</th>\n",
       "      <td>2010-08-03</td>\n",
       "      <td>16</td>\n",
       "    </tr>\n",
       "    <tr>\n",
       "      <th>6</th>\n",
       "      <td>2010-08-04</td>\n",
       "      <td>147</td>\n",
       "    </tr>\n",
       "    <tr>\n",
       "      <th>7</th>\n",
       "      <td>2010-08-05</td>\n",
       "      <td>181</td>\n",
       "    </tr>\n",
       "    <tr>\n",
       "      <th>8</th>\n",
       "      <td>2010-08-06</td>\n",
       "      <td>74</td>\n",
       "    </tr>\n",
       "    <tr>\n",
       "      <th>9</th>\n",
       "      <td>2010-08-07</td>\n",
       "      <td>29</td>\n",
       "    </tr>\n",
       "    <tr>\n",
       "      <th>10</th>\n",
       "      <td>2010-08-08</td>\n",
       "      <td>25</td>\n",
       "    </tr>\n",
       "    <tr>\n",
       "      <th>11</th>\n",
       "      <td>2010-08-09</td>\n",
       "      <td>44</td>\n",
       "    </tr>\n",
       "    <tr>\n",
       "      <th>12</th>\n",
       "      <td>2010-08-10</td>\n",
       "      <td>21</td>\n",
       "    </tr>\n",
       "    <tr>\n",
       "      <th>13</th>\n",
       "      <td>2010-08-11</td>\n",
       "      <td>33</td>\n",
       "    </tr>\n",
       "    <tr>\n",
       "      <th>14</th>\n",
       "      <td>2010-08-12</td>\n",
       "      <td>31</td>\n",
       "    </tr>\n",
       "    <tr>\n",
       "      <th>15</th>\n",
       "      <td>2010-08-13</td>\n",
       "      <td>31</td>\n",
       "    </tr>\n",
       "    <tr>\n",
       "      <th>16</th>\n",
       "      <td>2010-08-14</td>\n",
       "      <td>60</td>\n",
       "    </tr>\n",
       "    <tr>\n",
       "      <th>17</th>\n",
       "      <td>2010-08-15</td>\n",
       "      <td>16</td>\n",
       "    </tr>\n",
       "    <tr>\n",
       "      <th>18</th>\n",
       "      <td>2010-08-16</td>\n",
       "      <td>40</td>\n",
       "    </tr>\n",
       "    <tr>\n",
       "      <th>19</th>\n",
       "      <td>2010-08-17</td>\n",
       "      <td>37</td>\n",
       "    </tr>\n",
       "    <tr>\n",
       "      <th>20</th>\n",
       "      <td>2010-08-18</td>\n",
       "      <td>37</td>\n",
       "    </tr>\n",
       "    <tr>\n",
       "      <th>21</th>\n",
       "      <td>2010-08-19</td>\n",
       "      <td>28</td>\n",
       "    </tr>\n",
       "    <tr>\n",
       "      <th>22</th>\n",
       "      <td>2010-08-20</td>\n",
       "      <td>71</td>\n",
       "    </tr>\n",
       "    <tr>\n",
       "      <th>23</th>\n",
       "      <td>2010-08-21</td>\n",
       "      <td>25</td>\n",
       "    </tr>\n",
       "    <tr>\n",
       "      <th>24</th>\n",
       "      <td>2010-08-22</td>\n",
       "      <td>25</td>\n",
       "    </tr>\n",
       "    <tr>\n",
       "      <th>25</th>\n",
       "      <td>2010-08-23</td>\n",
       "      <td>25</td>\n",
       "    </tr>\n",
       "    <tr>\n",
       "      <th>26</th>\n",
       "      <td>2010-08-24</td>\n",
       "      <td>22</td>\n",
       "    </tr>\n",
       "    <tr>\n",
       "      <th>27</th>\n",
       "      <td>2010-08-25</td>\n",
       "      <td>18</td>\n",
       "    </tr>\n",
       "    <tr>\n",
       "      <th>28</th>\n",
       "      <td>2010-08-26</td>\n",
       "      <td>17</td>\n",
       "    </tr>\n",
       "    <tr>\n",
       "      <th>29</th>\n",
       "      <td>2010-08-27</td>\n",
       "      <td>8</td>\n",
       "    </tr>\n",
       "    <tr>\n",
       "      <th>...</th>\n",
       "      <td>...</td>\n",
       "      <td>...</td>\n",
       "    </tr>\n",
       "    <tr>\n",
       "      <th>1955</th>\n",
       "      <td>2015-12-05</td>\n",
       "      <td>270</td>\n",
       "    </tr>\n",
       "    <tr>\n",
       "      <th>1956</th>\n",
       "      <td>2015-12-06</td>\n",
       "      <td>273</td>\n",
       "    </tr>\n",
       "    <tr>\n",
       "      <th>1957</th>\n",
       "      <td>2015-12-07</td>\n",
       "      <td>343</td>\n",
       "    </tr>\n",
       "    <tr>\n",
       "      <th>1958</th>\n",
       "      <td>2015-12-08</td>\n",
       "      <td>354</td>\n",
       "    </tr>\n",
       "    <tr>\n",
       "      <th>1959</th>\n",
       "      <td>2015-12-09</td>\n",
       "      <td>384</td>\n",
       "    </tr>\n",
       "    <tr>\n",
       "      <th>1960</th>\n",
       "      <td>2015-12-10</td>\n",
       "      <td>349</td>\n",
       "    </tr>\n",
       "    <tr>\n",
       "      <th>1961</th>\n",
       "      <td>2015-12-11</td>\n",
       "      <td>343</td>\n",
       "    </tr>\n",
       "    <tr>\n",
       "      <th>1962</th>\n",
       "      <td>2015-12-12</td>\n",
       "      <td>278</td>\n",
       "    </tr>\n",
       "    <tr>\n",
       "      <th>1963</th>\n",
       "      <td>2015-12-13</td>\n",
       "      <td>279</td>\n",
       "    </tr>\n",
       "    <tr>\n",
       "      <th>1964</th>\n",
       "      <td>2015-12-14</td>\n",
       "      <td>323</td>\n",
       "    </tr>\n",
       "    <tr>\n",
       "      <th>1965</th>\n",
       "      <td>2015-12-15</td>\n",
       "      <td>355</td>\n",
       "    </tr>\n",
       "    <tr>\n",
       "      <th>1966</th>\n",
       "      <td>2015-12-16</td>\n",
       "      <td>348</td>\n",
       "    </tr>\n",
       "    <tr>\n",
       "      <th>1967</th>\n",
       "      <td>2015-12-17</td>\n",
       "      <td>342</td>\n",
       "    </tr>\n",
       "    <tr>\n",
       "      <th>1968</th>\n",
       "      <td>2015-12-18</td>\n",
       "      <td>340</td>\n",
       "    </tr>\n",
       "    <tr>\n",
       "      <th>1969</th>\n",
       "      <td>2015-12-19</td>\n",
       "      <td>307</td>\n",
       "    </tr>\n",
       "    <tr>\n",
       "      <th>1970</th>\n",
       "      <td>2015-12-20</td>\n",
       "      <td>297</td>\n",
       "    </tr>\n",
       "    <tr>\n",
       "      <th>1971</th>\n",
       "      <td>2015-12-21</td>\n",
       "      <td>326</td>\n",
       "    </tr>\n",
       "    <tr>\n",
       "      <th>1972</th>\n",
       "      <td>2015-12-22</td>\n",
       "      <td>347</td>\n",
       "    </tr>\n",
       "    <tr>\n",
       "      <th>1973</th>\n",
       "      <td>2015-12-23</td>\n",
       "      <td>367</td>\n",
       "    </tr>\n",
       "    <tr>\n",
       "      <th>1974</th>\n",
       "      <td>2015-12-24</td>\n",
       "      <td>289</td>\n",
       "    </tr>\n",
       "    <tr>\n",
       "      <th>1975</th>\n",
       "      <td>2015-12-25</td>\n",
       "      <td>226</td>\n",
       "    </tr>\n",
       "    <tr>\n",
       "      <th>1976</th>\n",
       "      <td>2015-12-26</td>\n",
       "      <td>240</td>\n",
       "    </tr>\n",
       "    <tr>\n",
       "      <th>1977</th>\n",
       "      <td>2015-12-27</td>\n",
       "      <td>248</td>\n",
       "    </tr>\n",
       "    <tr>\n",
       "      <th>1978</th>\n",
       "      <td>2015-12-28</td>\n",
       "      <td>332</td>\n",
       "    </tr>\n",
       "    <tr>\n",
       "      <th>1979</th>\n",
       "      <td>2015-12-29</td>\n",
       "      <td>333</td>\n",
       "    </tr>\n",
       "    <tr>\n",
       "      <th>1980</th>\n",
       "      <td>2015-12-30</td>\n",
       "      <td>360</td>\n",
       "    </tr>\n",
       "    <tr>\n",
       "      <th>1981</th>\n",
       "      <td>2015-12-31</td>\n",
       "      <td>272</td>\n",
       "    </tr>\n",
       "    <tr>\n",
       "      <th>1982</th>\n",
       "      <td>2016-01-01</td>\n",
       "      <td>247</td>\n",
       "    </tr>\n",
       "    <tr>\n",
       "      <th>1983</th>\n",
       "      <td>2016-01-02</td>\n",
       "      <td>283</td>\n",
       "    </tr>\n",
       "    <tr>\n",
       "      <th>1984</th>\n",
       "      <td>2016-01-03</td>\n",
       "      <td>43</td>\n",
       "    </tr>\n",
       "  </tbody>\n",
       "</table>\n",
       "<p>1985 rows × 2 columns</p>\n",
       "</div>"
      ],
      "text/plain": [
       "     CreationDate  NewAccounts\n",
       "0      2010-07-28          154\n",
       "1      2010-07-29           64\n",
       "2      2010-07-30            8\n",
       "3      2010-07-31            3\n",
       "4      2010-08-02           12\n",
       "5      2010-08-03           16\n",
       "6      2010-08-04          147\n",
       "7      2010-08-05          181\n",
       "8      2010-08-06           74\n",
       "9      2010-08-07           29\n",
       "10     2010-08-08           25\n",
       "11     2010-08-09           44\n",
       "12     2010-08-10           21\n",
       "13     2010-08-11           33\n",
       "14     2010-08-12           31\n",
       "15     2010-08-13           31\n",
       "16     2010-08-14           60\n",
       "17     2010-08-15           16\n",
       "18     2010-08-16           40\n",
       "19     2010-08-17           37\n",
       "20     2010-08-18           37\n",
       "21     2010-08-19           28\n",
       "22     2010-08-20           71\n",
       "23     2010-08-21           25\n",
       "24     2010-08-22           25\n",
       "25     2010-08-23           25\n",
       "26     2010-08-24           22\n",
       "27     2010-08-25           18\n",
       "28     2010-08-26           17\n",
       "29     2010-08-27            8\n",
       "...           ...          ...\n",
       "1955   2015-12-05          270\n",
       "1956   2015-12-06          273\n",
       "1957   2015-12-07          343\n",
       "1958   2015-12-08          354\n",
       "1959   2015-12-09          384\n",
       "1960   2015-12-10          349\n",
       "1961   2015-12-11          343\n",
       "1962   2015-12-12          278\n",
       "1963   2015-12-13          279\n",
       "1964   2015-12-14          323\n",
       "1965   2015-12-15          355\n",
       "1966   2015-12-16          348\n",
       "1967   2015-12-17          342\n",
       "1968   2015-12-18          340\n",
       "1969   2015-12-19          307\n",
       "1970   2015-12-20          297\n",
       "1971   2015-12-21          326\n",
       "1972   2015-12-22          347\n",
       "1973   2015-12-23          367\n",
       "1974   2015-12-24          289\n",
       "1975   2015-12-25          226\n",
       "1976   2015-12-26          240\n",
       "1977   2015-12-27          248\n",
       "1978   2015-12-28          332\n",
       "1979   2015-12-29          333\n",
       "1980   2015-12-30          360\n",
       "1981   2015-12-31          272\n",
       "1982   2016-01-01          247\n",
       "1983   2016-01-02          283\n",
       "1984   2016-01-03           43\n",
       "\n",
       "[1985 rows x 2 columns]"
      ]
     },
     "execution_count": 16,
     "metadata": {},
     "output_type": "execute_result"
    }
   ],
   "source": [
    "pandasDF = tempDF.select(tempDF[\"_1\"].getField(\"CreationDate\").alias(\"CreationDate\"), tempDF[\"_2\"].alias(\"NewAccounts\"))\\\n",
    ".orderBy(func.asc(\"CreationDate\")).toPandas()\n",
    "pandasDF"
   ]
  },
  {
   "cell_type": "code",
   "execution_count": 17,
   "metadata": {
    "collapsed": false
   },
   "outputs": [
    {
     "name": "stdout",
     "output_type": "stream",
     "text": [
      "Let us plot this data and see if there is any interesting observation.\n"
     ]
    },
    {
     "data": {
      "text/plain": [
       "[<matplotlib.lines.Line2D at 0x7f381e5b5490>]"
      ]
     },
     "execution_count": 17,
     "metadata": {},
     "output_type": "execute_result"
    },
    {
     "data": {
      "image/png": "[encoded data removed]",
      "text/plain": [
       "<matplotlib.figure.Figure at 0x7f381ebadd50>"
      ]
     },
     "metadata": {},
     "output_type": "display_data"
    }
   ],
   "source": [
    "print \"Let us plot this data and see if there is any interesting observation.\"\n",
    "plt.plot(pandasDF.CreationDate, pandasDF.NewAccounts)"
   ]
  },
  {
   "cell_type": "code",
   "execution_count": 18,
   "metadata": {
    "collapsed": false
   },
   "outputs": [
    {
     "name": "stdout",
     "output_type": "stream",
     "text": [
      "Interesting! We can see a spike. If we zoom into the data, we see the date of the spike as 25th September,2014 when around 1080 new users joined AskUbuntu.\n",
      "To open the plot in interactive mode, uncomment the code below and run the cell again.\n"
     ]
    }
   ],
   "source": [
    "print \"Interesting! We can see a spike. If we zoom into the data, we see the date of the spike as \\\n",
    "25th September,2014 when around 1080 new users joined AskUbuntu.\"\n",
    "print \"To open the plot in interactive mode, uncomment the code below and run the cell again.\"\n",
    "# %matplotlib qt\n",
    "# plt.plot(pandasDF.CreationDate, pandasDF.NewAccounts)"
   ]
  },
  {
   "cell_type": "code",
   "execution_count": 19,
   "metadata": {
    "collapsed": false
   },
   "outputs": [
    {
     "name": "stdout",
     "output_type": "stream",
     "text": [
      "What else can we do with this data? Maybe plot all the users on Google Maps or use the email hashes to relate user activity across the StackExchange Network.\n"
     ]
    }
   ],
   "source": [
    "print \"What else can we do with this data? \\\n",
    "Maybe plot all the users on Google Maps or use the email hashes to relate user activity across the \\\n",
    "StackExchange Network.\""
   ]
  }
 ],
 "metadata": {
  "kernelspec": {
   "display_name": "Python 2",
   "language": "python",
   "name": "python2"
  },
  "language_info": {
   "codemirror_mode": {
    "name": "ipython",
    "version": 2
   },
   "file_extension": ".py",
   "mimetype": "text/x-python",
   "name": "python",
   "nbconvert_exporter": "python",
   "pygments_lexer": "ipython2",
   "version": "2.7.6"
  }
 },
 "nbformat": 4,
 "nbformat_minor": 0
}
